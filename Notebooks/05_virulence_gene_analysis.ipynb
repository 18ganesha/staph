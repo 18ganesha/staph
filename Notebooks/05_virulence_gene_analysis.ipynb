{
 "cells": [
  {
   "cell_type": "markdown",
   "metadata": {},
   "source": [
    "# Identifying gene difference content in closely related strains"
   ]
  },
  {
   "cell_type": "code",
   "execution_count": 86,
   "metadata": {},
   "outputs": [],
   "source": [
    "import numpy as np\n",
    "import pandas as pd\n",
    "import matplotlib.pyplot as plt\n",
    "from matplotlib.pyplot import figure\n",
    "import statistics"
   ]
  },
  {
   "cell_type": "code",
   "execution_count": 87,
   "metadata": {},
   "outputs": [
    {
     "name": "stderr",
     "output_type": "stream",
     "text": [
      "C:\\Users\\jojoa\\.conda\\envs\\disperse_env\\lib\\site-packages\\IPython\\core\\interactiveshell.py:3165: DtypeWarning: Columns (14,15,16,17,18,19,20,21,22,23,24,25,26,27,28,29,30,31,32,33,34,35,36,37,38,39,40,41,42,43,44,45,46,47,48,49,50,51,52,53,54,55,56,57,58,59,60,61,62,63,64,65,66,68,69,70,71,72,73,74,75,76,77,78,79,80,81,82,83,84,85,86,87,88,89,90,91,92,93,94,95,96,97,98,99,100,101,102,103,104,105,106,107,108,109,110,111,112,113) have mixed types.Specify dtype option on import or set low_memory=False.\n",
      "  has_raised = await self.run_ast_nodes(code_ast.body, cell_name,\n"
     ]
    }
   ],
   "source": [
    "df_cr = pd.read_csv(r\"C:\\Users\\jojoa\\GitHub\\staph\\data\\df_cr_final.csv\")\n",
    "df_cr=df_cr.set_index('Unnamed: 0')\n",
    "df_pa=pd.read_csv(r\"C:\\Users\\jojoa\\GitHub\\staph\\data\\binary_matrix.csv\")\n",
    "df_pa=df_pa.set_index('Unnamed: 0')\n",
    "df_gene=pd.read_csv(r\"C:\\Users\\jojoa\\GitHub\\staph\\data\\presence_absence.csv\") #dataframe with gene names\n",
    "df_pairs=pd.read_csv(r\"C:\\Users\\jojoa\\GitHub\\staph\\data\\strain_pairs.csv\",skipinitialspace=True)"
   ]
  },
  {
   "cell_type": "code",
   "execution_count": 88,
   "metadata": {},
   "outputs": [],
   "source": [
    "df_pairs['Strain 1'] = df_pairs['Strain 1'].apply(str)"
   ]
  },
  {
   "cell_type": "code",
   "execution_count": 89,
   "metadata": {},
   "outputs": [
    {
     "data": {
      "text/plain": [
       "0      [1886 1939 1969 2080 2083 2093 2120 2161 2165 ...\n",
       "1      [1886 1939 2027 2042 2083 2093 2120 2165 2177 ...\n",
       "2      [1939 2080 2083 2093 2120 2165 2177 2221 2232 ...\n",
       "3      [1939 1994 2027 2083 2093 2120 2123 2161 2165 ...\n",
       "4      [1939 2080 2083 2093 2120 2154 2162 2165 2177 ...\n",
       "                             ...                        \n",
       "349    [1988 2039 2042 2055 2075 2076 2077 2099 2100 ...\n",
       "350    [ 2055  2075  2080  2100  2106  2132  2141  21...\n",
       "351    [1988 2037 2055 2075 2085 2100 2101 2103 2106 ...\n",
       "352    [ 1902  1989  2034  2080  2083  2245  2249  22...\n",
       "353    [ 1578  1587  1628  1636  1645  1655  1656  16...\n",
       "Name: Gene Difference, Length: 354, dtype: object"
      ]
     },
     "execution_count": 89,
     "metadata": {},
     "output_type": "execute_result"
    }
   ],
   "source": [
    "df_pairs[\"Gene Difference\"].map(str.strip)"
   ]
  },
  {
   "cell_type": "markdown",
   "metadata": {},
   "source": [
    "Let's look at virulence genes and if they appear in our closely related strains."
   ]
  },
  {
   "cell_type": "code",
   "execution_count": 90,
   "metadata": {},
   "outputs": [
    {
     "data": {
      "text/plain": [
       "Gene                               lukEv\n",
       "Non.unique.Gene.name               lukEv\n",
       "Annotation              Leucotoxin LukEv\n",
       "No..isolates                          10\n",
       "No..sequences                         10\n",
       "                              ...       \n",
       "8838                                 NaN\n",
       "9294                                 NaN\n",
       "9330                                 NaN\n",
       "9453                                 NaN\n",
       "9594                                 NaN\n",
       "Name: 8810, Length: 114, dtype: object"
      ]
     },
     "execution_count": 90,
     "metadata": {},
     "output_type": "execute_result"
    }
   ],
   "source": [
    "df_gene.loc[8810] #index for lukEv"
   ]
  },
  {
   "cell_type": "code",
   "execution_count": 91,
   "metadata": {},
   "outputs": [
    {
     "data": {
      "text/plain": [
       "7     False\n",
       "8     False\n",
       "9     False\n",
       "10    False\n",
       "Name: Gene Difference, dtype: bool"
      ]
     },
     "execution_count": 91,
     "metadata": {},
     "output_type": "execute_result"
    }
   ],
   "source": [
    "df_pairs[df_pairs['Strain 1'].str.contains('1053')]['Gene Difference'].str.contains('8810')"
   ]
  },
  {
   "cell_type": "markdown",
   "metadata": {},
   "source": [
    "None of the pairs with strain 1053 include the virulence gene in the gene difference nor is the gene apparent in the individual strains."
   ]
  },
  {
   "cell_type": "markdown",
   "metadata": {},
   "source": [
    "We can take a look at lukD with index 2241. "
   ]
  },
  {
   "cell_type": "code",
   "execution_count": 120,
   "metadata": {},
   "outputs": [
    {
     "data": {
      "text/plain": [
       "Gene                    lukDv~~~lukDv_1~~~lukDv_2~~~lukDv_3\n",
       "Non.unique.Gene.name          lukDv;lukDv_1;lukDv_2;lukDv_3\n",
       "Annotation                                 Leucotoxin LukDv\n",
       "No..isolates                                           5922\n",
       "No..sequences                                          5947\n",
       "                                       ...                 \n",
       "8838                                         DFGAIILO_01873\n",
       "9294                                         CONGGGDG_02645\n",
       "9330                                         JHCBMMJP_01854\n",
       "9453                                         DANGLEED_01946\n",
       "9594                                         LABPOFMO_01201\n",
       "Name: 2239, Length: 114, dtype: object"
      ]
     },
     "execution_count": 120,
     "metadata": {},
     "output_type": "execute_result"
    }
   ],
   "source": [
    "df_gene.loc[2239] #index for lukEv"
   ]
  },
  {
   "cell_type": "code",
   "execution_count": 121,
   "metadata": {},
   "outputs": [
    {
     "data": {
      "text/plain": [
       "7     True\n",
       "8     True\n",
       "9     True\n",
       "10    True\n",
       "Name: Gene Difference, dtype: bool"
      ]
     },
     "execution_count": 121,
     "metadata": {},
     "output_type": "execute_result"
    }
   ],
   "source": [
    "df_pairs[df_pairs['Strain 1'].str.contains('1053')]['Gene Difference'].str.contains('2239')"
   ]
  },
  {
   "cell_type": "code",
   "execution_count": 154,
   "metadata": {},
   "outputs": [
    {
     "data": {
      "text/plain": [
       "'BBDOGHJD_02217'"
      ]
     },
     "execution_count": 154,
     "metadata": {},
     "output_type": "execute_result"
    }
   ],
   "source": [
    "df_gene['1053'][2239]"
   ]
  },
  {
   "cell_type": "markdown",
   "metadata": {},
   "source": [
    "We can look at ess D with index 2283."
   ]
  },
  {
   "cell_type": "code",
   "execution_count": 122,
   "metadata": {},
   "outputs": [
    {
     "data": {
      "text/plain": [
       "Gene                                      essD~~~essD_2~~~essD_1~~~essD_3\n",
       "Non.unique.Gene.name                           essD;essD_2;essD_1;;essD_3\n",
       "Annotation              ESAT-6 secretion machinery protein EssD;hypoth...\n",
       "No..isolates                                                         5440\n",
       "No..sequences                                                        5543\n",
       "                                              ...                        \n",
       "8838                                                       DFGAIILO_00866\n",
       "9294                                                                  NaN\n",
       "9330                                                       JHCBMMJP_01123\n",
       "9453                                                       DANGLEED_00630\n",
       "9594                                                       LABPOFMO_01019\n",
       "Name: 2281, Length: 114, dtype: object"
      ]
     },
     "execution_count": 122,
     "metadata": {},
     "output_type": "execute_result"
    }
   ],
   "source": [
    "df_gene.loc[2281] #index for lukEv"
   ]
  },
  {
   "cell_type": "code",
   "execution_count": 123,
   "metadata": {},
   "outputs": [
    {
     "data": {
      "text/plain": [
       "7     True\n",
       "8     True\n",
       "9     True\n",
       "10    True\n",
       "Name: Gene Difference, dtype: bool"
      ]
     },
     "execution_count": 123,
     "metadata": {},
     "output_type": "execute_result"
    }
   ],
   "source": [
    "df_pairs[df_pairs['Strain 1'].str.contains('1053')]['Gene Difference'].str.contains('2281')"
   ]
  },
  {
   "cell_type": "code",
   "execution_count": 155,
   "metadata": {},
   "outputs": [
    {
     "data": {
      "text/plain": [
       "'BBDOGHJD_00237'"
      ]
     },
     "execution_count": 155,
     "metadata": {},
     "output_type": "execute_result"
    }
   ],
   "source": [
    "df_gene['1053'][2281]"
   ]
  },
  {
   "cell_type": "markdown",
   "metadata": {},
   "source": [
    "We can take a look at esxD index 2284."
   ]
  },
  {
   "cell_type": "code",
   "execution_count": 124,
   "metadata": {},
   "outputs": [
    {
     "data": {
      "text/plain": [
       "Gene                                                               esxD\n",
       "Non.unique.Gene.name                                               esxD\n",
       "Annotation              ESAT-6 secretion system extracellular protein D\n",
       "No..isolates                                                       5436\n",
       "No..sequences                                                      5436\n",
       "                                             ...                       \n",
       "8838                                                     DFGAIILO_00867\n",
       "9294                                                                NaN\n",
       "9330                                                     JHCBMMJP_01122\n",
       "9453                                                     DANGLEED_00631\n",
       "9594                                                     LABPOFMO_01018\n",
       "Name: 2282, Length: 114, dtype: object"
      ]
     },
     "execution_count": 124,
     "metadata": {},
     "output_type": "execute_result"
    }
   ],
   "source": [
    "df_gene.loc[2282] #index for lukEv"
   ]
  },
  {
   "cell_type": "code",
   "execution_count": 125,
   "metadata": {},
   "outputs": [
    {
     "data": {
      "text/plain": [
       "7     True\n",
       "8     True\n",
       "9     True\n",
       "10    True\n",
       "Name: Gene Difference, dtype: bool"
      ]
     },
     "execution_count": 125,
     "metadata": {},
     "output_type": "execute_result"
    }
   ],
   "source": [
    "df_pairs[df_pairs['Strain 1'].str.contains('1053')]['Gene Difference'].str.contains('2282')"
   ]
  },
  {
   "cell_type": "code",
   "execution_count": 156,
   "metadata": {},
   "outputs": [
    {
     "data": {
      "text/plain": [
       "'BBDOGHJD_00236'"
      ]
     },
     "execution_count": 156,
     "metadata": {},
     "output_type": "execute_result"
    }
   ],
   "source": [
    "df_gene['1053'][2282]"
   ]
  },
  {
   "cell_type": "markdown",
   "metadata": {},
   "source": [
    "We can look at esxB with index 25521."
   ]
  },
  {
   "cell_type": "code",
   "execution_count": 126,
   "metadata": {},
   "outputs": [
    {
     "data": {
      "text/plain": [
       "Gene                                                             esxB_2\n",
       "Non.unique.Gene.name                                             esxB_2\n",
       "Annotation              ESAT-6 secretion system extracellular protein B\n",
       "No..isolates                                                          1\n",
       "No..sequences                                                         1\n",
       "                                             ...                       \n",
       "8838                                                                NaN\n",
       "9294                                                                NaN\n",
       "9330                                                                NaN\n",
       "9453                                                                NaN\n",
       "9594                                                                NaN\n",
       "Name: 25519, Length: 114, dtype: object"
      ]
     },
     "execution_count": 126,
     "metadata": {},
     "output_type": "execute_result"
    }
   ],
   "source": [
    "df_gene.loc[25519] #index for lukEv"
   ]
  },
  {
   "cell_type": "code",
   "execution_count": 127,
   "metadata": {},
   "outputs": [
    {
     "data": {
      "text/plain": [
       "7     False\n",
       "8     False\n",
       "9     False\n",
       "10    False\n",
       "Name: Gene Difference, dtype: bool"
      ]
     },
     "execution_count": 127,
     "metadata": {},
     "output_type": "execute_result"
    }
   ],
   "source": [
    "df_pairs[df_pairs['Strain 1'].str.contains('1053')]['Gene Difference'].str.contains('25519')"
   ]
  },
  {
   "cell_type": "markdown",
   "metadata": {},
   "source": [
    "ect, 7601"
   ]
  },
  {
   "cell_type": "code",
   "execution_count": 128,
   "metadata": {},
   "outputs": [
    {
     "data": {
      "text/plain": [
       "Gene                                           group_22048\n",
       "Non.unique.Gene.name                                  ectT\n",
       "Annotation              Ectoine/hydroxyectoine transporter\n",
       "No..isolates                                            11\n",
       "No..sequences                                           11\n",
       "                                       ...                \n",
       "8838                                                   NaN\n",
       "9294                                                   NaN\n",
       "9330                                                   NaN\n",
       "9453                                                   NaN\n",
       "9594                                                   NaN\n",
       "Name: 7599, Length: 114, dtype: object"
      ]
     },
     "execution_count": 128,
     "metadata": {},
     "output_type": "execute_result"
    }
   ],
   "source": [
    "df_gene.loc[7599] #index for lukEv"
   ]
  },
  {
   "cell_type": "code",
   "execution_count": 129,
   "metadata": {},
   "outputs": [
    {
     "data": {
      "text/plain": [
       "7     False\n",
       "8     False\n",
       "9     False\n",
       "10    False\n",
       "Name: Gene Difference, dtype: bool"
      ]
     },
     "execution_count": 129,
     "metadata": {},
     "output_type": "execute_result"
    }
   ],
   "source": [
    "df_pairs[df_pairs['Strain 1'].str.contains('1053')]['Gene Difference'].str.contains('7599')"
   ]
  },
  {
   "cell_type": "markdown",
   "metadata": {},
   "source": [
    "11644 ectT"
   ]
  },
  {
   "cell_type": "code",
   "execution_count": 130,
   "metadata": {},
   "outputs": [
    {
     "data": {
      "text/plain": [
       "Gene                                ectT_2~~~ectT_1~~~ectT\n",
       "Non.unique.Gene.name                    ectT_2;ectT_1;ectT\n",
       "Annotation              Ectoine/hydroxyectoine transporter\n",
       "No..isolates                                             8\n",
       "No..sequences                                            9\n",
       "                                       ...                \n",
       "8838                                                   NaN\n",
       "9294                                                   NaN\n",
       "9330                                                   NaN\n",
       "9453                                                   NaN\n",
       "9594                                                   NaN\n",
       "Name: 11642, Length: 114, dtype: object"
      ]
     },
     "execution_count": 130,
     "metadata": {},
     "output_type": "execute_result"
    }
   ],
   "source": [
    "df_gene.loc[11642] #index for lukEv"
   ]
  },
  {
   "cell_type": "code",
   "execution_count": 131,
   "metadata": {},
   "outputs": [
    {
     "data": {
      "text/plain": [
       "7     False\n",
       "8     False\n",
       "9     False\n",
       "10    False\n",
       "Name: Gene Difference, dtype: bool"
      ]
     },
     "execution_count": 131,
     "metadata": {},
     "output_type": "execute_result"
    }
   ],
   "source": [
    "df_pairs[df_pairs['Strain 1'].str.contains('1053')]['Gene Difference'].str.contains('11642')"
   ]
  },
  {
   "cell_type": "markdown",
   "metadata": {},
   "source": [
    "10858 ectT"
   ]
  },
  {
   "cell_type": "code",
   "execution_count": 132,
   "metadata": {},
   "outputs": [
    {
     "data": {
      "text/plain": [
       "Gene                                           group_12556\n",
       "Non.unique.Gene.name                                  ectT\n",
       "Annotation              Ectoine/hydroxyectoine transporter\n",
       "No..isolates                                             9\n",
       "No..sequences                                            9\n",
       "                                       ...                \n",
       "8838                                                   NaN\n",
       "9294                                                   NaN\n",
       "9330                                                   NaN\n",
       "9453                                                   NaN\n",
       "9594                                                   NaN\n",
       "Name: 10856, Length: 114, dtype: object"
      ]
     },
     "execution_count": 132,
     "metadata": {},
     "output_type": "execute_result"
    }
   ],
   "source": [
    "df_gene.loc[10856] #index for lukEv"
   ]
  },
  {
   "cell_type": "code",
   "execution_count": 133,
   "metadata": {},
   "outputs": [
    {
     "data": {
      "text/plain": [
       "7     False\n",
       "8     False\n",
       "9     False\n",
       "10    False\n",
       "Name: Gene Difference, dtype: bool"
      ]
     },
     "execution_count": 133,
     "metadata": {},
     "output_type": "execute_result"
    }
   ],
   "source": [
    "df_pairs[df_pairs['Strain 1'].str.contains('1053')]['Gene Difference'].str.contains('10856')"
   ]
  },
  {
   "cell_type": "markdown",
   "metadata": {},
   "source": [
    "splB 2333"
   ]
  },
  {
   "cell_type": "code",
   "execution_count": 134,
   "metadata": {},
   "outputs": [
    {
     "data": {
      "text/plain": [
       "Gene                    splB~~~splB_2~~~splB_1\n",
       "Non.unique.Gene.name        splB;splB_2;splB_1\n",
       "Annotation                Serine protease SplB\n",
       "No..isolates                              5024\n",
       "No..sequences                             5026\n",
       "                                 ...          \n",
       "8838                            DFGAIILO_01884\n",
       "9294                            CONGGGDG_02633\n",
       "9330                            JHCBMMJP_01843\n",
       "9453                            DANGLEED_01957\n",
       "9594                            LABPOFMO_01195\n",
       "Name: 2331, Length: 114, dtype: object"
      ]
     },
     "execution_count": 134,
     "metadata": {},
     "output_type": "execute_result"
    }
   ],
   "source": [
    "df_gene.loc[2331] #index for lukEv"
   ]
  },
  {
   "cell_type": "code",
   "execution_count": 135,
   "metadata": {},
   "outputs": [
    {
     "data": {
      "text/plain": [
       "7     False\n",
       "8     False\n",
       "9     False\n",
       "10    False\n",
       "Name: Gene Difference, dtype: bool"
      ]
     },
     "execution_count": 135,
     "metadata": {},
     "output_type": "execute_result"
    }
   ],
   "source": [
    "df_pairs[df_pairs['Strain 1'].str.contains('1053')]['Gene Difference'].str.contains('2331')"
   ]
  },
  {
   "cell_type": "markdown",
   "metadata": {},
   "source": [
    "splC 3100"
   ]
  },
  {
   "cell_type": "code",
   "execution_count": 136,
   "metadata": {},
   "outputs": [
    {
     "data": {
      "text/plain": [
       "Gene                    splC~~~splC_1~~~splC_2\n",
       "Non.unique.Gene.name        splC;splC_1;splC_2\n",
       "Annotation                Serine protease SplC\n",
       "No..isolates                              1625\n",
       "No..sequences                             1628\n",
       "                                 ...          \n",
       "8838                                       NaN\n",
       "9294                                       NaN\n",
       "9330                                       NaN\n",
       "9453                                       NaN\n",
       "9594                                       NaN\n",
       "Name: 3098, Length: 114, dtype: object"
      ]
     },
     "execution_count": 136,
     "metadata": {},
     "output_type": "execute_result"
    }
   ],
   "source": [
    "df_gene.loc[3098] #index for lukEv"
   ]
  },
  {
   "cell_type": "code",
   "execution_count": 137,
   "metadata": {},
   "outputs": [
    {
     "data": {
      "text/plain": [
       "7     True\n",
       "8     True\n",
       "9     True\n",
       "10    True\n",
       "Name: Gene Difference, dtype: bool"
      ]
     },
     "execution_count": 137,
     "metadata": {},
     "output_type": "execute_result"
    }
   ],
   "source": [
    "df_pairs[df_pairs['Strain 1'].str.contains('1053')]['Gene Difference'].str.contains('3098')"
   ]
  },
  {
   "cell_type": "code",
   "execution_count": 157,
   "metadata": {},
   "outputs": [
    {
     "data": {
      "text/plain": [
       "'BBDOGHJD_02210'"
      ]
     },
     "execution_count": 157,
     "metadata": {},
     "output_type": "execute_result"
    }
   ],
   "source": [
    "df_gene['1053'][3098]"
   ]
  },
  {
   "cell_type": "markdown",
   "metadata": {},
   "source": [
    "splE 3496"
   ]
  },
  {
   "cell_type": "code",
   "execution_count": 138,
   "metadata": {},
   "outputs": [
    {
     "data": {
      "text/plain": [
       "Gene                    splE~~~splE_2~~~splE_1~~~splE_3~~~splE_4\n",
       "Non.unique.Gene.name            splE;splE_2;splE_1;splE_3;splE_4\n",
       "Annotation                                  Serine protease SplE\n",
       "No..isolates                                                1067\n",
       "No..sequences                                               1095\n",
       "                                          ...                   \n",
       "8838                                                         NaN\n",
       "9294                                                         NaN\n",
       "9330                                                         NaN\n",
       "9453                                                         NaN\n",
       "9594                                                         NaN\n",
       "Name: 3494, Length: 114, dtype: object"
      ]
     },
     "execution_count": 138,
     "metadata": {},
     "output_type": "execute_result"
    }
   ],
   "source": [
    "df_gene.loc[3494] #index for lukEv"
   ]
  },
  {
   "cell_type": "code",
   "execution_count": 139,
   "metadata": {},
   "outputs": [
    {
     "data": {
      "text/plain": [
       "7     False\n",
       "8     False\n",
       "9     False\n",
       "10    False\n",
       "Name: Gene Difference, dtype: bool"
      ]
     },
     "execution_count": 139,
     "metadata": {},
     "output_type": "execute_result"
    }
   ],
   "source": [
    "df_pairs[df_pairs['Strain 1'].str.contains('1053')]['Gene Difference'].str.contains('3494')"
   ]
  },
  {
   "cell_type": "markdown",
   "metadata": {},
   "source": [
    "blaZ 23007"
   ]
  },
  {
   "cell_type": "code",
   "execution_count": 140,
   "metadata": {},
   "outputs": [
    {
     "data": {
      "text/plain": [
       "Gene                              blaZ\n",
       "Non.unique.Gene.name              blaZ\n",
       "Annotation              Beta-lactamase\n",
       "No..isolates                         2\n",
       "No..sequences                        2\n",
       "                             ...      \n",
       "8838                               NaN\n",
       "9294                               NaN\n",
       "9330                               NaN\n",
       "9453                               NaN\n",
       "9594                               NaN\n",
       "Name: 23005, Length: 114, dtype: object"
      ]
     },
     "execution_count": 140,
     "metadata": {},
     "output_type": "execute_result"
    }
   ],
   "source": [
    "df_gene.loc[23005] #index for lukEv"
   ]
  },
  {
   "cell_type": "code",
   "execution_count": 141,
   "metadata": {},
   "outputs": [
    {
     "data": {
      "text/plain": [
       "7     False\n",
       "8     False\n",
       "9     False\n",
       "10    False\n",
       "Name: Gene Difference, dtype: bool"
      ]
     },
     "execution_count": 141,
     "metadata": {},
     "output_type": "execute_result"
    }
   ],
   "source": [
    "df_pairs[df_pairs['Strain 1'].str.contains('1053')]['Gene Difference'].str.contains('23005')"
   ]
  },
  {
   "cell_type": "markdown",
   "metadata": {},
   "source": [
    "blaR1 2605"
   ]
  },
  {
   "cell_type": "code",
   "execution_count": 142,
   "metadata": {},
   "outputs": [
    {
     "data": {
      "text/plain": [
       "Gene                    blaR1~~~blaR1_1~~~blaR1_2\n",
       "Non.unique.Gene.name        blaR1;blaR1_1;blaR1_2\n",
       "Annotation               Regulatory protein BlaR1\n",
       "No..isolates                                 3137\n",
       "No..sequences                                3142\n",
       "                                  ...            \n",
       "8838                               DFGAIILO_02527\n",
       "9294                               CONGGGDG_02573\n",
       "9330                               JHCBMMJP_02606\n",
       "9453                               DANGLEED_02562\n",
       "9594                                          NaN\n",
       "Name: 2603, Length: 114, dtype: object"
      ]
     },
     "execution_count": 142,
     "metadata": {},
     "output_type": "execute_result"
    }
   ],
   "source": [
    "df_gene.loc[2603] #index for lukEv"
   ]
  },
  {
   "cell_type": "code",
   "execution_count": 143,
   "metadata": {},
   "outputs": [
    {
     "data": {
      "text/plain": [
       "7     False\n",
       "8     False\n",
       "9     False\n",
       "10    False\n",
       "Name: Gene Difference, dtype: bool"
      ]
     },
     "execution_count": 143,
     "metadata": {},
     "output_type": "execute_result"
    }
   ],
   "source": [
    "df_pairs[df_pairs['Strain 1'].str.contains('1053')]['Gene Difference'].str.contains('2603')"
   ]
  },
  {
   "cell_type": "markdown",
   "metadata": {},
   "source": [
    "None of these genes are found to diverge for pairs including strain 1053."
   ]
  },
  {
   "cell_type": "markdown",
   "metadata": {},
   "source": [
    "ssb2 28314"
   ]
  },
  {
   "cell_type": "code",
   "execution_count": 147,
   "metadata": {},
   "outputs": [
    {
     "data": {
      "text/plain": [
       "Gene                                                  ssb_2\n",
       "Non.unique.Gene.name                                  ssb_2\n",
       "Annotation              Single-stranded DNA-binding protein\n",
       "No..isolates                                              1\n",
       "No..sequences                                             1\n",
       "                                       ...                 \n",
       "8838                                                    NaN\n",
       "9294                                                    NaN\n",
       "9330                                                    NaN\n",
       "9453                                                    NaN\n",
       "9594                                                    NaN\n",
       "Name: 28312, Length: 114, dtype: object"
      ]
     },
     "execution_count": 147,
     "metadata": {},
     "output_type": "execute_result"
    }
   ],
   "source": [
    "df_gene.loc[28312] #index for lukEv"
   ]
  },
  {
   "cell_type": "code",
   "execution_count": 148,
   "metadata": {},
   "outputs": [
    {
     "data": {
      "text/plain": [
       "7     False\n",
       "8     False\n",
       "9     False\n",
       "10    False\n",
       "Name: Gene Difference, dtype: bool"
      ]
     },
     "execution_count": 148,
     "metadata": {},
     "output_type": "execute_result"
    }
   ],
   "source": [
    "df_pairs[df_pairs['Strain 1'].str.contains('1053')]['Gene Difference'].str.contains('28312')"
   ]
  },
  {
   "cell_type": "markdown",
   "metadata": {},
   "source": [
    "rep 4466"
   ]
  },
  {
   "cell_type": "code",
   "execution_count": 159,
   "metadata": {},
   "outputs": [
    {
     "data": {
      "text/plain": [
       "Gene                                                                  rep\n",
       "Non.unique.Gene.name                                                 rep;\n",
       "Annotation              ATP-dependent DNA helicase Rep;hypothetical pr...\n",
       "No..isolates                                                          307\n",
       "No..sequences                                                         308\n",
       "                                              ...                        \n",
       "8838                                                                  NaN\n",
       "9294                                                                  NaN\n",
       "9330                                                                  NaN\n",
       "9453                                                                  NaN\n",
       "9594                                                                  NaN\n",
       "Name: 4464, Length: 114, dtype: object"
      ]
     },
     "execution_count": 159,
     "metadata": {},
     "output_type": "execute_result"
    }
   ],
   "source": [
    "df_gene.loc[4464] #index for lukEv"
   ]
  },
  {
   "cell_type": "code",
   "execution_count": 160,
   "metadata": {},
   "outputs": [
    {
     "data": {
      "text/plain": [
       "7     True\n",
       "8     True\n",
       "9     True\n",
       "10    True\n",
       "Name: Gene Difference, dtype: bool"
      ]
     },
     "execution_count": 160,
     "metadata": {},
     "output_type": "execute_result"
    }
   ],
   "source": [
    "df_pairs[df_pairs['Strain 1'].str.contains('1053')]['Gene Difference'].str.contains('4464')"
   ]
  },
  {
   "cell_type": "code",
   "execution_count": 161,
   "metadata": {},
   "outputs": [
    {
     "data": {
      "text/plain": [
       "'BBDOGHJD_00957'"
      ]
     },
     "execution_count": 161,
     "metadata": {},
     "output_type": "execute_result"
    }
   ],
   "source": [
    "df_gene['1053'][4464]"
   ]
  },
  {
   "cell_type": "markdown",
   "metadata": {},
   "source": [
    "pre 21176"
   ]
  },
  {
   "cell_type": "code",
   "execution_count": 162,
   "metadata": {},
   "outputs": [
    {
     "data": {
      "text/plain": [
       "Gene                                             pre\n",
       "Non.unique.Gene.name                             pre\n",
       "Annotation              Plasmid recombination enzyme\n",
       "No..isolates                                       2\n",
       "No..sequences                                      2\n",
       "                                    ...             \n",
       "8838                                             NaN\n",
       "9294                                             NaN\n",
       "9330                                             NaN\n",
       "9453                                             NaN\n",
       "9594                                             NaN\n",
       "Name: 21174, Length: 114, dtype: object"
      ]
     },
     "execution_count": 162,
     "metadata": {},
     "output_type": "execute_result"
    }
   ],
   "source": [
    "df_gene.loc[21174] #index for lukEv"
   ]
  },
  {
   "cell_type": "code",
   "execution_count": 163,
   "metadata": {},
   "outputs": [
    {
     "data": {
      "text/plain": [
       "7     False\n",
       "8     False\n",
       "9     False\n",
       "10    False\n",
       "Name: Gene Difference, dtype: bool"
      ]
     },
     "execution_count": 163,
     "metadata": {},
     "output_type": "execute_result"
    }
   ],
   "source": [
    "df_pairs[df_pairs['Strain 1'].str.contains('1053')]['Gene Difference'].str.contains('21174')"
   ]
  },
  {
   "cell_type": "code",
   "execution_count": null,
   "metadata": {},
   "outputs": [],
   "source": []
  }
 ],
 "metadata": {
  "kernelspec": {
   "display_name": "Python 3",
   "language": "python",
   "name": "python3"
  },
  "language_info": {
   "codemirror_mode": {
    "name": "ipython",
    "version": 3
   },
   "file_extension": ".py",
   "mimetype": "text/x-python",
   "name": "python",
   "nbconvert_exporter": "python",
   "pygments_lexer": "ipython3",
   "version": "3.8.8"
  }
 },
 "nbformat": 4,
 "nbformat_minor": 4
}
