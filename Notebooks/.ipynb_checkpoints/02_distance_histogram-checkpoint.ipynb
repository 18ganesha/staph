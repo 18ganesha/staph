{
 "cells": [
  {
   "cell_type": "code",
   "execution_count": 11,
   "metadata": {},
   "outputs": [],
   "source": [
    "import numpy as np\n",
    "import pandas as pd\n",
    "import matplotlib.pyplot as plt\n",
    "from matplotlib.pyplot import figure\n",
    "import sys"
   ]
  },
  {
   "cell_type": "code",
   "execution_count": 12,
   "metadata": {},
   "outputs": [],
   "source": [
    "df_dist = pd.read_csv(r\"C:\\Users\\jojoa\\GitHub\\staph\\data\\dist_matrix.csv\") "
   ]
  },
  {
   "cell_type": "code",
   "execution_count": 13,
   "metadata": {},
   "outputs": [],
   "source": [
    "df_dist = df_dist.iloc[: , 1:]"
   ]
  },
  {
   "cell_type": "markdown",
   "metadata": {},
   "source": [
    "Histogram wit repeating pairs."
   ]
  },
  {
   "cell_type": "code",
   "execution_count": 14,
   "metadata": {},
   "outputs": [
    {
     "data": {
      "image/png": "[encoded data removed]",
      "text/plain": [
       "<Figure size 576x432 with 1 Axes>"
      ]
     },
     "metadata": {
      "needs_background": "light"
     },
     "output_type": "display_data"
    }
   ],
   "source": [
    "ax=df_dist.plot.hist(bins=40, alpha=0.5, figsize=(8, 6), xlabel='Core Distance',ylabel='Frequency',\n",
    "                     title='Distance Histogram',legend=False)"
   ]
  },
  {
   "cell_type": "markdown",
   "metadata": {},
   "source": [
    "Let's take only the lower diagonal of the dataset, as otherwise the pairs repeat as seen relfected along the diagonal of zeros."
   ]
  },
  {
   "cell_type": "code",
   "execution_count": 15,
   "metadata": {},
   "outputs": [],
   "source": [
    "tril=np.tril(df_dist)"
   ]
  },
  {
   "cell_type": "code",
   "execution_count": 16,
   "metadata": {},
   "outputs": [],
   "source": [
    "np.set_printoptions(threshold=sys.maxsize)"
   ]
  },
  {
   "cell_type": "code",
   "execution_count": 17,
   "metadata": {},
   "outputs": [],
   "source": [
    "dataframe=pd.DataFrame(tril, columns=df_dist.columns) "
   ]
  },
  {
   "cell_type": "code",
   "execution_count": 18,
   "metadata": {},
   "outputs": [],
   "source": [
    "dataframe.replace(0.0, np.nan, inplace=True)"
   ]
  },
  {
   "cell_type": "code",
   "execution_count": 19,
   "metadata": {},
   "outputs": [
    {
     "data": {
      "text/html": [
       "<div>\n",
       "<style scoped>\n",
       "    .dataframe tbody tr th:only-of-type {\n",
       "        vertical-align: middle;\n",
       "    }\n",
       "\n",
       "    .dataframe tbody tr th {\n",
       "        vertical-align: top;\n",
       "    }\n",
       "\n",
       "    .dataframe thead th {\n",
       "        text-align: right;\n",
       "    }\n",
       "</style>\n",
       "<table border=\"1\" class=\"dataframe\">\n",
       "  <thead>\n",
       "    <tr style=\"text-align: right;\">\n",
       "      <th></th>\n",
       "      <th>18942</th>\n",
       "      <th>1053</th>\n",
       "      <th>36653</th>\n",
       "      <th>35906</th>\n",
       "      <th>24887</th>\n",
       "      <th>40959</th>\n",
       "      <th>19451</th>\n",
       "      <th>16248</th>\n",
       "      <th>17887</th>\n",
       "      <th>44480</th>\n",
       "      <th>...</th>\n",
       "      <th>29295</th>\n",
       "      <th>20565</th>\n",
       "      <th>22234</th>\n",
       "      <th>31939</th>\n",
       "      <th>40447</th>\n",
       "      <th>22779</th>\n",
       "      <th>40560</th>\n",
       "      <th>37248</th>\n",
       "      <th>6454</th>\n",
       "      <th>38985</th>\n",
       "    </tr>\n",
       "  </thead>\n",
       "  <tbody>\n",
       "    <tr>\n",
       "      <th>0</th>\n",
       "      <td>NaN</td>\n",
       "      <td>NaN</td>\n",
       "      <td>NaN</td>\n",
       "      <td>NaN</td>\n",
       "      <td>NaN</td>\n",
       "      <td>NaN</td>\n",
       "      <td>NaN</td>\n",
       "      <td>NaN</td>\n",
       "      <td>NaN</td>\n",
       "      <td>NaN</td>\n",
       "      <td>...</td>\n",
       "      <td>NaN</td>\n",
       "      <td>NaN</td>\n",
       "      <td>NaN</td>\n",
       "      <td>NaN</td>\n",
       "      <td>NaN</td>\n",
       "      <td>NaN</td>\n",
       "      <td>NaN</td>\n",
       "      <td>NaN</td>\n",
       "      <td>NaN</td>\n",
       "      <td>NaN</td>\n",
       "    </tr>\n",
       "    <tr>\n",
       "      <th>1</th>\n",
       "      <td>0.008664</td>\n",
       "      <td>NaN</td>\n",
       "      <td>NaN</td>\n",
       "      <td>NaN</td>\n",
       "      <td>NaN</td>\n",
       "      <td>NaN</td>\n",
       "      <td>NaN</td>\n",
       "      <td>NaN</td>\n",
       "      <td>NaN</td>\n",
       "      <td>NaN</td>\n",
       "      <td>...</td>\n",
       "      <td>NaN</td>\n",
       "      <td>NaN</td>\n",
       "      <td>NaN</td>\n",
       "      <td>NaN</td>\n",
       "      <td>NaN</td>\n",
       "      <td>NaN</td>\n",
       "      <td>NaN</td>\n",
       "      <td>NaN</td>\n",
       "      <td>NaN</td>\n",
       "      <td>NaN</td>\n",
       "    </tr>\n",
       "    <tr>\n",
       "      <th>2</th>\n",
       "      <td>0.000044</td>\n",
       "      <td>0.008665</td>\n",
       "      <td>NaN</td>\n",
       "      <td>NaN</td>\n",
       "      <td>NaN</td>\n",
       "      <td>NaN</td>\n",
       "      <td>NaN</td>\n",
       "      <td>NaN</td>\n",
       "      <td>NaN</td>\n",
       "      <td>NaN</td>\n",
       "      <td>...</td>\n",
       "      <td>NaN</td>\n",
       "      <td>NaN</td>\n",
       "      <td>NaN</td>\n",
       "      <td>NaN</td>\n",
       "      <td>NaN</td>\n",
       "      <td>NaN</td>\n",
       "      <td>NaN</td>\n",
       "      <td>NaN</td>\n",
       "      <td>NaN</td>\n",
       "      <td>NaN</td>\n",
       "    </tr>\n",
       "    <tr>\n",
       "      <th>3</th>\n",
       "      <td>0.009705</td>\n",
       "      <td>0.008799</td>\n",
       "      <td>0.009707</td>\n",
       "      <td>NaN</td>\n",
       "      <td>NaN</td>\n",
       "      <td>NaN</td>\n",
       "      <td>NaN</td>\n",
       "      <td>NaN</td>\n",
       "      <td>NaN</td>\n",
       "      <td>NaN</td>\n",
       "      <td>...</td>\n",
       "      <td>NaN</td>\n",
       "      <td>NaN</td>\n",
       "      <td>NaN</td>\n",
       "      <td>NaN</td>\n",
       "      <td>NaN</td>\n",
       "      <td>NaN</td>\n",
       "      <td>NaN</td>\n",
       "      <td>NaN</td>\n",
       "      <td>NaN</td>\n",
       "      <td>NaN</td>\n",
       "    </tr>\n",
       "    <tr>\n",
       "      <th>4</th>\n",
       "      <td>0.006318</td>\n",
       "      <td>0.008159</td>\n",
       "      <td>0.006319</td>\n",
       "      <td>0.009809</td>\n",
       "      <td>NaN</td>\n",
       "      <td>NaN</td>\n",
       "      <td>NaN</td>\n",
       "      <td>NaN</td>\n",
       "      <td>NaN</td>\n",
       "      <td>NaN</td>\n",
       "      <td>...</td>\n",
       "      <td>NaN</td>\n",
       "      <td>NaN</td>\n",
       "      <td>NaN</td>\n",
       "      <td>NaN</td>\n",
       "      <td>NaN</td>\n",
       "      <td>NaN</td>\n",
       "      <td>NaN</td>\n",
       "      <td>NaN</td>\n",
       "      <td>NaN</td>\n",
       "      <td>NaN</td>\n",
       "    </tr>\n",
       "    <tr>\n",
       "      <th>...</th>\n",
       "      <td>...</td>\n",
       "      <td>...</td>\n",
       "      <td>...</td>\n",
       "      <td>...</td>\n",
       "      <td>...</td>\n",
       "      <td>...</td>\n",
       "      <td>...</td>\n",
       "      <td>...</td>\n",
       "      <td>...</td>\n",
       "      <td>...</td>\n",
       "      <td>...</td>\n",
       "      <td>...</td>\n",
       "      <td>...</td>\n",
       "      <td>...</td>\n",
       "      <td>...</td>\n",
       "      <td>...</td>\n",
       "      <td>...</td>\n",
       "      <td>...</td>\n",
       "      <td>...</td>\n",
       "      <td>...</td>\n",
       "      <td>...</td>\n",
       "    </tr>\n",
       "    <tr>\n",
       "      <th>95</th>\n",
       "      <td>0.006437</td>\n",
       "      <td>0.008129</td>\n",
       "      <td>0.006438</td>\n",
       "      <td>0.009852</td>\n",
       "      <td>0.003558</td>\n",
       "      <td>0.003224</td>\n",
       "      <td>0.008423</td>\n",
       "      <td>0.003554</td>\n",
       "      <td>0.003889</td>\n",
       "      <td>0.003594</td>\n",
       "      <td>...</td>\n",
       "      <td>0.003625</td>\n",
       "      <td>0.009885</td>\n",
       "      <td>0.003869</td>\n",
       "      <td>0.009745</td>\n",
       "      <td>0.003867</td>\n",
       "      <td>NaN</td>\n",
       "      <td>NaN</td>\n",
       "      <td>NaN</td>\n",
       "      <td>NaN</td>\n",
       "      <td>NaN</td>\n",
       "    </tr>\n",
       "    <tr>\n",
       "      <th>96</th>\n",
       "      <td>0.011395</td>\n",
       "      <td>0.010376</td>\n",
       "      <td>0.011396</td>\n",
       "      <td>0.010232</td>\n",
       "      <td>0.011452</td>\n",
       "      <td>0.011375</td>\n",
       "      <td>0.010755</td>\n",
       "      <td>0.011464</td>\n",
       "      <td>0.011300</td>\n",
       "      <td>0.011496</td>\n",
       "      <td>...</td>\n",
       "      <td>0.011462</td>\n",
       "      <td>0.010268</td>\n",
       "      <td>0.011721</td>\n",
       "      <td>0.012152</td>\n",
       "      <td>0.011277</td>\n",
       "      <td>0.011449</td>\n",
       "      <td>NaN</td>\n",
       "      <td>NaN</td>\n",
       "      <td>NaN</td>\n",
       "      <td>NaN</td>\n",
       "    </tr>\n",
       "    <tr>\n",
       "      <th>97</th>\n",
       "      <td>0.006454</td>\n",
       "      <td>0.007873</td>\n",
       "      <td>0.006459</td>\n",
       "      <td>0.009630</td>\n",
       "      <td>0.003947</td>\n",
       "      <td>0.003850</td>\n",
       "      <td>0.008153</td>\n",
       "      <td>0.003940</td>\n",
       "      <td>0.000211</td>\n",
       "      <td>0.003925</td>\n",
       "      <td>...</td>\n",
       "      <td>0.003833</td>\n",
       "      <td>0.009662</td>\n",
       "      <td>0.004156</td>\n",
       "      <td>0.009627</td>\n",
       "      <td>0.000189</td>\n",
       "      <td>0.003867</td>\n",
       "      <td>0.011271</td>\n",
       "      <td>NaN</td>\n",
       "      <td>NaN</td>\n",
       "      <td>NaN</td>\n",
       "    </tr>\n",
       "    <tr>\n",
       "      <th>98</th>\n",
       "      <td>0.010398</td>\n",
       "      <td>0.007737</td>\n",
       "      <td>0.010400</td>\n",
       "      <td>0.010927</td>\n",
       "      <td>0.009751</td>\n",
       "      <td>0.009712</td>\n",
       "      <td>0.008055</td>\n",
       "      <td>0.009758</td>\n",
       "      <td>0.009659</td>\n",
       "      <td>0.009854</td>\n",
       "      <td>...</td>\n",
       "      <td>0.009776</td>\n",
       "      <td>0.010961</td>\n",
       "      <td>0.010148</td>\n",
       "      <td>0.000084</td>\n",
       "      <td>0.009637</td>\n",
       "      <td>0.009744</td>\n",
       "      <td>0.012150</td>\n",
       "      <td>0.009628</td>\n",
       "      <td>NaN</td>\n",
       "      <td>NaN</td>\n",
       "    </tr>\n",
       "    <tr>\n",
       "      <th>99</th>\n",
       "      <td>0.000036</td>\n",
       "      <td>0.008657</td>\n",
       "      <td>0.000037</td>\n",
       "      <td>0.009698</td>\n",
       "      <td>0.006310</td>\n",
       "      <td>0.006436</td>\n",
       "      <td>0.009011</td>\n",
       "      <td>0.006306</td>\n",
       "      <td>0.006470</td>\n",
       "      <td>0.006482</td>\n",
       "      <td>...</td>\n",
       "      <td>0.006446</td>\n",
       "      <td>0.009733</td>\n",
       "      <td>0.006658</td>\n",
       "      <td>0.010396</td>\n",
       "      <td>0.006447</td>\n",
       "      <td>0.006430</td>\n",
       "      <td>0.011387</td>\n",
       "      <td>0.006450</td>\n",
       "      <td>0.010391</td>\n",
       "      <td>NaN</td>\n",
       "    </tr>\n",
       "  </tbody>\n",
       "</table>\n",
       "<p>100 rows × 100 columns</p>\n",
       "</div>"
      ],
      "text/plain": [
       "       18942      1053     36653     35906     24887     40959     19451  \\\n",
       "0        NaN       NaN       NaN       NaN       NaN       NaN       NaN   \n",
       "1   0.008664       NaN       NaN       NaN       NaN       NaN       NaN   \n",
       "2   0.000044  0.008665       NaN       NaN       NaN       NaN       NaN   \n",
       "3   0.009705  0.008799  0.009707       NaN       NaN       NaN       NaN   \n",
       "4   0.006318  0.008159  0.006319  0.009809       NaN       NaN       NaN   \n",
       "..       ...       ...       ...       ...       ...       ...       ...   \n",
       "95  0.006437  0.008129  0.006438  0.009852  0.003558  0.003224  0.008423   \n",
       "96  0.011395  0.010376  0.011396  0.010232  0.011452  0.011375  0.010755   \n",
       "97  0.006454  0.007873  0.006459  0.009630  0.003947  0.003850  0.008153   \n",
       "98  0.010398  0.007737  0.010400  0.010927  0.009751  0.009712  0.008055   \n",
       "99  0.000036  0.008657  0.000037  0.009698  0.006310  0.006436  0.009011   \n",
       "\n",
       "       16248     17887     44480  ...     29295     20565     22234     31939  \\\n",
       "0        NaN       NaN       NaN  ...       NaN       NaN       NaN       NaN   \n",
       "1        NaN       NaN       NaN  ...       NaN       NaN       NaN       NaN   \n",
       "2        NaN       NaN       NaN  ...       NaN       NaN       NaN       NaN   \n",
       "3        NaN       NaN       NaN  ...       NaN       NaN       NaN       NaN   \n",
       "4        NaN       NaN       NaN  ...       NaN       NaN       NaN       NaN   \n",
       "..       ...       ...       ...  ...       ...       ...       ...       ...   \n",
       "95  0.003554  0.003889  0.003594  ...  0.003625  0.009885  0.003869  0.009745   \n",
       "96  0.011464  0.011300  0.011496  ...  0.011462  0.010268  0.011721  0.012152   \n",
       "97  0.003940  0.000211  0.003925  ...  0.003833  0.009662  0.004156  0.009627   \n",
       "98  0.009758  0.009659  0.009854  ...  0.009776  0.010961  0.010148  0.000084   \n",
       "99  0.006306  0.006470  0.006482  ...  0.006446  0.009733  0.006658  0.010396   \n",
       "\n",
       "       40447     22779     40560     37248      6454  38985  \n",
       "0        NaN       NaN       NaN       NaN       NaN    NaN  \n",
       "1        NaN       NaN       NaN       NaN       NaN    NaN  \n",
       "2        NaN       NaN       NaN       NaN       NaN    NaN  \n",
       "3        NaN       NaN       NaN       NaN       NaN    NaN  \n",
       "4        NaN       NaN       NaN       NaN       NaN    NaN  \n",
       "..       ...       ...       ...       ...       ...    ...  \n",
       "95  0.003867       NaN       NaN       NaN       NaN    NaN  \n",
       "96  0.011277  0.011449       NaN       NaN       NaN    NaN  \n",
       "97  0.000189  0.003867  0.011271       NaN       NaN    NaN  \n",
       "98  0.009637  0.009744  0.012150  0.009628       NaN    NaN  \n",
       "99  0.006447  0.006430  0.011387  0.006450  0.010391    NaN  \n",
       "\n",
       "[100 rows x 100 columns]"
      ]
     },
     "execution_count": 19,
     "metadata": {},
     "output_type": "execute_result"
    }
   ],
   "source": [
    "dataframe #easier visualization of data after removing duplicate pairs"
   ]
  },
  {
   "cell_type": "code",
   "execution_count": 20,
   "metadata": {},
   "outputs": [
    {
     "data": {
      "image/png": "[encoded data removed]",
      "text/plain": [
       "<Figure size 576x432 with 1 Axes>"
      ]
     },
     "metadata": {
      "needs_background": "light"
     },
     "output_type": "display_data"
    }
   ],
   "source": [
    "ax=dataframe.plot.hist(bins=50, figsize=(8, 6), xlabel='Core Distance',ylabel='Frequency',\n",
    "                       title='Distance Histogram',legend=False,color='purple')\n",
    "ax.set_xlabel('Core Distance')\n",
    "ax.set_ylabel('Frequency')\n",
    "plt.savefig(r\"C:\\Users\\jojoa\\GitHub\\staph\\images\\dist_hist_max.eps\",format='eps')"
   ]
  },
  {
   "cell_type": "code",
   "execution_count": 33,
   "metadata": {},
   "outputs": [
    {
     "data": {
      "text/plain": [
       "99"
      ]
     },
     "execution_count": 33,
     "metadata": {},
     "output_type": "execute_result"
    }
   ],
   "source": [
    "mini=dataframe.min()\n",
    "mini.count()"
   ]
  },
  {
   "cell_type": "markdown",
   "metadata": {},
   "source": [
    "The closest related pair is strain 1076 with strain 1053."
   ]
  },
  {
   "cell_type": "code",
   "execution_count": 25,
   "metadata": {},
   "outputs": [
    {
     "data": {
      "image/png": "[encoded data removed]",
      "text/plain": [
       "<Figure size 576x432 with 1 Axes>"
      ]
     },
     "metadata": {
      "needs_background": "light"
     },
     "output_type": "display_data"
    }
   ],
   "source": [
    "ax=dataframe.plot.hist(bins=500, figsize=(8, 6), xlabel='Core Distance',ylabel='Frequency',\n",
    "                       title='Distance Histogram',legend=False,color='purple')\n",
    "ax.set_xlabel('Core Distance')\n",
    "ax.set_ylabel('Frequency')\n",
    "plt.xlim(-0.0001,0.0015)\n",
    "plt.savefig(r\"C:\\Users\\jojoa\\GitHub\\staph\\images\\dist_hist.eps\",format='eps')"
   ]
  },
  {
   "cell_type": "code",
   "execution_count": null,
   "metadata": {},
   "outputs": [],
   "source": [
    "#figure(figsize=(8, 6), dpi=80)\n",
    "#hist=plt.hist(tril,bins=40)\n",
    "#plt.xlabel('Distance')\n",
    "#plt.ylabel('Counts')\n",
    "#plt.title('Distance Histogram')\n",
    "#plt.savefig(r\"C:\\Users\\jojoa\\GitHub\\staph\\images\\dist_hist_max\")\n",
    "#plt.savefig(r\"C:\\Users\\jojoa\\GitHub\\staph\\images\\dist_hist_max.eps\",format='eps')"
   ]
  },
  {
   "cell_type": "code",
   "execution_count": null,
   "metadata": {},
   "outputs": [],
   "source": [
    "#figure(figsize=(8, 6), dpi=80)\n",
    "#hist=plt.hist(tril,bins=40)\n",
    "#plt.xlabel('Distance')\n",
    "#plt.ylabel('Counts')\n",
    "#plt.xlim(0,0.0015)\n",
    "#plt.title('Distance Histogram')\n",
    "#plt.savefig(r\"C:\\Users\\jojoa\\GitHub\\staph\\images\\dist_hist\")\n",
    "#plt.savefig(r\"C:\\Users\\jojoa\\GitHub\\staph\\images\\dist_hist.eps\",format='eps')"
   ]
  },
  {
   "cell_type": "markdown",
   "metadata": {},
   "source": [
    "We can see that the highest peak occurs at a distance of about 0.00145. Thus, we will make this our cutoff for 'closely relatedness.'"
   ]
  },
  {
   "cell_type": "code",
   "execution_count": 29,
   "metadata": {},
   "outputs": [],
   "source": [
    "for i in range(0,len(df_dist.columns)): #len(df_dist.columns)\n",
    "    df_dist.loc[df_dist[df_dist.columns[i]]>0.00145,df_dist.columns[i]] = np.nan"
   ]
  },
  {
   "cell_type": "code",
   "execution_count": 30,
   "metadata": {},
   "outputs": [],
   "source": [
    "df_close=df_dist"
   ]
  },
  {
   "cell_type": "code",
   "execution_count": 32,
   "metadata": {},
   "outputs": [
    {
     "data": {
      "text/plain": [
       "0.001355966"
      ]
     },
     "execution_count": 32,
     "metadata": {},
     "output_type": "execute_result"
    }
   ],
   "source": [
    "df_close.max().max()"
   ]
  },
  {
   "cell_type": "markdown",
   "metadata": {},
   "source": [
    "We now have a matrix with the closely related strains, ignoring the cells that have 0.0, as those are strains that are completely identical."
   ]
  },
  {
   "cell_type": "code",
   "execution_count": null,
   "metadata": {},
   "outputs": [],
   "source": [
    "df_close.to_csv(r\"C:\\Users\\jojoa\\GitHub\\staph\\data\\closely_related_matrix.csv\")"
   ]
  },
  {
   "cell_type": "markdown",
   "metadata": {},
   "source": [
    "Let's see which strain was most used."
   ]
  },
  {
   "cell_type": "code",
   "execution_count": null,
   "metadata": {},
   "outputs": [],
   "source": [
    "pairs=[]\n",
    "for i in range(0,len(df_close.columns)):\n",
    "    name=df_close.columns[i]\n",
    "    col_1=df_close[name]\n",
    "    list_1=col_1.map(type)==float\n",
    "    add=sum(list_1)\n",
    "    pairs.append({\"Number of pairs\":add, \"Strain ID\":name})"
   ]
  },
  {
   "cell_type": "markdown",
   "metadata": {},
   "source": [
    "Let's try to redo this idea for a larger cutoff."
   ]
  },
  {
   "cell_type": "code",
   "execution_count": null,
   "metadata": {},
   "outputs": [],
   "source": [
    "for i in range(0,len(df_dist.columns)): #len(df_dist.columns)\n",
    "    df_dist.loc[df_dist[df_dist.columns[i]]>0.01,df_dist.columns[i]] = np.nan"
   ]
  },
  {
   "cell_type": "code",
   "execution_count": null,
   "metadata": {},
   "outputs": [],
   "source": [
    "df_close=df_dist"
   ]
  },
  {
   "cell_type": "code",
   "execution_count": null,
   "metadata": {},
   "outputs": [],
   "source": [
    "tril=np.tril(df_close)\n",
    "dataframe=pd.DataFrame(tril, columns=df_dist.columns)\n",
    "dataframe.replace(0.0, np.nan, inplace=True)"
   ]
  },
  {
   "cell_type": "code",
   "execution_count": null,
   "metadata": {},
   "outputs": [],
   "source": [
    "dataframe.to_csv(r\"C:\\Users\\jojoa\\GitHub\\staph\\data\\second_cutoff.csv\")"
   ]
  }
 ],
 "metadata": {
  "kernelspec": {
   "display_name": "Python 3",
   "language": "python",
   "name": "python3"
  },
  "language_info": {
   "codemirror_mode": {
    "name": "ipython",
    "version": 3
   },
   "file_extension": ".py",
   "mimetype": "text/x-python",
   "name": "python",
   "nbconvert_exporter": "python",
   "pygments_lexer": "ipython3",
   "version": "3.8.8"
  }
 },
 "nbformat": 4,
 "nbformat_minor": 4
}
