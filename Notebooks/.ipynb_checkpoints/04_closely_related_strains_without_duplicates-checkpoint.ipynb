{
 "cells": [
  {
   "cell_type": "markdown",
   "metadata": {},
   "source": [
    "# Identifying gene difference content in closely related strains"
   ]
  },
  {
   "cell_type": "code",
   "execution_count": 1,
   "metadata": {},
   "outputs": [],
   "source": [
    "import numpy as np\n",
    "import pandas as pd\n",
    "import matplotlib.pyplot as plt\n",
    "from matplotlib.pyplot import figure\n",
    "import statistics"
   ]
  },
  {
   "cell_type": "code",
   "execution_count": 2,
   "metadata": {},
   "outputs": [],
   "source": [
    "df_cr = pd.read_csv(r\"C:\\Users\\jojoa\\GitHub\\staph\\data\\df_cr_final.csv\")"
   ]
  },
  {
   "cell_type": "code",
   "execution_count": 3,
   "metadata": {},
   "outputs": [],
   "source": [
    "df_cr=df_cr.set_index('Unnamed: 0')"
   ]
  },
  {
   "cell_type": "code",
   "execution_count": 4,
   "metadata": {},
   "outputs": [
    {
     "data": {
      "text/html": [
       "<div>\n",
       "<style scoped>\n",
       "    .dataframe tbody tr th:only-of-type {\n",
       "        vertical-align: middle;\n",
       "    }\n",
       "\n",
       "    .dataframe tbody tr th {\n",
       "        vertical-align: top;\n",
       "    }\n",
       "\n",
       "    .dataframe thead th {\n",
       "        text-align: right;\n",
       "    }\n",
       "</style>\n",
       "<table border=\"1\" class=\"dataframe\">\n",
       "  <thead>\n",
       "    <tr style=\"text-align: right;\">\n",
       "      <th></th>\n",
       "      <th>18942</th>\n",
       "      <th>1053</th>\n",
       "      <th>36653</th>\n",
       "      <th>35906</th>\n",
       "      <th>24887</th>\n",
       "      <th>40959</th>\n",
       "      <th>19451</th>\n",
       "      <th>16248</th>\n",
       "      <th>17887</th>\n",
       "      <th>44480</th>\n",
       "      <th>...</th>\n",
       "      <th>29295</th>\n",
       "      <th>20565</th>\n",
       "      <th>22234</th>\n",
       "      <th>31939</th>\n",
       "      <th>40447</th>\n",
       "      <th>22779</th>\n",
       "      <th>40560</th>\n",
       "      <th>37248</th>\n",
       "      <th>6454</th>\n",
       "      <th>38985</th>\n",
       "    </tr>\n",
       "    <tr>\n",
       "      <th>Unnamed: 0</th>\n",
       "      <th></th>\n",
       "      <th></th>\n",
       "      <th></th>\n",
       "      <th></th>\n",
       "      <th></th>\n",
       "      <th></th>\n",
       "      <th></th>\n",
       "      <th></th>\n",
       "      <th></th>\n",
       "      <th></th>\n",
       "      <th></th>\n",
       "      <th></th>\n",
       "      <th></th>\n",
       "      <th></th>\n",
       "      <th></th>\n",
       "      <th></th>\n",
       "      <th></th>\n",
       "      <th></th>\n",
       "      <th></th>\n",
       "      <th></th>\n",
       "      <th></th>\n",
       "    </tr>\n",
       "  </thead>\n",
       "  <tbody>\n",
       "    <tr>\n",
       "      <th>18942</th>\n",
       "      <td>NaN</td>\n",
       "      <td>NaN</td>\n",
       "      <td>NaN</td>\n",
       "      <td>NaN</td>\n",
       "      <td>NaN</td>\n",
       "      <td>NaN</td>\n",
       "      <td>NaN</td>\n",
       "      <td>NaN</td>\n",
       "      <td>NaN</td>\n",
       "      <td>NaN</td>\n",
       "      <td>...</td>\n",
       "      <td>NaN</td>\n",
       "      <td>NaN</td>\n",
       "      <td>NaN</td>\n",
       "      <td>NaN</td>\n",
       "      <td>NaN</td>\n",
       "      <td>NaN</td>\n",
       "      <td>NaN</td>\n",
       "      <td>NaN</td>\n",
       "      <td>NaN</td>\n",
       "      <td>NaN</td>\n",
       "    </tr>\n",
       "    <tr>\n",
       "      <th>1053</th>\n",
       "      <td>NaN</td>\n",
       "      <td>NaN</td>\n",
       "      <td>NaN</td>\n",
       "      <td>NaN</td>\n",
       "      <td>NaN</td>\n",
       "      <td>NaN</td>\n",
       "      <td>NaN</td>\n",
       "      <td>NaN</td>\n",
       "      <td>NaN</td>\n",
       "      <td>NaN</td>\n",
       "      <td>...</td>\n",
       "      <td>NaN</td>\n",
       "      <td>NaN</td>\n",
       "      <td>NaN</td>\n",
       "      <td>NaN</td>\n",
       "      <td>NaN</td>\n",
       "      <td>NaN</td>\n",
       "      <td>NaN</td>\n",
       "      <td>NaN</td>\n",
       "      <td>NaN</td>\n",
       "      <td>NaN</td>\n",
       "    </tr>\n",
       "    <tr>\n",
       "      <th>36653</th>\n",
       "      <td>0.000044</td>\n",
       "      <td>NaN</td>\n",
       "      <td>NaN</td>\n",
       "      <td>NaN</td>\n",
       "      <td>NaN</td>\n",
       "      <td>NaN</td>\n",
       "      <td>NaN</td>\n",
       "      <td>NaN</td>\n",
       "      <td>NaN</td>\n",
       "      <td>NaN</td>\n",
       "      <td>...</td>\n",
       "      <td>NaN</td>\n",
       "      <td>NaN</td>\n",
       "      <td>NaN</td>\n",
       "      <td>NaN</td>\n",
       "      <td>NaN</td>\n",
       "      <td>NaN</td>\n",
       "      <td>NaN</td>\n",
       "      <td>NaN</td>\n",
       "      <td>NaN</td>\n",
       "      <td>NaN</td>\n",
       "    </tr>\n",
       "    <tr>\n",
       "      <th>35906</th>\n",
       "      <td>NaN</td>\n",
       "      <td>NaN</td>\n",
       "      <td>NaN</td>\n",
       "      <td>NaN</td>\n",
       "      <td>NaN</td>\n",
       "      <td>NaN</td>\n",
       "      <td>NaN</td>\n",
       "      <td>NaN</td>\n",
       "      <td>NaN</td>\n",
       "      <td>NaN</td>\n",
       "      <td>...</td>\n",
       "      <td>NaN</td>\n",
       "      <td>NaN</td>\n",
       "      <td>NaN</td>\n",
       "      <td>NaN</td>\n",
       "      <td>NaN</td>\n",
       "      <td>NaN</td>\n",
       "      <td>NaN</td>\n",
       "      <td>NaN</td>\n",
       "      <td>NaN</td>\n",
       "      <td>NaN</td>\n",
       "    </tr>\n",
       "    <tr>\n",
       "      <th>24887</th>\n",
       "      <td>NaN</td>\n",
       "      <td>NaN</td>\n",
       "      <td>NaN</td>\n",
       "      <td>NaN</td>\n",
       "      <td>NaN</td>\n",
       "      <td>NaN</td>\n",
       "      <td>NaN</td>\n",
       "      <td>NaN</td>\n",
       "      <td>NaN</td>\n",
       "      <td>NaN</td>\n",
       "      <td>...</td>\n",
       "      <td>NaN</td>\n",
       "      <td>NaN</td>\n",
       "      <td>NaN</td>\n",
       "      <td>NaN</td>\n",
       "      <td>NaN</td>\n",
       "      <td>NaN</td>\n",
       "      <td>NaN</td>\n",
       "      <td>NaN</td>\n",
       "      <td>NaN</td>\n",
       "      <td>NaN</td>\n",
       "    </tr>\n",
       "    <tr>\n",
       "      <th>...</th>\n",
       "      <td>...</td>\n",
       "      <td>...</td>\n",
       "      <td>...</td>\n",
       "      <td>...</td>\n",
       "      <td>...</td>\n",
       "      <td>...</td>\n",
       "      <td>...</td>\n",
       "      <td>...</td>\n",
       "      <td>...</td>\n",
       "      <td>...</td>\n",
       "      <td>...</td>\n",
       "      <td>...</td>\n",
       "      <td>...</td>\n",
       "      <td>...</td>\n",
       "      <td>...</td>\n",
       "      <td>...</td>\n",
       "      <td>...</td>\n",
       "      <td>...</td>\n",
       "      <td>...</td>\n",
       "      <td>...</td>\n",
       "      <td>...</td>\n",
       "    </tr>\n",
       "    <tr>\n",
       "      <th>22779</th>\n",
       "      <td>NaN</td>\n",
       "      <td>NaN</td>\n",
       "      <td>NaN</td>\n",
       "      <td>NaN</td>\n",
       "      <td>NaN</td>\n",
       "      <td>NaN</td>\n",
       "      <td>NaN</td>\n",
       "      <td>NaN</td>\n",
       "      <td>NaN</td>\n",
       "      <td>NaN</td>\n",
       "      <td>...</td>\n",
       "      <td>NaN</td>\n",
       "      <td>NaN</td>\n",
       "      <td>NaN</td>\n",
       "      <td>NaN</td>\n",
       "      <td>NaN</td>\n",
       "      <td>NaN</td>\n",
       "      <td>NaN</td>\n",
       "      <td>NaN</td>\n",
       "      <td>NaN</td>\n",
       "      <td>NaN</td>\n",
       "    </tr>\n",
       "    <tr>\n",
       "      <th>40560</th>\n",
       "      <td>NaN</td>\n",
       "      <td>NaN</td>\n",
       "      <td>NaN</td>\n",
       "      <td>NaN</td>\n",
       "      <td>NaN</td>\n",
       "      <td>NaN</td>\n",
       "      <td>NaN</td>\n",
       "      <td>NaN</td>\n",
       "      <td>NaN</td>\n",
       "      <td>NaN</td>\n",
       "      <td>...</td>\n",
       "      <td>NaN</td>\n",
       "      <td>NaN</td>\n",
       "      <td>NaN</td>\n",
       "      <td>NaN</td>\n",
       "      <td>NaN</td>\n",
       "      <td>NaN</td>\n",
       "      <td>NaN</td>\n",
       "      <td>NaN</td>\n",
       "      <td>NaN</td>\n",
       "      <td>NaN</td>\n",
       "    </tr>\n",
       "    <tr>\n",
       "      <th>37248</th>\n",
       "      <td>NaN</td>\n",
       "      <td>NaN</td>\n",
       "      <td>NaN</td>\n",
       "      <td>NaN</td>\n",
       "      <td>NaN</td>\n",
       "      <td>NaN</td>\n",
       "      <td>NaN</td>\n",
       "      <td>NaN</td>\n",
       "      <td>0.000211</td>\n",
       "      <td>NaN</td>\n",
       "      <td>...</td>\n",
       "      <td>NaN</td>\n",
       "      <td>NaN</td>\n",
       "      <td>NaN</td>\n",
       "      <td>NaN</td>\n",
       "      <td>NaN</td>\n",
       "      <td>NaN</td>\n",
       "      <td>NaN</td>\n",
       "      <td>NaN</td>\n",
       "      <td>NaN</td>\n",
       "      <td>NaN</td>\n",
       "    </tr>\n",
       "    <tr>\n",
       "      <th>6454</th>\n",
       "      <td>NaN</td>\n",
       "      <td>NaN</td>\n",
       "      <td>NaN</td>\n",
       "      <td>NaN</td>\n",
       "      <td>NaN</td>\n",
       "      <td>NaN</td>\n",
       "      <td>NaN</td>\n",
       "      <td>NaN</td>\n",
       "      <td>NaN</td>\n",
       "      <td>NaN</td>\n",
       "      <td>...</td>\n",
       "      <td>NaN</td>\n",
       "      <td>NaN</td>\n",
       "      <td>NaN</td>\n",
       "      <td>NaN</td>\n",
       "      <td>NaN</td>\n",
       "      <td>NaN</td>\n",
       "      <td>NaN</td>\n",
       "      <td>NaN</td>\n",
       "      <td>NaN</td>\n",
       "      <td>NaN</td>\n",
       "    </tr>\n",
       "    <tr>\n",
       "      <th>38985</th>\n",
       "      <td>0.000036</td>\n",
       "      <td>NaN</td>\n",
       "      <td>0.000037</td>\n",
       "      <td>NaN</td>\n",
       "      <td>NaN</td>\n",
       "      <td>NaN</td>\n",
       "      <td>NaN</td>\n",
       "      <td>NaN</td>\n",
       "      <td>NaN</td>\n",
       "      <td>NaN</td>\n",
       "      <td>...</td>\n",
       "      <td>NaN</td>\n",
       "      <td>NaN</td>\n",
       "      <td>NaN</td>\n",
       "      <td>NaN</td>\n",
       "      <td>NaN</td>\n",
       "      <td>NaN</td>\n",
       "      <td>NaN</td>\n",
       "      <td>NaN</td>\n",
       "      <td>NaN</td>\n",
       "      <td>NaN</td>\n",
       "    </tr>\n",
       "  </tbody>\n",
       "</table>\n",
       "<p>100 rows × 100 columns</p>\n",
       "</div>"
      ],
      "text/plain": [
       "               18942  1053     36653  35906  24887  40959  19451  16248  \\\n",
       "Unnamed: 0                                                                \n",
       "18942            NaN   NaN       NaN    NaN    NaN    NaN    NaN    NaN   \n",
       "1053             NaN   NaN       NaN    NaN    NaN    NaN    NaN    NaN   \n",
       "36653       0.000044   NaN       NaN    NaN    NaN    NaN    NaN    NaN   \n",
       "35906            NaN   NaN       NaN    NaN    NaN    NaN    NaN    NaN   \n",
       "24887            NaN   NaN       NaN    NaN    NaN    NaN    NaN    NaN   \n",
       "...              ...   ...       ...    ...    ...    ...    ...    ...   \n",
       "22779            NaN   NaN       NaN    NaN    NaN    NaN    NaN    NaN   \n",
       "40560            NaN   NaN       NaN    NaN    NaN    NaN    NaN    NaN   \n",
       "37248            NaN   NaN       NaN    NaN    NaN    NaN    NaN    NaN   \n",
       "6454             NaN   NaN       NaN    NaN    NaN    NaN    NaN    NaN   \n",
       "38985       0.000036   NaN  0.000037    NaN    NaN    NaN    NaN    NaN   \n",
       "\n",
       "               17887  44480  ...  29295  20565  22234  31939  40447  22779  \\\n",
       "Unnamed: 0                   ...                                             \n",
       "18942            NaN    NaN  ...    NaN    NaN    NaN    NaN    NaN    NaN   \n",
       "1053             NaN    NaN  ...    NaN    NaN    NaN    NaN    NaN    NaN   \n",
       "36653            NaN    NaN  ...    NaN    NaN    NaN    NaN    NaN    NaN   \n",
       "35906            NaN    NaN  ...    NaN    NaN    NaN    NaN    NaN    NaN   \n",
       "24887            NaN    NaN  ...    NaN    NaN    NaN    NaN    NaN    NaN   \n",
       "...              ...    ...  ...    ...    ...    ...    ...    ...    ...   \n",
       "22779            NaN    NaN  ...    NaN    NaN    NaN    NaN    NaN    NaN   \n",
       "40560            NaN    NaN  ...    NaN    NaN    NaN    NaN    NaN    NaN   \n",
       "37248       0.000211    NaN  ...    NaN    NaN    NaN    NaN    NaN    NaN   \n",
       "6454             NaN    NaN  ...    NaN    NaN    NaN    NaN    NaN    NaN   \n",
       "38985            NaN    NaN  ...    NaN    NaN    NaN    NaN    NaN    NaN   \n",
       "\n",
       "            40560  37248  6454  38985  \n",
       "Unnamed: 0                             \n",
       "18942         NaN    NaN   NaN    NaN  \n",
       "1053          NaN    NaN   NaN    NaN  \n",
       "36653         NaN    NaN   NaN    NaN  \n",
       "35906         NaN    NaN   NaN    NaN  \n",
       "24887         NaN    NaN   NaN    NaN  \n",
       "...           ...    ...   ...    ...  \n",
       "22779         NaN    NaN   NaN    NaN  \n",
       "40560         NaN    NaN   NaN    NaN  \n",
       "37248         NaN    NaN   NaN    NaN  \n",
       "6454          NaN    NaN   NaN    NaN  \n",
       "38985         NaN    NaN   NaN    NaN  \n",
       "\n",
       "[100 rows x 100 columns]"
      ]
     },
     "execution_count": 4,
     "metadata": {},
     "output_type": "execute_result"
    }
   ],
   "source": [
    "df_cr"
   ]
  },
  {
   "cell_type": "code",
   "execution_count": 5,
   "metadata": {},
   "outputs": [],
   "source": [
    "df_pa=pd.read_csv(r\"C:\\Users\\jojoa\\GitHub\\staph\\data\\binary_matrix.csv\")"
   ]
  },
  {
   "cell_type": "code",
   "execution_count": 6,
   "metadata": {
    "scrolled": true
   },
   "outputs": [],
   "source": [
    "df_pa=df_pa.set_index('Unnamed: 0')"
   ]
  },
  {
   "cell_type": "markdown",
   "metadata": {},
   "source": [
    "For an exmaple, let's look at the difference in genes between strains 18942 and 36653."
   ]
  },
  {
   "cell_type": "code",
   "execution_count": 7,
   "metadata": {},
   "outputs": [
    {
     "data": {
      "text/plain": [
       "Unnamed: 0\n",
       "0        1\n",
       "1        1\n",
       "2        1\n",
       "3        1\n",
       "4        1\n",
       "        ..\n",
       "29715    0\n",
       "29716    0\n",
       "29717    0\n",
       "29718    0\n",
       "29719    0\n",
       "Name: 36653, Length: 29720, dtype: int64"
      ]
     },
     "execution_count": 7,
     "metadata": {},
     "output_type": "execute_result"
    }
   ],
   "source": [
    "df_pa['36653']"
   ]
  },
  {
   "cell_type": "code",
   "execution_count": 8,
   "metadata": {},
   "outputs": [
    {
     "data": {
      "text/plain": [
       "Unnamed: 0\n",
       "0        1\n",
       "1        1\n",
       "2        1\n",
       "3        1\n",
       "4        1\n",
       "        ..\n",
       "29715    0\n",
       "29716    0\n",
       "29717    0\n",
       "29718    0\n",
       "29719    0\n",
       "Name: 18942, Length: 29720, dtype: int64"
      ]
     },
     "execution_count": 8,
     "metadata": {},
     "output_type": "execute_result"
    }
   ],
   "source": [
    "df_pa['18942']"
   ]
  },
  {
   "cell_type": "code",
   "execution_count": 9,
   "metadata": {},
   "outputs": [
    {
     "data": {
      "text/plain": [
       "Unnamed: 0\n",
       "0        0\n",
       "1        0\n",
       "2        0\n",
       "3        0\n",
       "4        0\n",
       "        ..\n",
       "29715    0\n",
       "29716    0\n",
       "29717    0\n",
       "29718    0\n",
       "29719    0\n",
       "Length: 29720, dtype: int64"
      ]
     },
     "execution_count": 9,
     "metadata": {},
     "output_type": "execute_result"
    }
   ],
   "source": [
    "diff=df_pa['36653']-df_pa['18942']\n",
    "diff"
   ]
  },
  {
   "cell_type": "code",
   "execution_count": 10,
   "metadata": {},
   "outputs": [],
   "source": [
    "gene_diff=diff.to_numpy().nonzero() "
   ]
  },
  {
   "cell_type": "markdown",
   "metadata": {},
   "source": [
    "These numbers represent the indecies at which our two strains differ. These indecies directly correlate to genes. Thus, we can see which genes the two strains differ by."
   ]
  },
  {
   "cell_type": "code",
   "execution_count": 11,
   "metadata": {},
   "outputs": [],
   "source": [
    "gene_diff=gene_diff[0]"
   ]
  },
  {
   "cell_type": "code",
   "execution_count": 12,
   "metadata": {},
   "outputs": [
    {
     "data": {
      "text/plain": [
       "(98,\n",
       " array([1886, 1939, 1969, 2080, 2083, 2093, 2120, 2161, 2165, 2177, 2216,\n",
       "        2221, 2270, 2355, 2380, 2408, 2439, 2452, 2455, 2472, 2561, 2611,\n",
       "        2613, 2643, 2677, 2695, 2696, 2728, 2743, 2772, 2785, 2833, 2894,\n",
       "        2942, 2970, 2978, 2989, 2990, 3003, 3011, 3015, 3024, 3028, 3097,\n",
       "        3119, 3120, 3122, 3136, 3149, 3151, 3154, 3157, 3158, 3193, 3203,\n",
       "        3216, 3231, 3247, 3287, 3303, 3307, 3366, 3372, 3374, 3381, 3404,\n",
       "        3408, 3414, 3432, 3447, 3451, 3453, 3464, 3472, 3527, 3547, 3603,\n",
       "        3614, 3627, 3663, 3672, 3696, 3723, 3776, 3790, 3798, 3801, 3880,\n",
       "        3899, 4177, 4509, 4525, 4898, 5004, 5320, 5384, 5416, 6318],\n",
       "       dtype=int64))"
      ]
     },
     "execution_count": 12,
     "metadata": {},
     "output_type": "execute_result"
    }
   ],
   "source": [
    "len(gene_diff), gene_diff"
   ]
  },
  {
   "cell_type": "markdown",
   "metadata": {},
   "source": [
    "From this, we can see that the two strains differ by 98 genes. We can continue this cycle for all the 100 strains."
   ]
  },
  {
   "cell_type": "code",
   "execution_count": 13,
   "metadata": {},
   "outputs": [
    {
     "name": "stdout",
     "output_type": "stream",
     "text": [
      "0\n"
     ]
    }
   ],
   "source": [
    "if isinstance(df_cr.iloc[0,0],float)==True:\n",
    "            diff=df_pa[str(df_cr.columns[0])]-df_pa[str(df_cr.index[0])]\n",
    "            gene_diff=diff.to_numpy().nonzero()\n",
    "            gene_diff=gene_diff[0]\n",
    "            print(len(gene_diff))"
   ]
  },
  {
   "cell_type": "code",
   "execution_count": 14,
   "metadata": {},
   "outputs": [],
   "source": [
    "gene_list=[] #list of all closely related strains with the genes that differ\n",
    "gene_diff_list=[] #list of all closely related strains with number of genes that differ"
   ]
  },
  {
   "cell_type": "code",
   "execution_count": 15,
   "metadata": {},
   "outputs": [],
   "source": [
    "for i in range(0,len(df_cr.columns)): #columns + len(df_cr.columns)\n",
    "    for j in range(0,len(df_cr)): #rows+len(df_cr)\n",
    "        if pd.isna(df_cr.iloc[j,i])==False: #if cell is not empty, then calculate gene diff between strains\n",
    "            diff=df_pa[str(df_cr.columns[i])]-df_pa[str(df_cr.index[j])]\n",
    "            gene_diff=diff.to_numpy().nonzero()\n",
    "            gene_diff=gene_diff[0]\n",
    "            gene_list.append({\"Gene Difference\":gene_diff, \"Gene Difference Length\":len(gene_diff),\n",
    "                              \"Strain 1\":str(df_cr.columns[i]),\"Strain 2\":str(df_cr.index[j])})"
   ]
  },
  {
   "cell_type": "code",
   "execution_count": 16,
   "metadata": {},
   "outputs": [
    {
     "data": {
      "text/plain": [
       "array([  43,  265,  344, ..., 3921, 4177, 4898], dtype=int64)"
      ]
     },
     "execution_count": 16,
     "metadata": {},
     "output_type": "execute_result"
    }
   ],
   "source": [
    "diff=df_pa[str(df_cr.columns[0])]-df_pa[str(df_cr.index[1])]\n",
    "gene_diff=diff.to_numpy().nonzero()\n",
    "gene_diff=gene_diff[0]\n",
    "gene_diff"
   ]
  },
  {
   "cell_type": "code",
   "execution_count": 17,
   "metadata": {},
   "outputs": [],
   "source": [
    "gene_list=pd.DataFrame(gene_list) #dataframe with two strains that are closely related, the length of gene difference, and\n",
    "# which genes differ"
   ]
  },
  {
   "cell_type": "markdown",
   "metadata": {},
   "source": [
    "We have 756 pairs of strains that are closely related."
   ]
  },
  {
   "cell_type": "code",
   "execution_count": 18,
   "metadata": {},
   "outputs": [],
   "source": [
    "gene_diff_len=gene_list['Gene Difference Length']"
   ]
  },
  {
   "cell_type": "code",
   "execution_count": 19,
   "metadata": {},
   "outputs": [
    {
     "data": {
      "image/png": "[encoded data removed]",
      "text/plain": [
       "<Figure size 640x480 with 1 Axes>"
      ]
     },
     "metadata": {
      "needs_background": "light"
     },
     "output_type": "display_data"
    }
   ],
   "source": [
    "figure(figsize=(8, 6), dpi=80)\n",
    "hist=plt.hist(gene_diff_len,bins=45)\n",
    "plt.xlabel('Gene Difference')\n",
    "plt.ylabel('Counts')\n",
    "plt.title('Histogram of Gene Difference for Closely Related Strains')\n",
    "#plt.savefig(r\"C:\\Users\\jojoa\\GitHub\\staph\\images\\gene_hist\")\n",
    "#plt.axvline(316.5) mean\n",
    "plt.savefig(r\"C:\\Users\\jojoa\\GitHub\\staph\\images\\gene_hist.eps\",format='eps')"
   ]
  },
  {
   "cell_type": "code",
   "execution_count": 20,
   "metadata": {},
   "outputs": [
    {
     "data": {
      "text/plain": [
       "347.3276836158192"
      ]
     },
     "execution_count": 20,
     "metadata": {},
     "output_type": "execute_result"
    }
   ],
   "source": [
    "np.mean(gene_diff_len)"
   ]
  },
  {
   "cell_type": "code",
   "execution_count": 21,
   "metadata": {},
   "outputs": [],
   "source": [
    "df_dist = pd.read_csv(r\"C:\\Users\\jojoa\\GitHub\\staph\\data\\dist_matrix.csv\")\n",
    "df_dist = df_dist.set_index('Unnamed: 0')\n",
    "df_dist=df_dist.rename(columns={\"Unnamed: 0\": \"Strains\"})"
   ]
  },
  {
   "cell_type": "code",
   "execution_count": 22,
   "metadata": {},
   "outputs": [],
   "source": [
    "dist_list=[]"
   ]
  },
  {
   "cell_type": "code",
   "execution_count": 23,
   "metadata": {},
   "outputs": [],
   "source": [
    "for i in range(0,len(gene_list.index)):\n",
    "    strain1=gene_list['Strain 1'].iloc[i]\n",
    "    strain2=gene_list['Strain 2'].iloc[i]\n",
    "    strain2=int(strain2)\n",
    "    a=df_dist[strain1] #distances for all strains related to strain 1\n",
    "    dist=a.loc[strain2] #dist btw strain 1 and strain 2\n",
    "    dist_list.append({\"Strain 1\":strain1,\"Strain 2\":strain2, \"Core Distance\":dist})"
   ]
  },
  {
   "cell_type": "code",
   "execution_count": 24,
   "metadata": {},
   "outputs": [],
   "source": [
    "dist_list=pd.DataFrame(dist_list) #dataframe with two strains that are closely related and dist between them"
   ]
  },
  {
   "cell_type": "code",
   "execution_count": 25,
   "metadata": {},
   "outputs": [
    {
     "data": {
      "text/html": [
       "<div>\n",
       "<style scoped>\n",
       "    .dataframe tbody tr th:only-of-type {\n",
       "        vertical-align: middle;\n",
       "    }\n",
       "\n",
       "    .dataframe tbody tr th {\n",
       "        vertical-align: top;\n",
       "    }\n",
       "\n",
       "    .dataframe thead th {\n",
       "        text-align: right;\n",
       "    }\n",
       "</style>\n",
       "<table border=\"1\" class=\"dataframe\">\n",
       "  <thead>\n",
       "    <tr style=\"text-align: right;\">\n",
       "      <th></th>\n",
       "      <th>Strain 1</th>\n",
       "      <th>Strain 2</th>\n",
       "      <th>Core Distance</th>\n",
       "    </tr>\n",
       "  </thead>\n",
       "  <tbody>\n",
       "    <tr>\n",
       "      <th>0</th>\n",
       "      <td>18942</td>\n",
       "      <td>36653</td>\n",
       "      <td>0.000044</td>\n",
       "    </tr>\n",
       "    <tr>\n",
       "      <th>1</th>\n",
       "      <td>18942</td>\n",
       "      <td>31541</td>\n",
       "      <td>0.000057</td>\n",
       "    </tr>\n",
       "    <tr>\n",
       "      <th>2</th>\n",
       "      <td>18942</td>\n",
       "      <td>36962</td>\n",
       "      <td>0.000063</td>\n",
       "    </tr>\n",
       "    <tr>\n",
       "      <th>3</th>\n",
       "      <td>18942</td>\n",
       "      <td>15699</td>\n",
       "      <td>0.000044</td>\n",
       "    </tr>\n",
       "    <tr>\n",
       "      <th>4</th>\n",
       "      <td>18942</td>\n",
       "      <td>24898</td>\n",
       "      <td>0.000050</td>\n",
       "    </tr>\n",
       "    <tr>\n",
       "      <th>...</th>\n",
       "      <td>...</td>\n",
       "      <td>...</td>\n",
       "      <td>...</td>\n",
       "    </tr>\n",
       "    <tr>\n",
       "      <th>349</th>\n",
       "      <td>42995</td>\n",
       "      <td>37248</td>\n",
       "      <td>0.000199</td>\n",
       "    </tr>\n",
       "    <tr>\n",
       "      <th>350</th>\n",
       "      <td>449</td>\n",
       "      <td>4302</td>\n",
       "      <td>0.000135</td>\n",
       "    </tr>\n",
       "    <tr>\n",
       "      <th>351</th>\n",
       "      <td>449</td>\n",
       "      <td>20565</td>\n",
       "      <td>0.000154</td>\n",
       "    </tr>\n",
       "    <tr>\n",
       "      <th>352</th>\n",
       "      <td>2874</td>\n",
       "      <td>2448</td>\n",
       "      <td>0.000287</td>\n",
       "    </tr>\n",
       "    <tr>\n",
       "      <th>353</th>\n",
       "      <td>2874</td>\n",
       "      <td>1076</td>\n",
       "      <td>0.000307</td>\n",
       "    </tr>\n",
       "  </tbody>\n",
       "</table>\n",
       "<p>354 rows × 3 columns</p>\n",
       "</div>"
      ],
      "text/plain": [
       "    Strain 1  Strain 2  Core Distance\n",
       "0      18942     36653       0.000044\n",
       "1      18942     31541       0.000057\n",
       "2      18942     36962       0.000063\n",
       "3      18942     15699       0.000044\n",
       "4      18942     24898       0.000050\n",
       "..       ...       ...            ...\n",
       "349    42995     37248       0.000199\n",
       "350      449      4302       0.000135\n",
       "351      449     20565       0.000154\n",
       "352     2874      2448       0.000287\n",
       "353     2874      1076       0.000307\n",
       "\n",
       "[354 rows x 3 columns]"
      ]
     },
     "execution_count": 25,
     "metadata": {},
     "output_type": "execute_result"
    }
   ],
   "source": [
    "dist_list"
   ]
  },
  {
   "cell_type": "code",
   "execution_count": 26,
   "metadata": {},
   "outputs": [
    {
     "data": {
      "text/html": [
       "<div>\n",
       "<style scoped>\n",
       "    .dataframe tbody tr th:only-of-type {\n",
       "        vertical-align: middle;\n",
       "    }\n",
       "\n",
       "    .dataframe tbody tr th {\n",
       "        vertical-align: top;\n",
       "    }\n",
       "\n",
       "    .dataframe thead th {\n",
       "        text-align: right;\n",
       "    }\n",
       "</style>\n",
       "<table border=\"1\" class=\"dataframe\">\n",
       "  <thead>\n",
       "    <tr style=\"text-align: right;\">\n",
       "      <th></th>\n",
       "      <th>Gene Difference</th>\n",
       "      <th>Gene Difference Length</th>\n",
       "      <th>Strain 1</th>\n",
       "      <th>Strain 2</th>\n",
       "    </tr>\n",
       "  </thead>\n",
       "  <tbody>\n",
       "    <tr>\n",
       "      <th>0</th>\n",
       "      <td>[1886, 1939, 1969, 2080, 2083, 2093, 2120, 216...</td>\n",
       "      <td>98</td>\n",
       "      <td>18942</td>\n",
       "      <td>36653</td>\n",
       "    </tr>\n",
       "    <tr>\n",
       "      <th>1</th>\n",
       "      <td>[1886, 1939, 2027, 2042, 2083, 2093, 2120, 216...</td>\n",
       "      <td>106</td>\n",
       "      <td>18942</td>\n",
       "      <td>31541</td>\n",
       "    </tr>\n",
       "    <tr>\n",
       "      <th>2</th>\n",
       "      <td>[1939, 2080, 2083, 2093, 2120, 2165, 2177, 222...</td>\n",
       "      <td>109</td>\n",
       "      <td>18942</td>\n",
       "      <td>36962</td>\n",
       "    </tr>\n",
       "    <tr>\n",
       "      <th>3</th>\n",
       "      <td>[1939, 1994, 2027, 2083, 2093, 2120, 2123, 216...</td>\n",
       "      <td>157</td>\n",
       "      <td>18942</td>\n",
       "      <td>15699</td>\n",
       "    </tr>\n",
       "    <tr>\n",
       "      <th>4</th>\n",
       "      <td>[1939, 2080, 2083, 2093, 2120, 2154, 2162, 216...</td>\n",
       "      <td>154</td>\n",
       "      <td>18942</td>\n",
       "      <td>24898</td>\n",
       "    </tr>\n",
       "    <tr>\n",
       "      <th>...</th>\n",
       "      <td>...</td>\n",
       "      <td>...</td>\n",
       "      <td>...</td>\n",
       "      <td>...</td>\n",
       "    </tr>\n",
       "    <tr>\n",
       "      <th>349</th>\n",
       "      <td>[1988, 2039, 2042, 2055, 2075, 2076, 2077, 209...</td>\n",
       "      <td>410</td>\n",
       "      <td>42995</td>\n",
       "      <td>37248</td>\n",
       "    </tr>\n",
       "    <tr>\n",
       "      <th>350</th>\n",
       "      <td>[2055, 2075, 2080, 2100, 2106, 2132, 2141, 214...</td>\n",
       "      <td>248</td>\n",
       "      <td>449</td>\n",
       "      <td>4302</td>\n",
       "    </tr>\n",
       "    <tr>\n",
       "      <th>351</th>\n",
       "      <td>[1988, 2037, 2055, 2075, 2085, 2100, 2101, 210...</td>\n",
       "      <td>348</td>\n",
       "      <td>449</td>\n",
       "      <td>20565</td>\n",
       "    </tr>\n",
       "    <tr>\n",
       "      <th>352</th>\n",
       "      <td>[1902, 1989, 2034, 2080, 2083, 2245, 2249, 225...</td>\n",
       "      <td>347</td>\n",
       "      <td>2874</td>\n",
       "      <td>2448</td>\n",
       "    </tr>\n",
       "    <tr>\n",
       "      <th>353</th>\n",
       "      <td>[1578, 1587, 1628, 1636, 1645, 1655, 1656, 166...</td>\n",
       "      <td>400</td>\n",
       "      <td>2874</td>\n",
       "      <td>1076</td>\n",
       "    </tr>\n",
       "  </tbody>\n",
       "</table>\n",
       "<p>354 rows × 4 columns</p>\n",
       "</div>"
      ],
      "text/plain": [
       "                                       Gene Difference  \\\n",
       "0    [1886, 1939, 1969, 2080, 2083, 2093, 2120, 216...   \n",
       "1    [1886, 1939, 2027, 2042, 2083, 2093, 2120, 216...   \n",
       "2    [1939, 2080, 2083, 2093, 2120, 2165, 2177, 222...   \n",
       "3    [1939, 1994, 2027, 2083, 2093, 2120, 2123, 216...   \n",
       "4    [1939, 2080, 2083, 2093, 2120, 2154, 2162, 216...   \n",
       "..                                                 ...   \n",
       "349  [1988, 2039, 2042, 2055, 2075, 2076, 2077, 209...   \n",
       "350  [2055, 2075, 2080, 2100, 2106, 2132, 2141, 214...   \n",
       "351  [1988, 2037, 2055, 2075, 2085, 2100, 2101, 210...   \n",
       "352  [1902, 1989, 2034, 2080, 2083, 2245, 2249, 225...   \n",
       "353  [1578, 1587, 1628, 1636, 1645, 1655, 1656, 166...   \n",
       "\n",
       "     Gene Difference Length Strain 1 Strain 2  \n",
       "0                        98    18942    36653  \n",
       "1                       106    18942    31541  \n",
       "2                       109    18942    36962  \n",
       "3                       157    18942    15699  \n",
       "4                       154    18942    24898  \n",
       "..                      ...      ...      ...  \n",
       "349                     410    42995    37248  \n",
       "350                     248      449     4302  \n",
       "351                     348      449    20565  \n",
       "352                     347     2874     2448  \n",
       "353                     400     2874     1076  \n",
       "\n",
       "[354 rows x 4 columns]"
      ]
     },
     "execution_count": 26,
     "metadata": {},
     "output_type": "execute_result"
    }
   ],
   "source": [
    "gene_list"
   ]
  },
  {
   "cell_type": "code",
   "execution_count": 27,
   "metadata": {},
   "outputs": [],
   "source": [
    "df_col_merged = pd.concat([dist_list, gene_list], axis=1) #merged both dataframe"
   ]
  },
  {
   "cell_type": "code",
   "execution_count": 28,
   "metadata": {},
   "outputs": [
    {
     "data": {
      "text/html": [
       "<div>\n",
       "<style scoped>\n",
       "    .dataframe tbody tr th:only-of-type {\n",
       "        vertical-align: middle;\n",
       "    }\n",
       "\n",
       "    .dataframe tbody tr th {\n",
       "        vertical-align: top;\n",
       "    }\n",
       "\n",
       "    .dataframe thead th {\n",
       "        text-align: right;\n",
       "    }\n",
       "</style>\n",
       "<table border=\"1\" class=\"dataframe\">\n",
       "  <thead>\n",
       "    <tr style=\"text-align: right;\">\n",
       "      <th></th>\n",
       "      <th>Strain 1</th>\n",
       "      <th>Strain 2</th>\n",
       "      <th>Core Distance</th>\n",
       "      <th>Gene Difference</th>\n",
       "      <th>Gene Difference Length</th>\n",
       "      <th>Strain 1</th>\n",
       "      <th>Strain 2</th>\n",
       "    </tr>\n",
       "  </thead>\n",
       "  <tbody>\n",
       "    <tr>\n",
       "      <th>0</th>\n",
       "      <td>18942</td>\n",
       "      <td>36653</td>\n",
       "      <td>0.000044</td>\n",
       "      <td>[1886, 1939, 1969, 2080, 2083, 2093, 2120, 216...</td>\n",
       "      <td>98</td>\n",
       "      <td>18942</td>\n",
       "      <td>36653</td>\n",
       "    </tr>\n",
       "    <tr>\n",
       "      <th>1</th>\n",
       "      <td>18942</td>\n",
       "      <td>31541</td>\n",
       "      <td>0.000057</td>\n",
       "      <td>[1886, 1939, 2027, 2042, 2083, 2093, 2120, 216...</td>\n",
       "      <td>106</td>\n",
       "      <td>18942</td>\n",
       "      <td>31541</td>\n",
       "    </tr>\n",
       "    <tr>\n",
       "      <th>2</th>\n",
       "      <td>18942</td>\n",
       "      <td>36962</td>\n",
       "      <td>0.000063</td>\n",
       "      <td>[1939, 2080, 2083, 2093, 2120, 2165, 2177, 222...</td>\n",
       "      <td>109</td>\n",
       "      <td>18942</td>\n",
       "      <td>36962</td>\n",
       "    </tr>\n",
       "    <tr>\n",
       "      <th>3</th>\n",
       "      <td>18942</td>\n",
       "      <td>15699</td>\n",
       "      <td>0.000044</td>\n",
       "      <td>[1939, 1994, 2027, 2083, 2093, 2120, 2123, 216...</td>\n",
       "      <td>157</td>\n",
       "      <td>18942</td>\n",
       "      <td>15699</td>\n",
       "    </tr>\n",
       "    <tr>\n",
       "      <th>4</th>\n",
       "      <td>18942</td>\n",
       "      <td>24898</td>\n",
       "      <td>0.000050</td>\n",
       "      <td>[1939, 2080, 2083, 2093, 2120, 2154, 2162, 216...</td>\n",
       "      <td>154</td>\n",
       "      <td>18942</td>\n",
       "      <td>24898</td>\n",
       "    </tr>\n",
       "    <tr>\n",
       "      <th>...</th>\n",
       "      <td>...</td>\n",
       "      <td>...</td>\n",
       "      <td>...</td>\n",
       "      <td>...</td>\n",
       "      <td>...</td>\n",
       "      <td>...</td>\n",
       "      <td>...</td>\n",
       "    </tr>\n",
       "    <tr>\n",
       "      <th>349</th>\n",
       "      <td>42995</td>\n",
       "      <td>37248</td>\n",
       "      <td>0.000199</td>\n",
       "      <td>[1988, 2039, 2042, 2055, 2075, 2076, 2077, 209...</td>\n",
       "      <td>410</td>\n",
       "      <td>42995</td>\n",
       "      <td>37248</td>\n",
       "    </tr>\n",
       "    <tr>\n",
       "      <th>350</th>\n",
       "      <td>449</td>\n",
       "      <td>4302</td>\n",
       "      <td>0.000135</td>\n",
       "      <td>[2055, 2075, 2080, 2100, 2106, 2132, 2141, 214...</td>\n",
       "      <td>248</td>\n",
       "      <td>449</td>\n",
       "      <td>4302</td>\n",
       "    </tr>\n",
       "    <tr>\n",
       "      <th>351</th>\n",
       "      <td>449</td>\n",
       "      <td>20565</td>\n",
       "      <td>0.000154</td>\n",
       "      <td>[1988, 2037, 2055, 2075, 2085, 2100, 2101, 210...</td>\n",
       "      <td>348</td>\n",
       "      <td>449</td>\n",
       "      <td>20565</td>\n",
       "    </tr>\n",
       "    <tr>\n",
       "      <th>352</th>\n",
       "      <td>2874</td>\n",
       "      <td>2448</td>\n",
       "      <td>0.000287</td>\n",
       "      <td>[1902, 1989, 2034, 2080, 2083, 2245, 2249, 225...</td>\n",
       "      <td>347</td>\n",
       "      <td>2874</td>\n",
       "      <td>2448</td>\n",
       "    </tr>\n",
       "    <tr>\n",
       "      <th>353</th>\n",
       "      <td>2874</td>\n",
       "      <td>1076</td>\n",
       "      <td>0.000307</td>\n",
       "      <td>[1578, 1587, 1628, 1636, 1645, 1655, 1656, 166...</td>\n",
       "      <td>400</td>\n",
       "      <td>2874</td>\n",
       "      <td>1076</td>\n",
       "    </tr>\n",
       "  </tbody>\n",
       "</table>\n",
       "<p>354 rows × 7 columns</p>\n",
       "</div>"
      ],
      "text/plain": [
       "    Strain 1 Strain 2  Core Distance  \\\n",
       "0      18942    36653       0.000044   \n",
       "1      18942    31541       0.000057   \n",
       "2      18942    36962       0.000063   \n",
       "3      18942    15699       0.000044   \n",
       "4      18942    24898       0.000050   \n",
       "..       ...      ...            ...   \n",
       "349    42995    37248       0.000199   \n",
       "350      449     4302       0.000135   \n",
       "351      449    20565       0.000154   \n",
       "352     2874     2448       0.000287   \n",
       "353     2874     1076       0.000307   \n",
       "\n",
       "                                       Gene Difference  \\\n",
       "0    [1886, 1939, 1969, 2080, 2083, 2093, 2120, 216...   \n",
       "1    [1886, 1939, 2027, 2042, 2083, 2093, 2120, 216...   \n",
       "2    [1939, 2080, 2083, 2093, 2120, 2165, 2177, 222...   \n",
       "3    [1939, 1994, 2027, 2083, 2093, 2120, 2123, 216...   \n",
       "4    [1939, 2080, 2083, 2093, 2120, 2154, 2162, 216...   \n",
       "..                                                 ...   \n",
       "349  [1988, 2039, 2042, 2055, 2075, 2076, 2077, 209...   \n",
       "350  [2055, 2075, 2080, 2100, 2106, 2132, 2141, 214...   \n",
       "351  [1988, 2037, 2055, 2075, 2085, 2100, 2101, 210...   \n",
       "352  [1902, 1989, 2034, 2080, 2083, 2245, 2249, 225...   \n",
       "353  [1578, 1587, 1628, 1636, 1645, 1655, 1656, 166...   \n",
       "\n",
       "     Gene Difference Length Strain 1 Strain 2  \n",
       "0                        98    18942    36653  \n",
       "1                       106    18942    31541  \n",
       "2                       109    18942    36962  \n",
       "3                       157    18942    15699  \n",
       "4                       154    18942    24898  \n",
       "..                      ...      ...      ...  \n",
       "349                     410    42995    37248  \n",
       "350                     248      449     4302  \n",
       "351                     348      449    20565  \n",
       "352                     347     2874     2448  \n",
       "353                     400     2874     1076  \n",
       "\n",
       "[354 rows x 7 columns]"
      ]
     },
     "execution_count": 28,
     "metadata": {},
     "output_type": "execute_result"
    }
   ],
   "source": [
    "df_col_merged"
   ]
  },
  {
   "cell_type": "code",
   "execution_count": 29,
   "metadata": {},
   "outputs": [],
   "source": [
    "df_col_merged = df_col_merged.loc[:,~df_col_merged.columns.duplicated()].copy() #removed duplicate columns"
   ]
  },
  {
   "cell_type": "code",
   "execution_count": 30,
   "metadata": {},
   "outputs": [
    {
     "data": {
      "text/html": [
       "<div>\n",
       "<style scoped>\n",
       "    .dataframe tbody tr th:only-of-type {\n",
       "        vertical-align: middle;\n",
       "    }\n",
       "\n",
       "    .dataframe tbody tr th {\n",
       "        vertical-align: top;\n",
       "    }\n",
       "\n",
       "    .dataframe thead th {\n",
       "        text-align: right;\n",
       "    }\n",
       "</style>\n",
       "<table border=\"1\" class=\"dataframe\">\n",
       "  <thead>\n",
       "    <tr style=\"text-align: right;\">\n",
       "      <th></th>\n",
       "      <th>Strain 1</th>\n",
       "      <th>Strain 2</th>\n",
       "      <th>Core Distance</th>\n",
       "      <th>Gene Difference</th>\n",
       "      <th>Gene Difference Length</th>\n",
       "    </tr>\n",
       "  </thead>\n",
       "  <tbody>\n",
       "    <tr>\n",
       "      <th>0</th>\n",
       "      <td>18942</td>\n",
       "      <td>36653</td>\n",
       "      <td>0.000044</td>\n",
       "      <td>[1886, 1939, 1969, 2080, 2083, 2093, 2120, 216...</td>\n",
       "      <td>98</td>\n",
       "    </tr>\n",
       "    <tr>\n",
       "      <th>1</th>\n",
       "      <td>18942</td>\n",
       "      <td>31541</td>\n",
       "      <td>0.000057</td>\n",
       "      <td>[1886, 1939, 2027, 2042, 2083, 2093, 2120, 216...</td>\n",
       "      <td>106</td>\n",
       "    </tr>\n",
       "    <tr>\n",
       "      <th>2</th>\n",
       "      <td>18942</td>\n",
       "      <td>36962</td>\n",
       "      <td>0.000063</td>\n",
       "      <td>[1939, 2080, 2083, 2093, 2120, 2165, 2177, 222...</td>\n",
       "      <td>109</td>\n",
       "    </tr>\n",
       "    <tr>\n",
       "      <th>3</th>\n",
       "      <td>18942</td>\n",
       "      <td>15699</td>\n",
       "      <td>0.000044</td>\n",
       "      <td>[1939, 1994, 2027, 2083, 2093, 2120, 2123, 216...</td>\n",
       "      <td>157</td>\n",
       "    </tr>\n",
       "    <tr>\n",
       "      <th>4</th>\n",
       "      <td>18942</td>\n",
       "      <td>24898</td>\n",
       "      <td>0.000050</td>\n",
       "      <td>[1939, 2080, 2083, 2093, 2120, 2154, 2162, 216...</td>\n",
       "      <td>154</td>\n",
       "    </tr>\n",
       "    <tr>\n",
       "      <th>...</th>\n",
       "      <td>...</td>\n",
       "      <td>...</td>\n",
       "      <td>...</td>\n",
       "      <td>...</td>\n",
       "      <td>...</td>\n",
       "    </tr>\n",
       "    <tr>\n",
       "      <th>349</th>\n",
       "      <td>42995</td>\n",
       "      <td>37248</td>\n",
       "      <td>0.000199</td>\n",
       "      <td>[1988, 2039, 2042, 2055, 2075, 2076, 2077, 209...</td>\n",
       "      <td>410</td>\n",
       "    </tr>\n",
       "    <tr>\n",
       "      <th>350</th>\n",
       "      <td>449</td>\n",
       "      <td>4302</td>\n",
       "      <td>0.000135</td>\n",
       "      <td>[2055, 2075, 2080, 2100, 2106, 2132, 2141, 214...</td>\n",
       "      <td>248</td>\n",
       "    </tr>\n",
       "    <tr>\n",
       "      <th>351</th>\n",
       "      <td>449</td>\n",
       "      <td>20565</td>\n",
       "      <td>0.000154</td>\n",
       "      <td>[1988, 2037, 2055, 2075, 2085, 2100, 2101, 210...</td>\n",
       "      <td>348</td>\n",
       "    </tr>\n",
       "    <tr>\n",
       "      <th>352</th>\n",
       "      <td>2874</td>\n",
       "      <td>2448</td>\n",
       "      <td>0.000287</td>\n",
       "      <td>[1902, 1989, 2034, 2080, 2083, 2245, 2249, 225...</td>\n",
       "      <td>347</td>\n",
       "    </tr>\n",
       "    <tr>\n",
       "      <th>353</th>\n",
       "      <td>2874</td>\n",
       "      <td>1076</td>\n",
       "      <td>0.000307</td>\n",
       "      <td>[1578, 1587, 1628, 1636, 1645, 1655, 1656, 166...</td>\n",
       "      <td>400</td>\n",
       "    </tr>\n",
       "  </tbody>\n",
       "</table>\n",
       "<p>354 rows × 5 columns</p>\n",
       "</div>"
      ],
      "text/plain": [
       "    Strain 1  Strain 2  Core Distance  \\\n",
       "0      18942     36653       0.000044   \n",
       "1      18942     31541       0.000057   \n",
       "2      18942     36962       0.000063   \n",
       "3      18942     15699       0.000044   \n",
       "4      18942     24898       0.000050   \n",
       "..       ...       ...            ...   \n",
       "349    42995     37248       0.000199   \n",
       "350      449      4302       0.000135   \n",
       "351      449     20565       0.000154   \n",
       "352     2874      2448       0.000287   \n",
       "353     2874      1076       0.000307   \n",
       "\n",
       "                                       Gene Difference  Gene Difference Length  \n",
       "0    [1886, 1939, 1969, 2080, 2083, 2093, 2120, 216...                      98  \n",
       "1    [1886, 1939, 2027, 2042, 2083, 2093, 2120, 216...                     106  \n",
       "2    [1939, 2080, 2083, 2093, 2120, 2165, 2177, 222...                     109  \n",
       "3    [1939, 1994, 2027, 2083, 2093, 2120, 2123, 216...                     157  \n",
       "4    [1939, 2080, 2083, 2093, 2120, 2154, 2162, 216...                     154  \n",
       "..                                                 ...                     ...  \n",
       "349  [1988, 2039, 2042, 2055, 2075, 2076, 2077, 209...                     410  \n",
       "350  [2055, 2075, 2080, 2100, 2106, 2132, 2141, 214...                     248  \n",
       "351  [1988, 2037, 2055, 2075, 2085, 2100, 2101, 210...                     348  \n",
       "352  [1902, 1989, 2034, 2080, 2083, 2245, 2249, 225...                     347  \n",
       "353  [1578, 1587, 1628, 1636, 1645, 1655, 1656, 166...                     400  \n",
       "\n",
       "[354 rows x 5 columns]"
      ]
     },
     "execution_count": 30,
     "metadata": {},
     "output_type": "execute_result"
    }
   ],
   "source": [
    "df_col_merged"
   ]
  },
  {
   "cell_type": "code",
   "execution_count": 31,
   "metadata": {},
   "outputs": [
    {
     "data": {
      "text/plain": [
       "<matplotlib.collections.PathCollection at 0x1c142dc09d0>"
      ]
     },
     "execution_count": 31,
     "metadata": {},
     "output_type": "execute_result"
    },
    {
     "data": {
      "image/png": "[encoded data removed]",
      "text/plain": [
       "<Figure size 640x480 with 1 Axes>"
      ]
     },
     "metadata": {
      "needs_background": "light"
     },
     "output_type": "display_data"
    }
   ],
   "source": [
    "figure(figsize=(8, 6), dpi=80)\n",
    "plt.scatter(df_col_merged['Core Distance'],df_col_merged['Gene Difference Length'], color='r')"
   ]
  },
  {
   "cell_type": "code",
   "execution_count": 32,
   "metadata": {},
   "outputs": [
    {
     "name": "stdout",
     "output_type": "stream",
     "text": [
      "y=310547.611492x+(260.236381)\n"
     ]
    },
    {
     "data": {
      "image/png": "[encoded data removed]",
      "text/plain": [
       "<Figure size 432x288 with 1 Axes>"
      ]
     },
     "metadata": {
      "needs_background": "light"
     },
     "output_type": "display_data"
    }
   ],
   "source": [
    "# calculating the trend line\n",
    "z = np.polyfit(df_col_merged['Core Distance'],df_col_merged['Gene Difference Length'], 1)\n",
    "p = np.poly1d(z)\n",
    "plt.plot(df_col_merged['Core Distance'],p(df_col_merged['Core Distance']),\"r--\")\n",
    "# the line equation:\n",
    "print(\"y=%.6fx+(%.6f)\"%(z[0],z[1]))"
   ]
  },
  {
   "cell_type": "code",
   "execution_count": 33,
   "metadata": {},
   "outputs": [
    {
     "name": "stderr",
     "output_type": "stream",
     "text": [
      "The PostScript backend does not support transparency; partially transparent artists will be rendered opaque.\n",
      "The PostScript backend does not support transparency; partially transparent artists will be rendered opaque.\n"
     ]
    },
    {
     "data": {
      "image/png": "[encoded data removed]",
      "text/plain": [
       "<Figure size 640x480 with 1 Axes>"
      ]
     },
     "metadata": {
      "needs_background": "light"
     },
     "output_type": "display_data"
    }
   ],
   "source": [
    "figure(figsize=(8, 6), dpi=80)\n",
    "plt.scatter(df_col_merged['Core Distance'],df_col_merged['Gene Difference Length'], color='b')\n",
    "plt.scatter(df_col_merged['Core Distance'][8],df_col_merged['Gene Difference Length'][8], color='g',label='1053, 2874')\n",
    "plt.scatter(df_col_merged['Core Distance'][9],df_col_merged['Gene Difference Length'][9], color='red',label='1053, 2448')\n",
    "plt.scatter(df_col_merged['Core Distance'][10],df_col_merged['Gene Difference Length'][10], color='pink',label='1053, 1076')\n",
    "plt.scatter(df_col_merged['Core Distance'][7],df_col_merged['Gene Difference Length'][7], color='orange',label='1053, 156')\n",
    "#plt.plot(df_col_merged['Core Distance'],p(df_col_merged['Core Distance']),\"r--\")\n",
    "plt.title('Core Distance versus Gene Difference in Closely Related Pairs of S. aureus')\n",
    "plt.xlabel('Core Distance')\n",
    "plt.ylabel('Gene Difference')\n",
    "plt.legend()\n",
    "#plt.savefig(r\"C:\\Users\\jojoa\\GitHub\\staph\\images\\dist_vs_dist\")\n",
    "plt.savefig(r\"C:\\Users\\jojoa\\GitHub\\staph\\images\\dist_vs_dist.eps\",format='eps')"
   ]
  },
  {
   "cell_type": "code",
   "execution_count": 34,
   "metadata": {},
   "outputs": [
    {
     "data": {
      "text/plain": [
       "218.61835003224942"
      ]
     },
     "execution_count": 34,
     "metadata": {},
     "output_type": "execute_result"
    }
   ],
   "source": [
    "statistics.stdev(df_col_merged['Gene Difference Length'])"
   ]
  },
  {
   "cell_type": "markdown",
   "metadata": {},
   "source": [
    "Let's see which gene was included the most in the gene difference."
   ]
  },
  {
   "cell_type": "code",
   "execution_count": 35,
   "metadata": {},
   "outputs": [],
   "source": [
    "all_genes=[]\n",
    "for i in range(0,len(df_col_merged['Gene Difference'])):\n",
    "    all_genes.append(df_col_merged['Gene Difference'][i]) #make the series of arrays into just one array"
   ]
  },
  {
   "cell_type": "code",
   "execution_count": 36,
   "metadata": {},
   "outputs": [],
   "source": [
    "genes_list=np.concatenate(all_genes).ravel().tolist() #make all the arrays just flatten into one list"
   ]
  },
  {
   "cell_type": "code",
   "execution_count": 37,
   "metadata": {},
   "outputs": [],
   "source": [
    "from collections import Counter"
   ]
  },
  {
   "cell_type": "code",
   "execution_count": 38,
   "metadata": {},
   "outputs": [],
   "source": [
    "count=Counter(genes_list) #count all instances of genes in closely related strains\n",
    "count=count.most_common() #sort by max occurrences to min"
   ]
  },
  {
   "cell_type": "markdown",
   "metadata": {},
   "source": [
    "Now we have a detailed list of all the genes in the closely related strains ranked by how often they show up in the pairs."
   ]
  },
  {
   "cell_type": "code",
   "execution_count": 39,
   "metadata": {},
   "outputs": [
    {
     "name": "stderr",
     "output_type": "stream",
     "text": [
      "C:\\Users\\jojoa\\.conda\\envs\\disperse_env\\lib\\site-packages\\IPython\\core\\interactiveshell.py:3165: DtypeWarning: Columns (14,15,16,17,18,19,20,21,22,23,24,25,26,27,28,29,30,31,32,33,34,35,36,37,38,39,40,41,42,43,44,45,46,47,48,49,50,51,52,53,54,55,56,57,58,59,60,61,62,63,64,65,66,68,69,70,71,72,73,74,75,76,77,78,79,80,81,82,83,84,85,86,87,88,89,90,91,92,93,94,95,96,97,98,99,100,101,102,103,104,105,106,107,108,109,110,111,112,113) have mixed types.Specify dtype option on import or set low_memory=False.\n",
      "  has_raised = await self.run_ast_nodes(code_ast.body, cell_name,\n"
     ]
    }
   ],
   "source": [
    "df_gene=pd.read_csv(r\"C:\\Users\\jojoa\\GitHub\\staph\\data\\presence_absence.csv\") #dataframe with gene names"
   ]
  },
  {
   "cell_type": "code",
   "execution_count": 40,
   "metadata": {},
   "outputs": [
    {
     "data": {
      "text/plain": [
       "'group_1428'"
      ]
     },
     "execution_count": 40,
     "metadata": {},
     "output_type": "execute_result"
    }
   ],
   "source": [
    "df_gene['Gene'][2333] #gene with most occurences"
   ]
  },
  {
   "cell_type": "markdown",
   "metadata": {},
   "source": [
    "This means that gene number 2333 is the highest occuring gene, with the actual gene being group_1428."
   ]
  },
  {
   "cell_type": "code",
   "execution_count": 41,
   "metadata": {},
   "outputs": [],
   "source": [
    "element=count[0]"
   ]
  },
  {
   "cell_type": "code",
   "execution_count": 42,
   "metadata": {},
   "outputs": [
    {
     "data": {
      "text/plain": [
       "2333"
      ]
     },
     "execution_count": 42,
     "metadata": {},
     "output_type": "execute_result"
    }
   ],
   "source": [
    "element[0]"
   ]
  },
  {
   "cell_type": "code",
   "execution_count": 43,
   "metadata": {},
   "outputs": [],
   "source": [
    "x_val = [x[0] for x in count]\n",
    "y_val = [x[1] for x in count]"
   ]
  },
  {
   "cell_type": "code",
   "execution_count": 44,
   "metadata": {},
   "outputs": [
    {
     "data": {
      "image/png": "[encoded data removed]",
      "text/plain": [
       "<Figure size 640x480 with 1 Axes>"
      ]
     },
     "metadata": {
      "needs_background": "light"
     },
     "output_type": "display_data"
    }
   ],
   "source": [
    "figure(figsize=(8, 6), dpi=80)\n",
    "plt.bar(x_val,y_val,color='green',width=10)\n",
    "plt.xlabel('Gene Index Number')\n",
    "plt.ylabel('Number of Occurrences')\n",
    "plt.title('Frequency of Genes in Closely Related Strains')\n",
    "#plt.savefig(r\"C:\\Users\\jojoa\\GitHub\\staph\\images\\freq_bar\")\n",
    "plt.savefig(r\"C:\\Users\\jojoa\\GitHub\\staph\\images\\freq_bar.eps\",format='eps')"
   ]
  },
  {
   "cell_type": "code",
   "execution_count": 45,
   "metadata": {},
   "outputs": [],
   "source": [
    "freq = {'Gene Index Number': x_val, 'Frequency': y_val}\n",
    "df_freq = pd.DataFrame(data=freq)"
   ]
  },
  {
   "cell_type": "code",
   "execution_count": 46,
   "metadata": {},
   "outputs": [
    {
     "data": {
      "text/html": [
       "<div>\n",
       "<style scoped>\n",
       "    .dataframe tbody tr th:only-of-type {\n",
       "        vertical-align: middle;\n",
       "    }\n",
       "\n",
       "    .dataframe tbody tr th {\n",
       "        vertical-align: top;\n",
       "    }\n",
       "\n",
       "    .dataframe thead th {\n",
       "        text-align: right;\n",
       "    }\n",
       "</style>\n",
       "<table border=\"1\" class=\"dataframe\">\n",
       "  <thead>\n",
       "    <tr style=\"text-align: right;\">\n",
       "      <th></th>\n",
       "      <th>Gene Index Number</th>\n",
       "      <th>Frequency</th>\n",
       "    </tr>\n",
       "  </thead>\n",
       "  <tbody>\n",
       "    <tr>\n",
       "      <th>0</th>\n",
       "      <td>2333</td>\n",
       "      <td>167</td>\n",
       "    </tr>\n",
       "    <tr>\n",
       "      <th>1</th>\n",
       "      <td>2346</td>\n",
       "      <td>166</td>\n",
       "    </tr>\n",
       "    <tr>\n",
       "      <th>2</th>\n",
       "      <td>2336</td>\n",
       "      <td>163</td>\n",
       "    </tr>\n",
       "    <tr>\n",
       "      <th>3</th>\n",
       "      <td>2544</td>\n",
       "      <td>163</td>\n",
       "    </tr>\n",
       "    <tr>\n",
       "      <th>4</th>\n",
       "      <td>2363</td>\n",
       "      <td>162</td>\n",
       "    </tr>\n",
       "    <tr>\n",
       "      <th>...</th>\n",
       "      <td>...</td>\n",
       "      <td>...</td>\n",
       "    </tr>\n",
       "    <tr>\n",
       "      <th>4146</th>\n",
       "      <td>6369</td>\n",
       "      <td>1</td>\n",
       "    </tr>\n",
       "    <tr>\n",
       "      <th>4147</th>\n",
       "      <td>6385</td>\n",
       "      <td>1</td>\n",
       "    </tr>\n",
       "    <tr>\n",
       "      <th>4148</th>\n",
       "      <td>7190</td>\n",
       "      <td>1</td>\n",
       "    </tr>\n",
       "    <tr>\n",
       "      <th>4149</th>\n",
       "      <td>11447</td>\n",
       "      <td>1</td>\n",
       "    </tr>\n",
       "    <tr>\n",
       "      <th>4150</th>\n",
       "      <td>15841</td>\n",
       "      <td>1</td>\n",
       "    </tr>\n",
       "  </tbody>\n",
       "</table>\n",
       "<p>4151 rows × 2 columns</p>\n",
       "</div>"
      ],
      "text/plain": [
       "      Gene Index Number  Frequency\n",
       "0                  2333        167\n",
       "1                  2346        166\n",
       "2                  2336        163\n",
       "3                  2544        163\n",
       "4                  2363        162\n",
       "...                 ...        ...\n",
       "4146               6369          1\n",
       "4147               6385          1\n",
       "4148               7190          1\n",
       "4149              11447          1\n",
       "4150              15841          1\n",
       "\n",
       "[4151 rows x 2 columns]"
      ]
     },
     "execution_count": 46,
     "metadata": {},
     "output_type": "execute_result"
    }
   ],
   "source": [
    "df_freq"
   ]
  },
  {
   "cell_type": "code",
   "execution_count": 47,
   "metadata": {
    "scrolled": true
   },
   "outputs": [
    {
     "data": {
      "text/plain": [
       "'group_978'"
      ]
     },
     "execution_count": 47,
     "metadata": {},
     "output_type": "execute_result"
    }
   ],
   "source": [
    "df_gene['Gene'][2336] #gene with most occurences"
   ]
  },
  {
   "cell_type": "code",
   "execution_count": 48,
   "metadata": {},
   "outputs": [],
   "source": [
    "df_freq.to_csv(r\"C:\\Users\\jojoa\\GitHub\\staph\\data\\gene_frequency.csv\",index=False)"
   ]
  },
  {
   "cell_type": "markdown",
   "metadata": {},
   "source": [
    "Now we can arrange the gene difference lengths in descending order to see which has the highest gene difference."
   ]
  },
  {
   "cell_type": "code",
   "execution_count": 49,
   "metadata": {},
   "outputs": [
    {
     "data": {
      "text/plain": [
       "8      1724\n",
       "9      1693\n",
       "10     1686\n",
       "7      1659\n",
       "314     783\n",
       "       ... \n",
       "75       36\n",
       "170      36\n",
       "174      35\n",
       "124      33\n",
       "120      21\n",
       "Name: Gene Difference Length, Length: 354, dtype: int64"
      ]
     },
     "execution_count": 49,
     "metadata": {},
     "output_type": "execute_result"
    }
   ],
   "source": [
    "df_col_merged['Gene Difference Length'].sort_values(ascending=False)"
   ]
  },
  {
   "cell_type": "code",
   "execution_count": 50,
   "metadata": {},
   "outputs": [
    {
     "data": {
      "text/plain": [
       "0      [1886, 1939, 1969, 2080, 2083, 2093, 2120, 216...\n",
       "1      [1886, 1939, 2027, 2042, 2083, 2093, 2120, 216...\n",
       "2      [1939, 2080, 2083, 2093, 2120, 2165, 2177, 222...\n",
       "3      [1939, 1994, 2027, 2083, 2093, 2120, 2123, 216...\n",
       "4      [1939, 2080, 2083, 2093, 2120, 2154, 2162, 216...\n",
       "                             ...                        \n",
       "349    [1988, 2039, 2042, 2055, 2075, 2076, 2077, 209...\n",
       "350    [2055, 2075, 2080, 2100, 2106, 2132, 2141, 214...\n",
       "351    [1988, 2037, 2055, 2075, 2085, 2100, 2101, 210...\n",
       "352    [1902, 1989, 2034, 2080, 2083, 2245, 2249, 225...\n",
       "353    [1578, 1587, 1628, 1636, 1645, 1655, 1656, 166...\n",
       "Name: Gene Difference, Length: 354, dtype: object"
      ]
     },
     "execution_count": 50,
     "metadata": {},
     "output_type": "execute_result"
    }
   ],
   "source": [
    "df_col_merged['Gene Difference']"
   ]
  },
  {
   "cell_type": "code",
   "execution_count": 51,
   "metadata": {},
   "outputs": [
    {
     "data": {
      "text/html": [
       "<div>\n",
       "<style scoped>\n",
       "    .dataframe tbody tr th:only-of-type {\n",
       "        vertical-align: middle;\n",
       "    }\n",
       "\n",
       "    .dataframe tbody tr th {\n",
       "        vertical-align: top;\n",
       "    }\n",
       "\n",
       "    .dataframe thead th {\n",
       "        text-align: right;\n",
       "    }\n",
       "</style>\n",
       "<table border=\"1\" class=\"dataframe\">\n",
       "  <thead>\n",
       "    <tr style=\"text-align: right;\">\n",
       "      <th></th>\n",
       "      <th>Strain 1</th>\n",
       "      <th>Strain 2</th>\n",
       "      <th>Core Distance</th>\n",
       "      <th>Gene Difference</th>\n",
       "      <th>Gene Difference Length</th>\n",
       "    </tr>\n",
       "  </thead>\n",
       "  <tbody>\n",
       "    <tr>\n",
       "      <th>7</th>\n",
       "      <td>1053</td>\n",
       "      <td>156</td>\n",
       "      <td>0.000117</td>\n",
       "      <td>[43, 265, 344, 368, 399, 409, 451, 486, 493, 5...</td>\n",
       "      <td>1659</td>\n",
       "    </tr>\n",
       "    <tr>\n",
       "      <th>8</th>\n",
       "      <td>1053</td>\n",
       "      <td>2874</td>\n",
       "      <td>0.000309</td>\n",
       "      <td>[43, 265, 344, 368, 399, 409, 451, 486, 493, 5...</td>\n",
       "      <td>1724</td>\n",
       "    </tr>\n",
       "    <tr>\n",
       "      <th>9</th>\n",
       "      <td>1053</td>\n",
       "      <td>2448</td>\n",
       "      <td>0.000101</td>\n",
       "      <td>[43, 265, 344, 368, 399, 409, 451, 486, 493, 5...</td>\n",
       "      <td>1693</td>\n",
       "    </tr>\n",
       "    <tr>\n",
       "      <th>10</th>\n",
       "      <td>1053</td>\n",
       "      <td>1076</td>\n",
       "      <td>0.000001</td>\n",
       "      <td>[43, 265, 344, 368, 399, 409, 451, 486, 493, 5...</td>\n",
       "      <td>1686</td>\n",
       "    </tr>\n",
       "  </tbody>\n",
       "</table>\n",
       "</div>"
      ],
      "text/plain": [
       "   Strain 1  Strain 2  Core Distance  \\\n",
       "7      1053       156       0.000117   \n",
       "8      1053      2874       0.000309   \n",
       "9      1053      2448       0.000101   \n",
       "10     1053      1076       0.000001   \n",
       "\n",
       "                                      Gene Difference  Gene Difference Length  \n",
       "7   [43, 265, 344, 368, 399, 409, 451, 486, 493, 5...                    1659  \n",
       "8   [43, 265, 344, 368, 399, 409, 451, 486, 493, 5...                    1724  \n",
       "9   [43, 265, 344, 368, 399, 409, 451, 486, 493, 5...                    1693  \n",
       "10  [43, 265, 344, 368, 399, 409, 451, 486, 493, 5...                    1686  "
      ]
     },
     "execution_count": 51,
     "metadata": {},
     "output_type": "execute_result"
    }
   ],
   "source": [
    "df_col_merged[df_col_merged['Strain 1'].str.contains('1053')]"
   ]
  },
  {
   "cell_type": "code",
   "execution_count": 52,
   "metadata": {},
   "outputs": [
    {
     "data": {
      "text/plain": [
       "'BBDOGHJD_00966'"
      ]
     },
     "execution_count": 52,
     "metadata": {},
     "output_type": "execute_result"
    }
   ],
   "source": [
    "df_gene['1053'][399]"
   ]
  }
 ],
 "metadata": {
  "kernelspec": {
   "display_name": "Python 3",
   "language": "python",
   "name": "python3"
  },
  "language_info": {
   "codemirror_mode": {
    "name": "ipython",
    "version": 3
   },
   "file_extension": ".py",
   "mimetype": "text/x-python",
   "name": "python",
   "nbconvert_exporter": "python",
   "pygments_lexer": "ipython3",
   "version": "3.8.8"
  }
 },
 "nbformat": 4,
 "nbformat_minor": 4
}
