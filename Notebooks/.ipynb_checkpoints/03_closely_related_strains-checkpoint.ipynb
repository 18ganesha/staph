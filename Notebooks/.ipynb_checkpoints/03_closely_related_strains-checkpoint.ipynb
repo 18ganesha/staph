{
 "cells": [
  {
   "cell_type": "markdown",
   "metadata": {},
   "source": [
    "# Identifying gene difference content in closely related strains"
   ]
  },
  {
   "cell_type": "code",
   "execution_count": 37,
   "metadata": {},
   "outputs": [],
   "source": [
    "import numpy as np\n",
    "import pandas as pd\n",
    "import matplotlib.pyplot as plt\n",
    "from matplotlib.pyplot import figure"
   ]
  },
  {
   "cell_type": "code",
   "execution_count": 38,
   "metadata": {},
   "outputs": [],
   "source": [
    "df_cr = pd.read_csv(r\"C:\\Users\\jojoa\\GitHub\\staph\\data\\closely_related_matrix.csv\")"
   ]
  },
  {
   "cell_type": "code",
   "execution_count": 39,
   "metadata": {},
   "outputs": [
    {
     "data": {
      "text/html": [
       "<div>\n",
       "<style scoped>\n",
       "    .dataframe tbody tr th:only-of-type {\n",
       "        vertical-align: middle;\n",
       "    }\n",
       "\n",
       "    .dataframe tbody tr th {\n",
       "        vertical-align: top;\n",
       "    }\n",
       "\n",
       "    .dataframe thead th {\n",
       "        text-align: right;\n",
       "    }\n",
       "</style>\n",
       "<table border=\"1\" class=\"dataframe\">\n",
       "  <thead>\n",
       "    <tr style=\"text-align: right;\">\n",
       "      <th></th>\n",
       "      <th>Unnamed: 0</th>\n",
       "      <th>18942</th>\n",
       "      <th>1053</th>\n",
       "      <th>36653</th>\n",
       "      <th>35906</th>\n",
       "      <th>24887</th>\n",
       "      <th>40959</th>\n",
       "      <th>19451</th>\n",
       "      <th>16248</th>\n",
       "      <th>17887</th>\n",
       "      <th>...</th>\n",
       "      <th>29295</th>\n",
       "      <th>20565</th>\n",
       "      <th>22234</th>\n",
       "      <th>31939</th>\n",
       "      <th>40447</th>\n",
       "      <th>22779</th>\n",
       "      <th>40560</th>\n",
       "      <th>37248</th>\n",
       "      <th>6454</th>\n",
       "      <th>38985</th>\n",
       "    </tr>\n",
       "  </thead>\n",
       "  <tbody>\n",
       "    <tr>\n",
       "      <th>0</th>\n",
       "      <td>18942</td>\n",
       "      <td>NaN</td>\n",
       "      <td>NaN</td>\n",
       "      <td>0.000044</td>\n",
       "      <td>NaN</td>\n",
       "      <td>NaN</td>\n",
       "      <td>NaN</td>\n",
       "      <td>NaN</td>\n",
       "      <td>NaN</td>\n",
       "      <td>NaN</td>\n",
       "      <td>...</td>\n",
       "      <td>NaN</td>\n",
       "      <td>NaN</td>\n",
       "      <td>NaN</td>\n",
       "      <td>NaN</td>\n",
       "      <td>NaN</td>\n",
       "      <td>NaN</td>\n",
       "      <td>NaN</td>\n",
       "      <td>NaN</td>\n",
       "      <td>NaN</td>\n",
       "      <td>0.000036</td>\n",
       "    </tr>\n",
       "    <tr>\n",
       "      <th>1</th>\n",
       "      <td>1053</td>\n",
       "      <td>NaN</td>\n",
       "      <td>NaN</td>\n",
       "      <td>NaN</td>\n",
       "      <td>NaN</td>\n",
       "      <td>NaN</td>\n",
       "      <td>NaN</td>\n",
       "      <td>NaN</td>\n",
       "      <td>NaN</td>\n",
       "      <td>NaN</td>\n",
       "      <td>...</td>\n",
       "      <td>NaN</td>\n",
       "      <td>NaN</td>\n",
       "      <td>NaN</td>\n",
       "      <td>NaN</td>\n",
       "      <td>NaN</td>\n",
       "      <td>NaN</td>\n",
       "      <td>NaN</td>\n",
       "      <td>NaN</td>\n",
       "      <td>NaN</td>\n",
       "      <td>NaN</td>\n",
       "    </tr>\n",
       "    <tr>\n",
       "      <th>2</th>\n",
       "      <td>36653</td>\n",
       "      <td>0.000044</td>\n",
       "      <td>NaN</td>\n",
       "      <td>NaN</td>\n",
       "      <td>NaN</td>\n",
       "      <td>NaN</td>\n",
       "      <td>NaN</td>\n",
       "      <td>NaN</td>\n",
       "      <td>NaN</td>\n",
       "      <td>NaN</td>\n",
       "      <td>...</td>\n",
       "      <td>NaN</td>\n",
       "      <td>NaN</td>\n",
       "      <td>NaN</td>\n",
       "      <td>NaN</td>\n",
       "      <td>NaN</td>\n",
       "      <td>NaN</td>\n",
       "      <td>NaN</td>\n",
       "      <td>NaN</td>\n",
       "      <td>NaN</td>\n",
       "      <td>0.000037</td>\n",
       "    </tr>\n",
       "    <tr>\n",
       "      <th>3</th>\n",
       "      <td>35906</td>\n",
       "      <td>NaN</td>\n",
       "      <td>NaN</td>\n",
       "      <td>NaN</td>\n",
       "      <td>NaN</td>\n",
       "      <td>NaN</td>\n",
       "      <td>NaN</td>\n",
       "      <td>NaN</td>\n",
       "      <td>NaN</td>\n",
       "      <td>NaN</td>\n",
       "      <td>...</td>\n",
       "      <td>NaN</td>\n",
       "      <td>0.000082</td>\n",
       "      <td>NaN</td>\n",
       "      <td>NaN</td>\n",
       "      <td>NaN</td>\n",
       "      <td>NaN</td>\n",
       "      <td>NaN</td>\n",
       "      <td>NaN</td>\n",
       "      <td>NaN</td>\n",
       "      <td>NaN</td>\n",
       "    </tr>\n",
       "    <tr>\n",
       "      <th>4</th>\n",
       "      <td>24887</td>\n",
       "      <td>NaN</td>\n",
       "      <td>NaN</td>\n",
       "      <td>NaN</td>\n",
       "      <td>NaN</td>\n",
       "      <td>NaN</td>\n",
       "      <td>NaN</td>\n",
       "      <td>NaN</td>\n",
       "      <td>0.000158</td>\n",
       "      <td>NaN</td>\n",
       "      <td>...</td>\n",
       "      <td>NaN</td>\n",
       "      <td>NaN</td>\n",
       "      <td>NaN</td>\n",
       "      <td>NaN</td>\n",
       "      <td>NaN</td>\n",
       "      <td>NaN</td>\n",
       "      <td>NaN</td>\n",
       "      <td>NaN</td>\n",
       "      <td>NaN</td>\n",
       "      <td>NaN</td>\n",
       "    </tr>\n",
       "    <tr>\n",
       "      <th>...</th>\n",
       "      <td>...</td>\n",
       "      <td>...</td>\n",
       "      <td>...</td>\n",
       "      <td>...</td>\n",
       "      <td>...</td>\n",
       "      <td>...</td>\n",
       "      <td>...</td>\n",
       "      <td>...</td>\n",
       "      <td>...</td>\n",
       "      <td>...</td>\n",
       "      <td>...</td>\n",
       "      <td>...</td>\n",
       "      <td>...</td>\n",
       "      <td>...</td>\n",
       "      <td>...</td>\n",
       "      <td>...</td>\n",
       "      <td>...</td>\n",
       "      <td>...</td>\n",
       "      <td>...</td>\n",
       "      <td>...</td>\n",
       "      <td>...</td>\n",
       "    </tr>\n",
       "    <tr>\n",
       "      <th>95</th>\n",
       "      <td>22779</td>\n",
       "      <td>NaN</td>\n",
       "      <td>NaN</td>\n",
       "      <td>NaN</td>\n",
       "      <td>NaN</td>\n",
       "      <td>NaN</td>\n",
       "      <td>NaN</td>\n",
       "      <td>NaN</td>\n",
       "      <td>NaN</td>\n",
       "      <td>NaN</td>\n",
       "      <td>...</td>\n",
       "      <td>NaN</td>\n",
       "      <td>NaN</td>\n",
       "      <td>NaN</td>\n",
       "      <td>NaN</td>\n",
       "      <td>NaN</td>\n",
       "      <td>NaN</td>\n",
       "      <td>NaN</td>\n",
       "      <td>NaN</td>\n",
       "      <td>NaN</td>\n",
       "      <td>NaN</td>\n",
       "    </tr>\n",
       "    <tr>\n",
       "      <th>96</th>\n",
       "      <td>40560</td>\n",
       "      <td>NaN</td>\n",
       "      <td>NaN</td>\n",
       "      <td>NaN</td>\n",
       "      <td>NaN</td>\n",
       "      <td>NaN</td>\n",
       "      <td>NaN</td>\n",
       "      <td>NaN</td>\n",
       "      <td>NaN</td>\n",
       "      <td>NaN</td>\n",
       "      <td>...</td>\n",
       "      <td>NaN</td>\n",
       "      <td>NaN</td>\n",
       "      <td>NaN</td>\n",
       "      <td>NaN</td>\n",
       "      <td>NaN</td>\n",
       "      <td>NaN</td>\n",
       "      <td>NaN</td>\n",
       "      <td>NaN</td>\n",
       "      <td>NaN</td>\n",
       "      <td>NaN</td>\n",
       "    </tr>\n",
       "    <tr>\n",
       "      <th>97</th>\n",
       "      <td>37248</td>\n",
       "      <td>NaN</td>\n",
       "      <td>NaN</td>\n",
       "      <td>NaN</td>\n",
       "      <td>NaN</td>\n",
       "      <td>NaN</td>\n",
       "      <td>NaN</td>\n",
       "      <td>NaN</td>\n",
       "      <td>NaN</td>\n",
       "      <td>0.000211</td>\n",
       "      <td>...</td>\n",
       "      <td>NaN</td>\n",
       "      <td>NaN</td>\n",
       "      <td>NaN</td>\n",
       "      <td>NaN</td>\n",
       "      <td>0.000189</td>\n",
       "      <td>NaN</td>\n",
       "      <td>NaN</td>\n",
       "      <td>NaN</td>\n",
       "      <td>NaN</td>\n",
       "      <td>NaN</td>\n",
       "    </tr>\n",
       "    <tr>\n",
       "      <th>98</th>\n",
       "      <td>6454</td>\n",
       "      <td>NaN</td>\n",
       "      <td>NaN</td>\n",
       "      <td>NaN</td>\n",
       "      <td>NaN</td>\n",
       "      <td>NaN</td>\n",
       "      <td>NaN</td>\n",
       "      <td>NaN</td>\n",
       "      <td>NaN</td>\n",
       "      <td>NaN</td>\n",
       "      <td>...</td>\n",
       "      <td>NaN</td>\n",
       "      <td>NaN</td>\n",
       "      <td>NaN</td>\n",
       "      <td>0.000084</td>\n",
       "      <td>NaN</td>\n",
       "      <td>NaN</td>\n",
       "      <td>NaN</td>\n",
       "      <td>NaN</td>\n",
       "      <td>NaN</td>\n",
       "      <td>NaN</td>\n",
       "    </tr>\n",
       "    <tr>\n",
       "      <th>99</th>\n",
       "      <td>38985</td>\n",
       "      <td>0.000036</td>\n",
       "      <td>NaN</td>\n",
       "      <td>0.000037</td>\n",
       "      <td>NaN</td>\n",
       "      <td>NaN</td>\n",
       "      <td>NaN</td>\n",
       "      <td>NaN</td>\n",
       "      <td>NaN</td>\n",
       "      <td>NaN</td>\n",
       "      <td>...</td>\n",
       "      <td>NaN</td>\n",
       "      <td>NaN</td>\n",
       "      <td>NaN</td>\n",
       "      <td>NaN</td>\n",
       "      <td>NaN</td>\n",
       "      <td>NaN</td>\n",
       "      <td>NaN</td>\n",
       "      <td>NaN</td>\n",
       "      <td>NaN</td>\n",
       "      <td>NaN</td>\n",
       "    </tr>\n",
       "  </tbody>\n",
       "</table>\n",
       "<p>100 rows × 101 columns</p>\n",
       "</div>"
      ],
      "text/plain": [
       "    Unnamed: 0     18942  1053     36653  35906  24887  40959  19451  \\\n",
       "0        18942       NaN   NaN  0.000044    NaN    NaN    NaN    NaN   \n",
       "1         1053       NaN   NaN       NaN    NaN    NaN    NaN    NaN   \n",
       "2        36653  0.000044   NaN       NaN    NaN    NaN    NaN    NaN   \n",
       "3        35906       NaN   NaN       NaN    NaN    NaN    NaN    NaN   \n",
       "4        24887       NaN   NaN       NaN    NaN    NaN    NaN    NaN   \n",
       "..         ...       ...   ...       ...    ...    ...    ...    ...   \n",
       "95       22779       NaN   NaN       NaN    NaN    NaN    NaN    NaN   \n",
       "96       40560       NaN   NaN       NaN    NaN    NaN    NaN    NaN   \n",
       "97       37248       NaN   NaN       NaN    NaN    NaN    NaN    NaN   \n",
       "98        6454       NaN   NaN       NaN    NaN    NaN    NaN    NaN   \n",
       "99       38985  0.000036   NaN  0.000037    NaN    NaN    NaN    NaN   \n",
       "\n",
       "       16248     17887  ...  29295     20565  22234     31939     40447  \\\n",
       "0        NaN       NaN  ...    NaN       NaN    NaN       NaN       NaN   \n",
       "1        NaN       NaN  ...    NaN       NaN    NaN       NaN       NaN   \n",
       "2        NaN       NaN  ...    NaN       NaN    NaN       NaN       NaN   \n",
       "3        NaN       NaN  ...    NaN  0.000082    NaN       NaN       NaN   \n",
       "4   0.000158       NaN  ...    NaN       NaN    NaN       NaN       NaN   \n",
       "..       ...       ...  ...    ...       ...    ...       ...       ...   \n",
       "95       NaN       NaN  ...    NaN       NaN    NaN       NaN       NaN   \n",
       "96       NaN       NaN  ...    NaN       NaN    NaN       NaN       NaN   \n",
       "97       NaN  0.000211  ...    NaN       NaN    NaN       NaN  0.000189   \n",
       "98       NaN       NaN  ...    NaN       NaN    NaN  0.000084       NaN   \n",
       "99       NaN       NaN  ...    NaN       NaN    NaN       NaN       NaN   \n",
       "\n",
       "    22779  40560  37248  6454     38985  \n",
       "0     NaN    NaN    NaN   NaN  0.000036  \n",
       "1     NaN    NaN    NaN   NaN       NaN  \n",
       "2     NaN    NaN    NaN   NaN  0.000037  \n",
       "3     NaN    NaN    NaN   NaN       NaN  \n",
       "4     NaN    NaN    NaN   NaN       NaN  \n",
       "..    ...    ...    ...   ...       ...  \n",
       "95    NaN    NaN    NaN   NaN       NaN  \n",
       "96    NaN    NaN    NaN   NaN       NaN  \n",
       "97    NaN    NaN    NaN   NaN       NaN  \n",
       "98    NaN    NaN    NaN   NaN       NaN  \n",
       "99    NaN    NaN    NaN   NaN       NaN  \n",
       "\n",
       "[100 rows x 101 columns]"
      ]
     },
     "execution_count": 39,
     "metadata": {},
     "output_type": "execute_result"
    }
   ],
   "source": [
    "df_cr"
   ]
  },
  {
   "cell_type": "code",
   "execution_count": 40,
   "metadata": {},
   "outputs": [],
   "source": [
    "df_cr=df_cr.set_index('Unnamed: 0')"
   ]
  },
  {
   "cell_type": "code",
   "execution_count": 41,
   "metadata": {},
   "outputs": [],
   "source": [
    "df_pa=pd.read_csv(r\"C:\\Users\\jojoa\\GitHub\\staph\\data\\binary_matrix.csv\")"
   ]
  },
  {
   "cell_type": "code",
   "execution_count": 42,
   "metadata": {
    "scrolled": true
   },
   "outputs": [],
   "source": [
    "df_pa=df_pa.set_index('Unnamed: 0')"
   ]
  },
  {
   "cell_type": "markdown",
   "metadata": {},
   "source": [
    "For an exmaple, let's look at the difference in genes between strains 18942 and 36653."
   ]
  },
  {
   "cell_type": "code",
   "execution_count": 43,
   "metadata": {},
   "outputs": [
    {
     "data": {
      "text/plain": [
       "Unnamed: 0\n",
       "0        1\n",
       "1        1\n",
       "2        1\n",
       "3        1\n",
       "4        1\n",
       "        ..\n",
       "29715    0\n",
       "29716    0\n",
       "29717    0\n",
       "29718    0\n",
       "29719    0\n",
       "Name: 36653, Length: 29720, dtype: int64"
      ]
     },
     "execution_count": 43,
     "metadata": {},
     "output_type": "execute_result"
    }
   ],
   "source": [
    "df_pa['36653']"
   ]
  },
  {
   "cell_type": "code",
   "execution_count": 44,
   "metadata": {},
   "outputs": [
    {
     "data": {
      "text/plain": [
       "Unnamed: 0\n",
       "0        1\n",
       "1        1\n",
       "2        1\n",
       "3        1\n",
       "4        1\n",
       "        ..\n",
       "29715    0\n",
       "29716    0\n",
       "29717    0\n",
       "29718    0\n",
       "29719    0\n",
       "Name: 18942, Length: 29720, dtype: int64"
      ]
     },
     "execution_count": 44,
     "metadata": {},
     "output_type": "execute_result"
    }
   ],
   "source": [
    "df_pa['18942']"
   ]
  },
  {
   "cell_type": "code",
   "execution_count": 45,
   "metadata": {},
   "outputs": [
    {
     "data": {
      "text/plain": [
       "Unnamed: 0\n",
       "0        0\n",
       "1        0\n",
       "2        0\n",
       "3        0\n",
       "4        0\n",
       "        ..\n",
       "29715    0\n",
       "29716    0\n",
       "29717    0\n",
       "29718    0\n",
       "29719    0\n",
       "Length: 29720, dtype: int64"
      ]
     },
     "execution_count": 45,
     "metadata": {},
     "output_type": "execute_result"
    }
   ],
   "source": [
    "diff=df_pa['36653']-df_pa['18942']\n",
    "diff"
   ]
  },
  {
   "cell_type": "code",
   "execution_count": 46,
   "metadata": {},
   "outputs": [],
   "source": [
    "gene_diff=diff.to_numpy().nonzero() "
   ]
  },
  {
   "cell_type": "markdown",
   "metadata": {},
   "source": [
    "These numbers represent the indecies at which our two strains differ. These indecies directly correlate to genes. Thus, we can see which genes the two strains differ by."
   ]
  },
  {
   "cell_type": "code",
   "execution_count": 47,
   "metadata": {},
   "outputs": [],
   "source": [
    "gene_diff=gene_diff[0]"
   ]
  },
  {
   "cell_type": "code",
   "execution_count": 48,
   "metadata": {},
   "outputs": [
    {
     "data": {
      "text/plain": [
       "(98,\n",
       " array([1886, 1939, 1969, 2080, 2083, 2093, 2120, 2161, 2165, 2177, 2216,\n",
       "        2221, 2270, 2355, 2380, 2408, 2439, 2452, 2455, 2472, 2561, 2611,\n",
       "        2613, 2643, 2677, 2695, 2696, 2728, 2743, 2772, 2785, 2833, 2894,\n",
       "        2942, 2970, 2978, 2989, 2990, 3003, 3011, 3015, 3024, 3028, 3097,\n",
       "        3119, 3120, 3122, 3136, 3149, 3151, 3154, 3157, 3158, 3193, 3203,\n",
       "        3216, 3231, 3247, 3287, 3303, 3307, 3366, 3372, 3374, 3381, 3404,\n",
       "        3408, 3414, 3432, 3447, 3451, 3453, 3464, 3472, 3527, 3547, 3603,\n",
       "        3614, 3627, 3663, 3672, 3696, 3723, 3776, 3790, 3798, 3801, 3880,\n",
       "        3899, 4177, 4509, 4525, 4898, 5004, 5320, 5384, 5416, 6318],\n",
       "       dtype=int64))"
      ]
     },
     "execution_count": 48,
     "metadata": {},
     "output_type": "execute_result"
    }
   ],
   "source": [
    "len(gene_diff), gene_diff"
   ]
  },
  {
   "cell_type": "markdown",
   "metadata": {},
   "source": [
    "From this, we can see that the two strains differ by 98 genes. We can continue this cycle for all the 100 strains."
   ]
  },
  {
   "cell_type": "code",
   "execution_count": 49,
   "metadata": {},
   "outputs": [
    {
     "name": "stdout",
     "output_type": "stream",
     "text": [
      "0\n"
     ]
    }
   ],
   "source": [
    "if isinstance(df_cr.iloc[0,0],float)==True:\n",
    "            diff=df_pa[str(df_cr.columns[0])]-df_pa[str(df_cr.index[0])]\n",
    "            gene_diff=diff.to_numpy().nonzero()\n",
    "            gene_diff=gene_diff[0]\n",
    "            print(len(gene_diff))"
   ]
  },
  {
   "cell_type": "code",
   "execution_count": 50,
   "metadata": {
    "scrolled": true
   },
   "outputs": [
    {
     "data": {
      "text/plain": [
       "(25, 8)"
      ]
     },
     "execution_count": 50,
     "metadata": {},
     "output_type": "execute_result"
    }
   ],
   "source": [
    "j,i"
   ]
  },
  {
   "cell_type": "code",
   "execution_count": 66,
   "metadata": {},
   "outputs": [],
   "source": [
    "gene_list=[] #list of all closely related strains with the genes that differ\n",
    "gene_diff_list=[] #list of all closely related strains with number of genes that differ"
   ]
  },
  {
   "cell_type": "code",
   "execution_count": 70,
   "metadata": {},
   "outputs": [],
   "source": [
    "for i in range(0,len(df_cr.columns)): #columns + len(df_cr.columns)\n",
    "    for j in range(0,len(df_cr)): #rows+len(df_cr)\n",
    "        if pd.isna(df_cr.iloc[j,i])==False: #if cell is not empty, then calculate gene diff between strains\n",
    "            diff=df_pa[str(df_cr.columns[i])]-df_pa[str(df_cr.index[j])]\n",
    "            gene_diff=diff.to_numpy().nonzero()\n",
    "            gene_diff=gene_diff[0]\n",
    "            gene_list.append({\"Gene Difference\":gene_diff, \"Gene Difference Length\":len(gene_diff),\n",
    "                              \"Strain 1\":str(df_cr.columns[i]),\"Strain 2\":str(df_cr.index[j])})"
   ]
  },
  {
   "cell_type": "code",
   "execution_count": 74,
   "metadata": {},
   "outputs": [
    {
     "data": {
      "text/html": [
       "<div>\n",
       "<style scoped>\n",
       "    .dataframe tbody tr th:only-of-type {\n",
       "        vertical-align: middle;\n",
       "    }\n",
       "\n",
       "    .dataframe tbody tr th {\n",
       "        vertical-align: top;\n",
       "    }\n",
       "\n",
       "    .dataframe thead th {\n",
       "        text-align: right;\n",
       "    }\n",
       "</style>\n",
       "<table border=\"1\" class=\"dataframe\">\n",
       "  <thead>\n",
       "    <tr style=\"text-align: right;\">\n",
       "      <th></th>\n",
       "      <th>Gene Difference</th>\n",
       "      <th>Gene Difference Length</th>\n",
       "      <th>Strain 1</th>\n",
       "      <th>Strain 2</th>\n",
       "    </tr>\n",
       "  </thead>\n",
       "  <tbody>\n",
       "    <tr>\n",
       "      <th>0</th>\n",
       "      <td>[1886, 1939, 1969, 2080, 2083, 2093, 2120, 216...</td>\n",
       "      <td>98</td>\n",
       "      <td>18942</td>\n",
       "      <td>36653</td>\n",
       "    </tr>\n",
       "    <tr>\n",
       "      <th>1</th>\n",
       "      <td>[1886, 1939, 2027, 2042, 2083, 2093, 2120, 216...</td>\n",
       "      <td>106</td>\n",
       "      <td>18942</td>\n",
       "      <td>31541</td>\n",
       "    </tr>\n",
       "    <tr>\n",
       "      <th>2</th>\n",
       "      <td>[1939, 2080, 2083, 2093, 2120, 2165, 2177, 222...</td>\n",
       "      <td>109</td>\n",
       "      <td>18942</td>\n",
       "      <td>36962</td>\n",
       "    </tr>\n",
       "    <tr>\n",
       "      <th>3</th>\n",
       "      <td>[1939, 1994, 2027, 2083, 2093, 2120, 2123, 216...</td>\n",
       "      <td>157</td>\n",
       "      <td>18942</td>\n",
       "      <td>15699</td>\n",
       "    </tr>\n",
       "    <tr>\n",
       "      <th>4</th>\n",
       "      <td>[1939, 2080, 2083, 2093, 2120, 2154, 2162, 216...</td>\n",
       "      <td>154</td>\n",
       "      <td>18942</td>\n",
       "      <td>24898</td>\n",
       "    </tr>\n",
       "    <tr>\n",
       "      <th>...</th>\n",
       "      <td>...</td>\n",
       "      <td>...</td>\n",
       "      <td>...</td>\n",
       "      <td>...</td>\n",
       "    </tr>\n",
       "    <tr>\n",
       "      <th>751</th>\n",
       "      <td>[1886, 2027, 2042, 2080, 2103, 2263, 2587, 259...</td>\n",
       "      <td>33</td>\n",
       "      <td>38985</td>\n",
       "      <td>31541</td>\n",
       "    </tr>\n",
       "    <tr>\n",
       "      <th>752</th>\n",
       "      <td>[2103, 2232, 2274, 2411, 2477, 2489, 2587, 261...</td>\n",
       "      <td>36</td>\n",
       "      <td>38985</td>\n",
       "      <td>36962</td>\n",
       "    </tr>\n",
       "    <tr>\n",
       "      <th>753</th>\n",
       "      <td>[1994, 2027, 2080, 2103, 2123, 2161, 2263, 231...</td>\n",
       "      <td>94</td>\n",
       "      <td>38985</td>\n",
       "      <td>15699</td>\n",
       "    </tr>\n",
       "    <tr>\n",
       "      <th>754</th>\n",
       "      <td>[2103, 2154, 2162, 2238, 2245, 2472, 2532, 253...</td>\n",
       "      <td>87</td>\n",
       "      <td>38985</td>\n",
       "      <td>24898</td>\n",
       "    </tr>\n",
       "    <tr>\n",
       "      <th>755</th>\n",
       "      <td>[1825, 1994, 2072, 2103, 2161, 2169, 2170, 224...</td>\n",
       "      <td>115</td>\n",
       "      <td>38985</td>\n",
       "      <td>1471</td>\n",
       "    </tr>\n",
       "  </tbody>\n",
       "</table>\n",
       "<p>756 rows × 4 columns</p>\n",
       "</div>"
      ],
      "text/plain": [
       "                                       Gene Difference  \\\n",
       "0    [1886, 1939, 1969, 2080, 2083, 2093, 2120, 216...   \n",
       "1    [1886, 1939, 2027, 2042, 2083, 2093, 2120, 216...   \n",
       "2    [1939, 2080, 2083, 2093, 2120, 2165, 2177, 222...   \n",
       "3    [1939, 1994, 2027, 2083, 2093, 2120, 2123, 216...   \n",
       "4    [1939, 2080, 2083, 2093, 2120, 2154, 2162, 216...   \n",
       "..                                                 ...   \n",
       "751  [1886, 2027, 2042, 2080, 2103, 2263, 2587, 259...   \n",
       "752  [2103, 2232, 2274, 2411, 2477, 2489, 2587, 261...   \n",
       "753  [1994, 2027, 2080, 2103, 2123, 2161, 2263, 231...   \n",
       "754  [2103, 2154, 2162, 2238, 2245, 2472, 2532, 253...   \n",
       "755  [1825, 1994, 2072, 2103, 2161, 2169, 2170, 224...   \n",
       "\n",
       "     Gene Difference Length Strain 1 Strain 2  \n",
       "0                        98    18942    36653  \n",
       "1                       106    18942    31541  \n",
       "2                       109    18942    36962  \n",
       "3                       157    18942    15699  \n",
       "4                       154    18942    24898  \n",
       "..                      ...      ...      ...  \n",
       "751                      33    38985    31541  \n",
       "752                      36    38985    36962  \n",
       "753                      94    38985    15699  \n",
       "754                      87    38985    24898  \n",
       "755                     115    38985     1471  \n",
       "\n",
       "[756 rows x 4 columns]"
      ]
     },
     "execution_count": 74,
     "metadata": {},
     "output_type": "execute_result"
    }
   ],
   "source": [
    "pd.DataFrame(gene_list) #dataframe with two strains that are closely related, the length of gene difference, and\n",
    "# which genes differ"
   ]
  },
  {
   "cell_type": "markdown",
   "metadata": {},
   "source": [
    "We have 756 pairs of strains that are closely related."
   ]
  }
 ],
 "metadata": {
  "kernelspec": {
   "display_name": "Python 3",
   "language": "python",
   "name": "python3"
  },
  "language_info": {
   "codemirror_mode": {
    "name": "ipython",
    "version": 3
   },
   "file_extension": ".py",
   "mimetype": "text/x-python",
   "name": "python",
   "nbconvert_exporter": "python",
   "pygments_lexer": "ipython3",
   "version": "3.8.8"
  }
 },
 "nbformat": 4,
 "nbformat_minor": 4
}
