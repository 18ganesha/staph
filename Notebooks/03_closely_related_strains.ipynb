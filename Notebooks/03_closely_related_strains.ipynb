{
 "cells": [
  {
   "cell_type": "markdown",
   "metadata": {},
   "source": [
    "# Identifying gene difference content in closely related strains"
   ]
  },
  {
   "cell_type": "code",
   "execution_count": 103,
   "metadata": {},
   "outputs": [],
   "source": [
    "import numpy as np\n",
    "import pandas as pd\n",
    "import matplotlib.pyplot as plt\n",
    "from matplotlib.pyplot import figure\n",
    "import statistics"
   ]
  },
  {
   "cell_type": "code",
   "execution_count": 59,
   "metadata": {},
   "outputs": [],
   "source": [
    "df_cr = pd.read_csv(r\"C:\\Users\\jojoa\\GitHub\\staph\\data\\closely_related_matrix.csv\")"
   ]
  },
  {
   "cell_type": "code",
   "execution_count": 60,
   "metadata": {},
   "outputs": [
    {
     "data": {
      "text/html": [
       "<div>\n",
       "<style scoped>\n",
       "    .dataframe tbody tr th:only-of-type {\n",
       "        vertical-align: middle;\n",
       "    }\n",
       "\n",
       "    .dataframe tbody tr th {\n",
       "        vertical-align: top;\n",
       "    }\n",
       "\n",
       "    .dataframe thead th {\n",
       "        text-align: right;\n",
       "    }\n",
       "</style>\n",
       "<table border=\"1\" class=\"dataframe\">\n",
       "  <thead>\n",
       "    <tr style=\"text-align: right;\">\n",
       "      <th></th>\n",
       "      <th>Unnamed: 0</th>\n",
       "      <th>18942</th>\n",
       "      <th>1053</th>\n",
       "      <th>36653</th>\n",
       "      <th>35906</th>\n",
       "      <th>24887</th>\n",
       "      <th>40959</th>\n",
       "      <th>19451</th>\n",
       "      <th>16248</th>\n",
       "      <th>17887</th>\n",
       "      <th>...</th>\n",
       "      <th>29295</th>\n",
       "      <th>20565</th>\n",
       "      <th>22234</th>\n",
       "      <th>31939</th>\n",
       "      <th>40447</th>\n",
       "      <th>22779</th>\n",
       "      <th>40560</th>\n",
       "      <th>37248</th>\n",
       "      <th>6454</th>\n",
       "      <th>38985</th>\n",
       "    </tr>\n",
       "  </thead>\n",
       "  <tbody>\n",
       "    <tr>\n",
       "      <th>0</th>\n",
       "      <td>18942</td>\n",
       "      <td>NaN</td>\n",
       "      <td>NaN</td>\n",
       "      <td>0.000044</td>\n",
       "      <td>NaN</td>\n",
       "      <td>NaN</td>\n",
       "      <td>NaN</td>\n",
       "      <td>NaN</td>\n",
       "      <td>NaN</td>\n",
       "      <td>NaN</td>\n",
       "      <td>...</td>\n",
       "      <td>NaN</td>\n",
       "      <td>NaN</td>\n",
       "      <td>NaN</td>\n",
       "      <td>NaN</td>\n",
       "      <td>NaN</td>\n",
       "      <td>NaN</td>\n",
       "      <td>NaN</td>\n",
       "      <td>NaN</td>\n",
       "      <td>NaN</td>\n",
       "      <td>0.000036</td>\n",
       "    </tr>\n",
       "    <tr>\n",
       "      <th>1</th>\n",
       "      <td>1053</td>\n",
       "      <td>NaN</td>\n",
       "      <td>NaN</td>\n",
       "      <td>NaN</td>\n",
       "      <td>NaN</td>\n",
       "      <td>NaN</td>\n",
       "      <td>NaN</td>\n",
       "      <td>NaN</td>\n",
       "      <td>NaN</td>\n",
       "      <td>NaN</td>\n",
       "      <td>...</td>\n",
       "      <td>NaN</td>\n",
       "      <td>NaN</td>\n",
       "      <td>NaN</td>\n",
       "      <td>NaN</td>\n",
       "      <td>NaN</td>\n",
       "      <td>NaN</td>\n",
       "      <td>NaN</td>\n",
       "      <td>NaN</td>\n",
       "      <td>NaN</td>\n",
       "      <td>NaN</td>\n",
       "    </tr>\n",
       "    <tr>\n",
       "      <th>2</th>\n",
       "      <td>36653</td>\n",
       "      <td>0.000044</td>\n",
       "      <td>NaN</td>\n",
       "      <td>NaN</td>\n",
       "      <td>NaN</td>\n",
       "      <td>NaN</td>\n",
       "      <td>NaN</td>\n",
       "      <td>NaN</td>\n",
       "      <td>NaN</td>\n",
       "      <td>NaN</td>\n",
       "      <td>...</td>\n",
       "      <td>NaN</td>\n",
       "      <td>NaN</td>\n",
       "      <td>NaN</td>\n",
       "      <td>NaN</td>\n",
       "      <td>NaN</td>\n",
       "      <td>NaN</td>\n",
       "      <td>NaN</td>\n",
       "      <td>NaN</td>\n",
       "      <td>NaN</td>\n",
       "      <td>0.000037</td>\n",
       "    </tr>\n",
       "    <tr>\n",
       "      <th>3</th>\n",
       "      <td>35906</td>\n",
       "      <td>NaN</td>\n",
       "      <td>NaN</td>\n",
       "      <td>NaN</td>\n",
       "      <td>NaN</td>\n",
       "      <td>NaN</td>\n",
       "      <td>NaN</td>\n",
       "      <td>NaN</td>\n",
       "      <td>NaN</td>\n",
       "      <td>NaN</td>\n",
       "      <td>...</td>\n",
       "      <td>NaN</td>\n",
       "      <td>0.000082</td>\n",
       "      <td>NaN</td>\n",
       "      <td>NaN</td>\n",
       "      <td>NaN</td>\n",
       "      <td>NaN</td>\n",
       "      <td>NaN</td>\n",
       "      <td>NaN</td>\n",
       "      <td>NaN</td>\n",
       "      <td>NaN</td>\n",
       "    </tr>\n",
       "    <tr>\n",
       "      <th>4</th>\n",
       "      <td>24887</td>\n",
       "      <td>NaN</td>\n",
       "      <td>NaN</td>\n",
       "      <td>NaN</td>\n",
       "      <td>NaN</td>\n",
       "      <td>NaN</td>\n",
       "      <td>NaN</td>\n",
       "      <td>NaN</td>\n",
       "      <td>0.000158</td>\n",
       "      <td>NaN</td>\n",
       "      <td>...</td>\n",
       "      <td>NaN</td>\n",
       "      <td>NaN</td>\n",
       "      <td>NaN</td>\n",
       "      <td>NaN</td>\n",
       "      <td>NaN</td>\n",
       "      <td>NaN</td>\n",
       "      <td>NaN</td>\n",
       "      <td>NaN</td>\n",
       "      <td>NaN</td>\n",
       "      <td>NaN</td>\n",
       "    </tr>\n",
       "    <tr>\n",
       "      <th>...</th>\n",
       "      <td>...</td>\n",
       "      <td>...</td>\n",
       "      <td>...</td>\n",
       "      <td>...</td>\n",
       "      <td>...</td>\n",
       "      <td>...</td>\n",
       "      <td>...</td>\n",
       "      <td>...</td>\n",
       "      <td>...</td>\n",
       "      <td>...</td>\n",
       "      <td>...</td>\n",
       "      <td>...</td>\n",
       "      <td>...</td>\n",
       "      <td>...</td>\n",
       "      <td>...</td>\n",
       "      <td>...</td>\n",
       "      <td>...</td>\n",
       "      <td>...</td>\n",
       "      <td>...</td>\n",
       "      <td>...</td>\n",
       "      <td>...</td>\n",
       "    </tr>\n",
       "    <tr>\n",
       "      <th>95</th>\n",
       "      <td>22779</td>\n",
       "      <td>NaN</td>\n",
       "      <td>NaN</td>\n",
       "      <td>NaN</td>\n",
       "      <td>NaN</td>\n",
       "      <td>NaN</td>\n",
       "      <td>NaN</td>\n",
       "      <td>NaN</td>\n",
       "      <td>NaN</td>\n",
       "      <td>NaN</td>\n",
       "      <td>...</td>\n",
       "      <td>NaN</td>\n",
       "      <td>NaN</td>\n",
       "      <td>NaN</td>\n",
       "      <td>NaN</td>\n",
       "      <td>NaN</td>\n",
       "      <td>NaN</td>\n",
       "      <td>NaN</td>\n",
       "      <td>NaN</td>\n",
       "      <td>NaN</td>\n",
       "      <td>NaN</td>\n",
       "    </tr>\n",
       "    <tr>\n",
       "      <th>96</th>\n",
       "      <td>40560</td>\n",
       "      <td>NaN</td>\n",
       "      <td>NaN</td>\n",
       "      <td>NaN</td>\n",
       "      <td>NaN</td>\n",
       "      <td>NaN</td>\n",
       "      <td>NaN</td>\n",
       "      <td>NaN</td>\n",
       "      <td>NaN</td>\n",
       "      <td>NaN</td>\n",
       "      <td>...</td>\n",
       "      <td>NaN</td>\n",
       "      <td>NaN</td>\n",
       "      <td>NaN</td>\n",
       "      <td>NaN</td>\n",
       "      <td>NaN</td>\n",
       "      <td>NaN</td>\n",
       "      <td>NaN</td>\n",
       "      <td>NaN</td>\n",
       "      <td>NaN</td>\n",
       "      <td>NaN</td>\n",
       "    </tr>\n",
       "    <tr>\n",
       "      <th>97</th>\n",
       "      <td>37248</td>\n",
       "      <td>NaN</td>\n",
       "      <td>NaN</td>\n",
       "      <td>NaN</td>\n",
       "      <td>NaN</td>\n",
       "      <td>NaN</td>\n",
       "      <td>NaN</td>\n",
       "      <td>NaN</td>\n",
       "      <td>NaN</td>\n",
       "      <td>0.000211</td>\n",
       "      <td>...</td>\n",
       "      <td>NaN</td>\n",
       "      <td>NaN</td>\n",
       "      <td>NaN</td>\n",
       "      <td>NaN</td>\n",
       "      <td>0.000189</td>\n",
       "      <td>NaN</td>\n",
       "      <td>NaN</td>\n",
       "      <td>NaN</td>\n",
       "      <td>NaN</td>\n",
       "      <td>NaN</td>\n",
       "    </tr>\n",
       "    <tr>\n",
       "      <th>98</th>\n",
       "      <td>6454</td>\n",
       "      <td>NaN</td>\n",
       "      <td>NaN</td>\n",
       "      <td>NaN</td>\n",
       "      <td>NaN</td>\n",
       "      <td>NaN</td>\n",
       "      <td>NaN</td>\n",
       "      <td>NaN</td>\n",
       "      <td>NaN</td>\n",
       "      <td>NaN</td>\n",
       "      <td>...</td>\n",
       "      <td>NaN</td>\n",
       "      <td>NaN</td>\n",
       "      <td>NaN</td>\n",
       "      <td>0.000084</td>\n",
       "      <td>NaN</td>\n",
       "      <td>NaN</td>\n",
       "      <td>NaN</td>\n",
       "      <td>NaN</td>\n",
       "      <td>NaN</td>\n",
       "      <td>NaN</td>\n",
       "    </tr>\n",
       "    <tr>\n",
       "      <th>99</th>\n",
       "      <td>38985</td>\n",
       "      <td>0.000036</td>\n",
       "      <td>NaN</td>\n",
       "      <td>0.000037</td>\n",
       "      <td>NaN</td>\n",
       "      <td>NaN</td>\n",
       "      <td>NaN</td>\n",
       "      <td>NaN</td>\n",
       "      <td>NaN</td>\n",
       "      <td>NaN</td>\n",
       "      <td>...</td>\n",
       "      <td>NaN</td>\n",
       "      <td>NaN</td>\n",
       "      <td>NaN</td>\n",
       "      <td>NaN</td>\n",
       "      <td>NaN</td>\n",
       "      <td>NaN</td>\n",
       "      <td>NaN</td>\n",
       "      <td>NaN</td>\n",
       "      <td>NaN</td>\n",
       "      <td>NaN</td>\n",
       "    </tr>\n",
       "  </tbody>\n",
       "</table>\n",
       "<p>100 rows × 101 columns</p>\n",
       "</div>"
      ],
      "text/plain": [
       "    Unnamed: 0     18942  1053     36653  35906  24887  40959  19451  \\\n",
       "0        18942       NaN   NaN  0.000044    NaN    NaN    NaN    NaN   \n",
       "1         1053       NaN   NaN       NaN    NaN    NaN    NaN    NaN   \n",
       "2        36653  0.000044   NaN       NaN    NaN    NaN    NaN    NaN   \n",
       "3        35906       NaN   NaN       NaN    NaN    NaN    NaN    NaN   \n",
       "4        24887       NaN   NaN       NaN    NaN    NaN    NaN    NaN   \n",
       "..         ...       ...   ...       ...    ...    ...    ...    ...   \n",
       "95       22779       NaN   NaN       NaN    NaN    NaN    NaN    NaN   \n",
       "96       40560       NaN   NaN       NaN    NaN    NaN    NaN    NaN   \n",
       "97       37248       NaN   NaN       NaN    NaN    NaN    NaN    NaN   \n",
       "98        6454       NaN   NaN       NaN    NaN    NaN    NaN    NaN   \n",
       "99       38985  0.000036   NaN  0.000037    NaN    NaN    NaN    NaN   \n",
       "\n",
       "       16248     17887  ...  29295     20565  22234     31939     40447  \\\n",
       "0        NaN       NaN  ...    NaN       NaN    NaN       NaN       NaN   \n",
       "1        NaN       NaN  ...    NaN       NaN    NaN       NaN       NaN   \n",
       "2        NaN       NaN  ...    NaN       NaN    NaN       NaN       NaN   \n",
       "3        NaN       NaN  ...    NaN  0.000082    NaN       NaN       NaN   \n",
       "4   0.000158       NaN  ...    NaN       NaN    NaN       NaN       NaN   \n",
       "..       ...       ...  ...    ...       ...    ...       ...       ...   \n",
       "95       NaN       NaN  ...    NaN       NaN    NaN       NaN       NaN   \n",
       "96       NaN       NaN  ...    NaN       NaN    NaN       NaN       NaN   \n",
       "97       NaN  0.000211  ...    NaN       NaN    NaN       NaN  0.000189   \n",
       "98       NaN       NaN  ...    NaN       NaN    NaN  0.000084       NaN   \n",
       "99       NaN       NaN  ...    NaN       NaN    NaN       NaN       NaN   \n",
       "\n",
       "    22779  40560  37248  6454     38985  \n",
       "0     NaN    NaN    NaN   NaN  0.000036  \n",
       "1     NaN    NaN    NaN   NaN       NaN  \n",
       "2     NaN    NaN    NaN   NaN  0.000037  \n",
       "3     NaN    NaN    NaN   NaN       NaN  \n",
       "4     NaN    NaN    NaN   NaN       NaN  \n",
       "..    ...    ...    ...   ...       ...  \n",
       "95    NaN    NaN    NaN   NaN       NaN  \n",
       "96    NaN    NaN    NaN   NaN       NaN  \n",
       "97    NaN    NaN    NaN   NaN       NaN  \n",
       "98    NaN    NaN    NaN   NaN       NaN  \n",
       "99    NaN    NaN    NaN   NaN       NaN  \n",
       "\n",
       "[100 rows x 101 columns]"
      ]
     },
     "execution_count": 60,
     "metadata": {},
     "output_type": "execute_result"
    }
   ],
   "source": [
    "df_cr"
   ]
  },
  {
   "cell_type": "code",
   "execution_count": 61,
   "metadata": {},
   "outputs": [],
   "source": [
    "df_cr=df_cr.set_index('Unnamed: 0')"
   ]
  },
  {
   "cell_type": "code",
   "execution_count": 62,
   "metadata": {},
   "outputs": [],
   "source": [
    "df_pa=pd.read_csv(r\"C:\\Users\\jojoa\\GitHub\\staph\\data\\binary_matrix.csv\")"
   ]
  },
  {
   "cell_type": "code",
   "execution_count": 63,
   "metadata": {
    "scrolled": true
   },
   "outputs": [],
   "source": [
    "df_pa=df_pa.set_index('Unnamed: 0')"
   ]
  },
  {
   "cell_type": "markdown",
   "metadata": {},
   "source": [
    "For an exmaple, let's look at the difference in genes between strains 18942 and 36653."
   ]
  },
  {
   "cell_type": "code",
   "execution_count": 64,
   "metadata": {},
   "outputs": [
    {
     "data": {
      "text/plain": [
       "Unnamed: 0\n",
       "0        1\n",
       "1        1\n",
       "2        1\n",
       "3        1\n",
       "4        1\n",
       "        ..\n",
       "29715    0\n",
       "29716    0\n",
       "29717    0\n",
       "29718    0\n",
       "29719    0\n",
       "Name: 36653, Length: 29720, dtype: int64"
      ]
     },
     "execution_count": 64,
     "metadata": {},
     "output_type": "execute_result"
    }
   ],
   "source": [
    "df_pa['36653']"
   ]
  },
  {
   "cell_type": "code",
   "execution_count": 65,
   "metadata": {},
   "outputs": [
    {
     "data": {
      "text/plain": [
       "Unnamed: 0\n",
       "0        1\n",
       "1        1\n",
       "2        1\n",
       "3        1\n",
       "4        1\n",
       "        ..\n",
       "29715    0\n",
       "29716    0\n",
       "29717    0\n",
       "29718    0\n",
       "29719    0\n",
       "Name: 18942, Length: 29720, dtype: int64"
      ]
     },
     "execution_count": 65,
     "metadata": {},
     "output_type": "execute_result"
    }
   ],
   "source": [
    "df_pa['18942']"
   ]
  },
  {
   "cell_type": "code",
   "execution_count": 66,
   "metadata": {},
   "outputs": [
    {
     "data": {
      "text/plain": [
       "Unnamed: 0\n",
       "0        0\n",
       "1        0\n",
       "2        0\n",
       "3        0\n",
       "4        0\n",
       "        ..\n",
       "29715    0\n",
       "29716    0\n",
       "29717    0\n",
       "29718    0\n",
       "29719    0\n",
       "Length: 29720, dtype: int64"
      ]
     },
     "execution_count": 66,
     "metadata": {},
     "output_type": "execute_result"
    }
   ],
   "source": [
    "diff=df_pa['36653']-df_pa['18942']\n",
    "diff"
   ]
  },
  {
   "cell_type": "code",
   "execution_count": 67,
   "metadata": {},
   "outputs": [],
   "source": [
    "gene_diff=diff.to_numpy().nonzero() "
   ]
  },
  {
   "cell_type": "markdown",
   "metadata": {},
   "source": [
    "These numbers represent the indecies at which our two strains differ. These indecies directly correlate to genes. Thus, we can see which genes the two strains differ by."
   ]
  },
  {
   "cell_type": "code",
   "execution_count": 68,
   "metadata": {},
   "outputs": [],
   "source": [
    "gene_diff=gene_diff[0]"
   ]
  },
  {
   "cell_type": "code",
   "execution_count": 69,
   "metadata": {},
   "outputs": [
    {
     "data": {
      "text/plain": [
       "(98,\n",
       " array([1886, 1939, 1969, 2080, 2083, 2093, 2120, 2161, 2165, 2177, 2216,\n",
       "        2221, 2270, 2355, 2380, 2408, 2439, 2452, 2455, 2472, 2561, 2611,\n",
       "        2613, 2643, 2677, 2695, 2696, 2728, 2743, 2772, 2785, 2833, 2894,\n",
       "        2942, 2970, 2978, 2989, 2990, 3003, 3011, 3015, 3024, 3028, 3097,\n",
       "        3119, 3120, 3122, 3136, 3149, 3151, 3154, 3157, 3158, 3193, 3203,\n",
       "        3216, 3231, 3247, 3287, 3303, 3307, 3366, 3372, 3374, 3381, 3404,\n",
       "        3408, 3414, 3432, 3447, 3451, 3453, 3464, 3472, 3527, 3547, 3603,\n",
       "        3614, 3627, 3663, 3672, 3696, 3723, 3776, 3790, 3798, 3801, 3880,\n",
       "        3899, 4177, 4509, 4525, 4898, 5004, 5320, 5384, 5416, 6318],\n",
       "       dtype=int64))"
      ]
     },
     "execution_count": 69,
     "metadata": {},
     "output_type": "execute_result"
    }
   ],
   "source": [
    "len(gene_diff), gene_diff"
   ]
  },
  {
   "cell_type": "markdown",
   "metadata": {},
   "source": [
    "From this, we can see that the two strains differ by 98 genes. We can continue this cycle for all the 100 strains."
   ]
  },
  {
   "cell_type": "code",
   "execution_count": 70,
   "metadata": {},
   "outputs": [
    {
     "name": "stdout",
     "output_type": "stream",
     "text": [
      "0\n"
     ]
    }
   ],
   "source": [
    "if isinstance(df_cr.iloc[0,0],float)==True:\n",
    "            diff=df_pa[str(df_cr.columns[0])]-df_pa[str(df_cr.index[0])]\n",
    "            gene_diff=diff.to_numpy().nonzero()\n",
    "            gene_diff=gene_diff[0]\n",
    "            print(len(gene_diff))"
   ]
  },
  {
   "cell_type": "code",
   "execution_count": 71,
   "metadata": {},
   "outputs": [],
   "source": [
    "gene_list=[] #list of all closely related strains with the genes that differ\n",
    "gene_diff_list=[] #list of all closely related strains with number of genes that differ"
   ]
  },
  {
   "cell_type": "code",
   "execution_count": 72,
   "metadata": {},
   "outputs": [],
   "source": [
    "for i in range(0,len(df_cr.columns)): #columns + len(df_cr.columns)\n",
    "    for j in range(0,len(df_cr)): #rows+len(df_cr)\n",
    "        if pd.isna(df_cr.iloc[j,i])==False: #if cell is not empty, then calculate gene diff between strains\n",
    "            diff=df_pa[str(df_cr.columns[i])]-df_pa[str(df_cr.index[j])]\n",
    "            gene_diff=diff.to_numpy().nonzero()\n",
    "            gene_diff=gene_diff[0]\n",
    "            gene_list.append({\"Gene Difference\":gene_diff, \"Gene Difference Length\":len(gene_diff),\n",
    "                              \"Strain 1\":str(df_cr.columns[i]),\"Strain 2\":str(df_cr.index[j])})"
   ]
  },
  {
   "cell_type": "code",
   "execution_count": 73,
   "metadata": {},
   "outputs": [
    {
     "data": {
      "text/plain": [
       "array([  43,  265,  344, ..., 3921, 4177, 4898], dtype=int64)"
      ]
     },
     "execution_count": 73,
     "metadata": {},
     "output_type": "execute_result"
    }
   ],
   "source": [
    "diff=df_pa[str(df_cr.columns[0])]-df_pa[str(df_cr.index[1])]\n",
    "gene_diff=diff.to_numpy().nonzero()\n",
    "gene_diff=gene_diff[0]\n",
    "gene_diff"
   ]
  },
  {
   "cell_type": "code",
   "execution_count": 74,
   "metadata": {},
   "outputs": [],
   "source": [
    "gene_list=pd.DataFrame(gene_list) #dataframe with two strains that are closely related, the length of gene difference, and\n",
    "# which genes differ"
   ]
  },
  {
   "cell_type": "markdown",
   "metadata": {},
   "source": [
    "We have 756 pairs of strains that are closely related."
   ]
  },
  {
   "cell_type": "code",
   "execution_count": 75,
   "metadata": {},
   "outputs": [],
   "source": [
    "gene_diff_len=gene_list['Gene Difference Length']"
   ]
  },
  {
   "cell_type": "code",
   "execution_count": 83,
   "metadata": {},
   "outputs": [
    {
     "data": {
      "image/png": "[encoded data removed]",
      "text/plain": [
       "<Figure size 640x480 with 1 Axes>"
      ]
     },
     "metadata": {
      "needs_background": "light"
     },
     "output_type": "display_data"
    }
   ],
   "source": [
    "figure(figsize=(8, 6), dpi=80)\n",
    "hist=plt.hist(gene_diff_len,bins=45)\n",
    "plt.xlabel('Gene Difference')\n",
    "plt.ylabel('Counts')\n",
    "plt.title('Histogram of Gene Difference for Closely Related Strains')\n",
    "plt.savefig(r\"C:\\Users\\jojoa\\GitHub\\staph\\images\\gene_hist\")"
   ]
  },
  {
   "cell_type": "code",
   "execution_count": 199,
   "metadata": {},
   "outputs": [
    {
     "ename": "NameError",
     "evalue": "name 'find_peaks' is not defined",
     "output_type": "error",
     "traceback": [
      "\u001b[1;31m---------------------------------------------------------------------------\u001b[0m",
      "\u001b[1;31mNameError\u001b[0m                                 Traceback (most recent call last)",
      "\u001b[1;32m<ipython-input-199-5b5b3407d577>\u001b[0m in \u001b[0;36m<module>\u001b[1;34m\u001b[0m\n\u001b[1;32m----> 1\u001b[1;33m \u001b[0mpeaks\u001b[0m\u001b[1;33m,\u001b[0m \u001b[0m_\u001b[0m \u001b[1;33m=\u001b[0m \u001b[0mfind_peaks\u001b[0m\u001b[1;33m(\u001b[0m\u001b[0mhist\u001b[0m\u001b[1;33m)\u001b[0m\u001b[1;33m\u001b[0m\u001b[1;33m\u001b[0m\u001b[0m\n\u001b[0m",
      "\u001b[1;31mNameError\u001b[0m: name 'find_peaks' is not defined"
     ]
    }
   ],
   "source": [
    "peaks, _ = find_peaks(hist)"
   ]
  },
  {
   "cell_type": "code",
   "execution_count": 84,
   "metadata": {},
   "outputs": [],
   "source": [
    "df_dist = pd.read_csv(r\"C:\\Users\\jojoa\\GitHub\\staph\\data\\dist_matrix.csv\")\n",
    "df_dist = df_dist.set_index('Unnamed: 0')\n",
    "df_dist=df_dist.rename(columns={\"Unnamed: 0\": \"Strains\"})"
   ]
  },
  {
   "cell_type": "code",
   "execution_count": 85,
   "metadata": {},
   "outputs": [
    {
     "data": {
      "text/html": [
       "<div>\n",
       "<style scoped>\n",
       "    .dataframe tbody tr th:only-of-type {\n",
       "        vertical-align: middle;\n",
       "    }\n",
       "\n",
       "    .dataframe tbody tr th {\n",
       "        vertical-align: top;\n",
       "    }\n",
       "\n",
       "    .dataframe thead th {\n",
       "        text-align: right;\n",
       "    }\n",
       "</style>\n",
       "<table border=\"1\" class=\"dataframe\">\n",
       "  <thead>\n",
       "    <tr style=\"text-align: right;\">\n",
       "      <th></th>\n",
       "      <th>Gene Difference</th>\n",
       "      <th>Gene Difference Length</th>\n",
       "      <th>Strain 1</th>\n",
       "      <th>Strain 2</th>\n",
       "    </tr>\n",
       "  </thead>\n",
       "  <tbody>\n",
       "    <tr>\n",
       "      <th>0</th>\n",
       "      <td>[1886, 1939, 1969, 2080, 2083, 2093, 2120, 216...</td>\n",
       "      <td>98</td>\n",
       "      <td>18942</td>\n",
       "      <td>36653</td>\n",
       "    </tr>\n",
       "    <tr>\n",
       "      <th>1</th>\n",
       "      <td>[1886, 1939, 2027, 2042, 2083, 2093, 2120, 216...</td>\n",
       "      <td>106</td>\n",
       "      <td>18942</td>\n",
       "      <td>31541</td>\n",
       "    </tr>\n",
       "    <tr>\n",
       "      <th>2</th>\n",
       "      <td>[1939, 2080, 2083, 2093, 2120, 2165, 2177, 222...</td>\n",
       "      <td>109</td>\n",
       "      <td>18942</td>\n",
       "      <td>36962</td>\n",
       "    </tr>\n",
       "    <tr>\n",
       "      <th>3</th>\n",
       "      <td>[1939, 1994, 2027, 2083, 2093, 2120, 2123, 216...</td>\n",
       "      <td>157</td>\n",
       "      <td>18942</td>\n",
       "      <td>15699</td>\n",
       "    </tr>\n",
       "    <tr>\n",
       "      <th>4</th>\n",
       "      <td>[1939, 2080, 2083, 2093, 2120, 2154, 2162, 216...</td>\n",
       "      <td>154</td>\n",
       "      <td>18942</td>\n",
       "      <td>24898</td>\n",
       "    </tr>\n",
       "    <tr>\n",
       "      <th>...</th>\n",
       "      <td>...</td>\n",
       "      <td>...</td>\n",
       "      <td>...</td>\n",
       "      <td>...</td>\n",
       "    </tr>\n",
       "    <tr>\n",
       "      <th>751</th>\n",
       "      <td>[1886, 2027, 2042, 2080, 2103, 2263, 2587, 259...</td>\n",
       "      <td>33</td>\n",
       "      <td>38985</td>\n",
       "      <td>31541</td>\n",
       "    </tr>\n",
       "    <tr>\n",
       "      <th>752</th>\n",
       "      <td>[2103, 2232, 2274, 2411, 2477, 2489, 2587, 261...</td>\n",
       "      <td>36</td>\n",
       "      <td>38985</td>\n",
       "      <td>36962</td>\n",
       "    </tr>\n",
       "    <tr>\n",
       "      <th>753</th>\n",
       "      <td>[1994, 2027, 2080, 2103, 2123, 2161, 2263, 231...</td>\n",
       "      <td>94</td>\n",
       "      <td>38985</td>\n",
       "      <td>15699</td>\n",
       "    </tr>\n",
       "    <tr>\n",
       "      <th>754</th>\n",
       "      <td>[2103, 2154, 2162, 2238, 2245, 2472, 2532, 253...</td>\n",
       "      <td>87</td>\n",
       "      <td>38985</td>\n",
       "      <td>24898</td>\n",
       "    </tr>\n",
       "    <tr>\n",
       "      <th>755</th>\n",
       "      <td>[1825, 1994, 2072, 2103, 2161, 2169, 2170, 224...</td>\n",
       "      <td>115</td>\n",
       "      <td>38985</td>\n",
       "      <td>1471</td>\n",
       "    </tr>\n",
       "  </tbody>\n",
       "</table>\n",
       "<p>756 rows × 4 columns</p>\n",
       "</div>"
      ],
      "text/plain": [
       "                                       Gene Difference  \\\n",
       "0    [1886, 1939, 1969, 2080, 2083, 2093, 2120, 216...   \n",
       "1    [1886, 1939, 2027, 2042, 2083, 2093, 2120, 216...   \n",
       "2    [1939, 2080, 2083, 2093, 2120, 2165, 2177, 222...   \n",
       "3    [1939, 1994, 2027, 2083, 2093, 2120, 2123, 216...   \n",
       "4    [1939, 2080, 2083, 2093, 2120, 2154, 2162, 216...   \n",
       "..                                                 ...   \n",
       "751  [1886, 2027, 2042, 2080, 2103, 2263, 2587, 259...   \n",
       "752  [2103, 2232, 2274, 2411, 2477, 2489, 2587, 261...   \n",
       "753  [1994, 2027, 2080, 2103, 2123, 2161, 2263, 231...   \n",
       "754  [2103, 2154, 2162, 2238, 2245, 2472, 2532, 253...   \n",
       "755  [1825, 1994, 2072, 2103, 2161, 2169, 2170, 224...   \n",
       "\n",
       "     Gene Difference Length Strain 1 Strain 2  \n",
       "0                        98    18942    36653  \n",
       "1                       106    18942    31541  \n",
       "2                       109    18942    36962  \n",
       "3                       157    18942    15699  \n",
       "4                       154    18942    24898  \n",
       "..                      ...      ...      ...  \n",
       "751                      33    38985    31541  \n",
       "752                      36    38985    36962  \n",
       "753                      94    38985    15699  \n",
       "754                      87    38985    24898  \n",
       "755                     115    38985     1471  \n",
       "\n",
       "[756 rows x 4 columns]"
      ]
     },
     "execution_count": 85,
     "metadata": {},
     "output_type": "execute_result"
    }
   ],
   "source": [
    "gene_list"
   ]
  },
  {
   "cell_type": "code",
   "execution_count": 86,
   "metadata": {},
   "outputs": [],
   "source": [
    "dist_list=[]"
   ]
  },
  {
   "cell_type": "code",
   "execution_count": 87,
   "metadata": {},
   "outputs": [],
   "source": [
    "for i in range(0,len(gene_list.index)):\n",
    "    strain1=gene_list['Strain 1'].iloc[i]\n",
    "    strain2=gene_list['Strain 2'].iloc[i]\n",
    "    strain2=int(strain2)\n",
    "    a=df_dist[strain1] #distances for all strains related to strain 1\n",
    "    dist=a.loc[strain2] #dist btw strain 1 and strain 2\n",
    "    dist_list.append({\"Strain 1\":strain1,\"Strain 2\":strain2, \"Core Distance\":dist})"
   ]
  },
  {
   "cell_type": "code",
   "execution_count": 88,
   "metadata": {},
   "outputs": [],
   "source": [
    "dist_list=pd.DataFrame(dist_list) #dataframe with two strains that are closely related and dist between them"
   ]
  },
  {
   "cell_type": "code",
   "execution_count": 89,
   "metadata": {},
   "outputs": [
    {
     "data": {
      "text/html": [
       "<div>\n",
       "<style scoped>\n",
       "    .dataframe tbody tr th:only-of-type {\n",
       "        vertical-align: middle;\n",
       "    }\n",
       "\n",
       "    .dataframe tbody tr th {\n",
       "        vertical-align: top;\n",
       "    }\n",
       "\n",
       "    .dataframe thead th {\n",
       "        text-align: right;\n",
       "    }\n",
       "</style>\n",
       "<table border=\"1\" class=\"dataframe\">\n",
       "  <thead>\n",
       "    <tr style=\"text-align: right;\">\n",
       "      <th></th>\n",
       "      <th>Strain 1</th>\n",
       "      <th>Strain 2</th>\n",
       "      <th>Core Distance</th>\n",
       "    </tr>\n",
       "  </thead>\n",
       "  <tbody>\n",
       "    <tr>\n",
       "      <th>0</th>\n",
       "      <td>18942</td>\n",
       "      <td>36653</td>\n",
       "      <td>0.000044</td>\n",
       "    </tr>\n",
       "    <tr>\n",
       "      <th>1</th>\n",
       "      <td>18942</td>\n",
       "      <td>31541</td>\n",
       "      <td>0.000057</td>\n",
       "    </tr>\n",
       "    <tr>\n",
       "      <th>2</th>\n",
       "      <td>18942</td>\n",
       "      <td>36962</td>\n",
       "      <td>0.000063</td>\n",
       "    </tr>\n",
       "    <tr>\n",
       "      <th>3</th>\n",
       "      <td>18942</td>\n",
       "      <td>15699</td>\n",
       "      <td>0.000044</td>\n",
       "    </tr>\n",
       "    <tr>\n",
       "      <th>4</th>\n",
       "      <td>18942</td>\n",
       "      <td>24898</td>\n",
       "      <td>0.000050</td>\n",
       "    </tr>\n",
       "    <tr>\n",
       "      <th>...</th>\n",
       "      <td>...</td>\n",
       "      <td>...</td>\n",
       "      <td>...</td>\n",
       "    </tr>\n",
       "    <tr>\n",
       "      <th>751</th>\n",
       "      <td>38985</td>\n",
       "      <td>31541</td>\n",
       "      <td>0.000050</td>\n",
       "    </tr>\n",
       "    <tr>\n",
       "      <th>752</th>\n",
       "      <td>38985</td>\n",
       "      <td>36962</td>\n",
       "      <td>0.000056</td>\n",
       "    </tr>\n",
       "    <tr>\n",
       "      <th>753</th>\n",
       "      <td>38985</td>\n",
       "      <td>15699</td>\n",
       "      <td>0.000037</td>\n",
       "    </tr>\n",
       "    <tr>\n",
       "      <th>754</th>\n",
       "      <td>38985</td>\n",
       "      <td>24898</td>\n",
       "      <td>0.000040</td>\n",
       "    </tr>\n",
       "    <tr>\n",
       "      <th>755</th>\n",
       "      <td>38985</td>\n",
       "      <td>1471</td>\n",
       "      <td>0.000023</td>\n",
       "    </tr>\n",
       "  </tbody>\n",
       "</table>\n",
       "<p>756 rows × 3 columns</p>\n",
       "</div>"
      ],
      "text/plain": [
       "    Strain 1  Strain 2  Core Distance\n",
       "0      18942     36653       0.000044\n",
       "1      18942     31541       0.000057\n",
       "2      18942     36962       0.000063\n",
       "3      18942     15699       0.000044\n",
       "4      18942     24898       0.000050\n",
       "..       ...       ...            ...\n",
       "751    38985     31541       0.000050\n",
       "752    38985     36962       0.000056\n",
       "753    38985     15699       0.000037\n",
       "754    38985     24898       0.000040\n",
       "755    38985      1471       0.000023\n",
       "\n",
       "[756 rows x 3 columns]"
      ]
     },
     "execution_count": 89,
     "metadata": {},
     "output_type": "execute_result"
    }
   ],
   "source": [
    "dist_list"
   ]
  },
  {
   "cell_type": "code",
   "execution_count": 90,
   "metadata": {},
   "outputs": [
    {
     "data": {
      "text/html": [
       "<div>\n",
       "<style scoped>\n",
       "    .dataframe tbody tr th:only-of-type {\n",
       "        vertical-align: middle;\n",
       "    }\n",
       "\n",
       "    .dataframe tbody tr th {\n",
       "        vertical-align: top;\n",
       "    }\n",
       "\n",
       "    .dataframe thead th {\n",
       "        text-align: right;\n",
       "    }\n",
       "</style>\n",
       "<table border=\"1\" class=\"dataframe\">\n",
       "  <thead>\n",
       "    <tr style=\"text-align: right;\">\n",
       "      <th></th>\n",
       "      <th>Gene Difference</th>\n",
       "      <th>Gene Difference Length</th>\n",
       "      <th>Strain 1</th>\n",
       "      <th>Strain 2</th>\n",
       "    </tr>\n",
       "  </thead>\n",
       "  <tbody>\n",
       "    <tr>\n",
       "      <th>0</th>\n",
       "      <td>[1886, 1939, 1969, 2080, 2083, 2093, 2120, 216...</td>\n",
       "      <td>98</td>\n",
       "      <td>18942</td>\n",
       "      <td>36653</td>\n",
       "    </tr>\n",
       "    <tr>\n",
       "      <th>1</th>\n",
       "      <td>[1886, 1939, 2027, 2042, 2083, 2093, 2120, 216...</td>\n",
       "      <td>106</td>\n",
       "      <td>18942</td>\n",
       "      <td>31541</td>\n",
       "    </tr>\n",
       "    <tr>\n",
       "      <th>2</th>\n",
       "      <td>[1939, 2080, 2083, 2093, 2120, 2165, 2177, 222...</td>\n",
       "      <td>109</td>\n",
       "      <td>18942</td>\n",
       "      <td>36962</td>\n",
       "    </tr>\n",
       "    <tr>\n",
       "      <th>3</th>\n",
       "      <td>[1939, 1994, 2027, 2083, 2093, 2120, 2123, 216...</td>\n",
       "      <td>157</td>\n",
       "      <td>18942</td>\n",
       "      <td>15699</td>\n",
       "    </tr>\n",
       "    <tr>\n",
       "      <th>4</th>\n",
       "      <td>[1939, 2080, 2083, 2093, 2120, 2154, 2162, 216...</td>\n",
       "      <td>154</td>\n",
       "      <td>18942</td>\n",
       "      <td>24898</td>\n",
       "    </tr>\n",
       "    <tr>\n",
       "      <th>...</th>\n",
       "      <td>...</td>\n",
       "      <td>...</td>\n",
       "      <td>...</td>\n",
       "      <td>...</td>\n",
       "    </tr>\n",
       "    <tr>\n",
       "      <th>751</th>\n",
       "      <td>[1886, 2027, 2042, 2080, 2103, 2263, 2587, 259...</td>\n",
       "      <td>33</td>\n",
       "      <td>38985</td>\n",
       "      <td>31541</td>\n",
       "    </tr>\n",
       "    <tr>\n",
       "      <th>752</th>\n",
       "      <td>[2103, 2232, 2274, 2411, 2477, 2489, 2587, 261...</td>\n",
       "      <td>36</td>\n",
       "      <td>38985</td>\n",
       "      <td>36962</td>\n",
       "    </tr>\n",
       "    <tr>\n",
       "      <th>753</th>\n",
       "      <td>[1994, 2027, 2080, 2103, 2123, 2161, 2263, 231...</td>\n",
       "      <td>94</td>\n",
       "      <td>38985</td>\n",
       "      <td>15699</td>\n",
       "    </tr>\n",
       "    <tr>\n",
       "      <th>754</th>\n",
       "      <td>[2103, 2154, 2162, 2238, 2245, 2472, 2532, 253...</td>\n",
       "      <td>87</td>\n",
       "      <td>38985</td>\n",
       "      <td>24898</td>\n",
       "    </tr>\n",
       "    <tr>\n",
       "      <th>755</th>\n",
       "      <td>[1825, 1994, 2072, 2103, 2161, 2169, 2170, 224...</td>\n",
       "      <td>115</td>\n",
       "      <td>38985</td>\n",
       "      <td>1471</td>\n",
       "    </tr>\n",
       "  </tbody>\n",
       "</table>\n",
       "<p>756 rows × 4 columns</p>\n",
       "</div>"
      ],
      "text/plain": [
       "                                       Gene Difference  \\\n",
       "0    [1886, 1939, 1969, 2080, 2083, 2093, 2120, 216...   \n",
       "1    [1886, 1939, 2027, 2042, 2083, 2093, 2120, 216...   \n",
       "2    [1939, 2080, 2083, 2093, 2120, 2165, 2177, 222...   \n",
       "3    [1939, 1994, 2027, 2083, 2093, 2120, 2123, 216...   \n",
       "4    [1939, 2080, 2083, 2093, 2120, 2154, 2162, 216...   \n",
       "..                                                 ...   \n",
       "751  [1886, 2027, 2042, 2080, 2103, 2263, 2587, 259...   \n",
       "752  [2103, 2232, 2274, 2411, 2477, 2489, 2587, 261...   \n",
       "753  [1994, 2027, 2080, 2103, 2123, 2161, 2263, 231...   \n",
       "754  [2103, 2154, 2162, 2238, 2245, 2472, 2532, 253...   \n",
       "755  [1825, 1994, 2072, 2103, 2161, 2169, 2170, 224...   \n",
       "\n",
       "     Gene Difference Length Strain 1 Strain 2  \n",
       "0                        98    18942    36653  \n",
       "1                       106    18942    31541  \n",
       "2                       109    18942    36962  \n",
       "3                       157    18942    15699  \n",
       "4                       154    18942    24898  \n",
       "..                      ...      ...      ...  \n",
       "751                      33    38985    31541  \n",
       "752                      36    38985    36962  \n",
       "753                      94    38985    15699  \n",
       "754                      87    38985    24898  \n",
       "755                     115    38985     1471  \n",
       "\n",
       "[756 rows x 4 columns]"
      ]
     },
     "execution_count": 90,
     "metadata": {},
     "output_type": "execute_result"
    }
   ],
   "source": [
    "gene_list"
   ]
  },
  {
   "cell_type": "code",
   "execution_count": 91,
   "metadata": {},
   "outputs": [],
   "source": [
    "df_col_merged = pd.concat([dist_list, gene_list], axis=1) #merged both dataframe"
   ]
  },
  {
   "cell_type": "code",
   "execution_count": 92,
   "metadata": {},
   "outputs": [
    {
     "data": {
      "text/html": [
       "<div>\n",
       "<style scoped>\n",
       "    .dataframe tbody tr th:only-of-type {\n",
       "        vertical-align: middle;\n",
       "    }\n",
       "\n",
       "    .dataframe tbody tr th {\n",
       "        vertical-align: top;\n",
       "    }\n",
       "\n",
       "    .dataframe thead th {\n",
       "        text-align: right;\n",
       "    }\n",
       "</style>\n",
       "<table border=\"1\" class=\"dataframe\">\n",
       "  <thead>\n",
       "    <tr style=\"text-align: right;\">\n",
       "      <th></th>\n",
       "      <th>Strain 1</th>\n",
       "      <th>Strain 2</th>\n",
       "      <th>Core Distance</th>\n",
       "      <th>Gene Difference</th>\n",
       "      <th>Gene Difference Length</th>\n",
       "      <th>Strain 1</th>\n",
       "      <th>Strain 2</th>\n",
       "    </tr>\n",
       "  </thead>\n",
       "  <tbody>\n",
       "    <tr>\n",
       "      <th>0</th>\n",
       "      <td>18942</td>\n",
       "      <td>36653</td>\n",
       "      <td>0.000044</td>\n",
       "      <td>[1886, 1939, 1969, 2080, 2083, 2093, 2120, 216...</td>\n",
       "      <td>98</td>\n",
       "      <td>18942</td>\n",
       "      <td>36653</td>\n",
       "    </tr>\n",
       "    <tr>\n",
       "      <th>1</th>\n",
       "      <td>18942</td>\n",
       "      <td>31541</td>\n",
       "      <td>0.000057</td>\n",
       "      <td>[1886, 1939, 2027, 2042, 2083, 2093, 2120, 216...</td>\n",
       "      <td>106</td>\n",
       "      <td>18942</td>\n",
       "      <td>31541</td>\n",
       "    </tr>\n",
       "    <tr>\n",
       "      <th>2</th>\n",
       "      <td>18942</td>\n",
       "      <td>36962</td>\n",
       "      <td>0.000063</td>\n",
       "      <td>[1939, 2080, 2083, 2093, 2120, 2165, 2177, 222...</td>\n",
       "      <td>109</td>\n",
       "      <td>18942</td>\n",
       "      <td>36962</td>\n",
       "    </tr>\n",
       "    <tr>\n",
       "      <th>3</th>\n",
       "      <td>18942</td>\n",
       "      <td>15699</td>\n",
       "      <td>0.000044</td>\n",
       "      <td>[1939, 1994, 2027, 2083, 2093, 2120, 2123, 216...</td>\n",
       "      <td>157</td>\n",
       "      <td>18942</td>\n",
       "      <td>15699</td>\n",
       "    </tr>\n",
       "    <tr>\n",
       "      <th>4</th>\n",
       "      <td>18942</td>\n",
       "      <td>24898</td>\n",
       "      <td>0.000050</td>\n",
       "      <td>[1939, 2080, 2083, 2093, 2120, 2154, 2162, 216...</td>\n",
       "      <td>154</td>\n",
       "      <td>18942</td>\n",
       "      <td>24898</td>\n",
       "    </tr>\n",
       "    <tr>\n",
       "      <th>...</th>\n",
       "      <td>...</td>\n",
       "      <td>...</td>\n",
       "      <td>...</td>\n",
       "      <td>...</td>\n",
       "      <td>...</td>\n",
       "      <td>...</td>\n",
       "      <td>...</td>\n",
       "    </tr>\n",
       "    <tr>\n",
       "      <th>751</th>\n",
       "      <td>38985</td>\n",
       "      <td>31541</td>\n",
       "      <td>0.000050</td>\n",
       "      <td>[1886, 2027, 2042, 2080, 2103, 2263, 2587, 259...</td>\n",
       "      <td>33</td>\n",
       "      <td>38985</td>\n",
       "      <td>31541</td>\n",
       "    </tr>\n",
       "    <tr>\n",
       "      <th>752</th>\n",
       "      <td>38985</td>\n",
       "      <td>36962</td>\n",
       "      <td>0.000056</td>\n",
       "      <td>[2103, 2232, 2274, 2411, 2477, 2489, 2587, 261...</td>\n",
       "      <td>36</td>\n",
       "      <td>38985</td>\n",
       "      <td>36962</td>\n",
       "    </tr>\n",
       "    <tr>\n",
       "      <th>753</th>\n",
       "      <td>38985</td>\n",
       "      <td>15699</td>\n",
       "      <td>0.000037</td>\n",
       "      <td>[1994, 2027, 2080, 2103, 2123, 2161, 2263, 231...</td>\n",
       "      <td>94</td>\n",
       "      <td>38985</td>\n",
       "      <td>15699</td>\n",
       "    </tr>\n",
       "    <tr>\n",
       "      <th>754</th>\n",
       "      <td>38985</td>\n",
       "      <td>24898</td>\n",
       "      <td>0.000040</td>\n",
       "      <td>[2103, 2154, 2162, 2238, 2245, 2472, 2532, 253...</td>\n",
       "      <td>87</td>\n",
       "      <td>38985</td>\n",
       "      <td>24898</td>\n",
       "    </tr>\n",
       "    <tr>\n",
       "      <th>755</th>\n",
       "      <td>38985</td>\n",
       "      <td>1471</td>\n",
       "      <td>0.000023</td>\n",
       "      <td>[1825, 1994, 2072, 2103, 2161, 2169, 2170, 224...</td>\n",
       "      <td>115</td>\n",
       "      <td>38985</td>\n",
       "      <td>1471</td>\n",
       "    </tr>\n",
       "  </tbody>\n",
       "</table>\n",
       "<p>756 rows × 7 columns</p>\n",
       "</div>"
      ],
      "text/plain": [
       "    Strain 1 Strain 2  Core Distance  \\\n",
       "0      18942    36653       0.000044   \n",
       "1      18942    31541       0.000057   \n",
       "2      18942    36962       0.000063   \n",
       "3      18942    15699       0.000044   \n",
       "4      18942    24898       0.000050   \n",
       "..       ...      ...            ...   \n",
       "751    38985    31541       0.000050   \n",
       "752    38985    36962       0.000056   \n",
       "753    38985    15699       0.000037   \n",
       "754    38985    24898       0.000040   \n",
       "755    38985     1471       0.000023   \n",
       "\n",
       "                                       Gene Difference  \\\n",
       "0    [1886, 1939, 1969, 2080, 2083, 2093, 2120, 216...   \n",
       "1    [1886, 1939, 2027, 2042, 2083, 2093, 2120, 216...   \n",
       "2    [1939, 2080, 2083, 2093, 2120, 2165, 2177, 222...   \n",
       "3    [1939, 1994, 2027, 2083, 2093, 2120, 2123, 216...   \n",
       "4    [1939, 2080, 2083, 2093, 2120, 2154, 2162, 216...   \n",
       "..                                                 ...   \n",
       "751  [1886, 2027, 2042, 2080, 2103, 2263, 2587, 259...   \n",
       "752  [2103, 2232, 2274, 2411, 2477, 2489, 2587, 261...   \n",
       "753  [1994, 2027, 2080, 2103, 2123, 2161, 2263, 231...   \n",
       "754  [2103, 2154, 2162, 2238, 2245, 2472, 2532, 253...   \n",
       "755  [1825, 1994, 2072, 2103, 2161, 2169, 2170, 224...   \n",
       "\n",
       "     Gene Difference Length Strain 1 Strain 2  \n",
       "0                        98    18942    36653  \n",
       "1                       106    18942    31541  \n",
       "2                       109    18942    36962  \n",
       "3                       157    18942    15699  \n",
       "4                       154    18942    24898  \n",
       "..                      ...      ...      ...  \n",
       "751                      33    38985    31541  \n",
       "752                      36    38985    36962  \n",
       "753                      94    38985    15699  \n",
       "754                      87    38985    24898  \n",
       "755                     115    38985     1471  \n",
       "\n",
       "[756 rows x 7 columns]"
      ]
     },
     "execution_count": 92,
     "metadata": {},
     "output_type": "execute_result"
    }
   ],
   "source": [
    "df_col_merged"
   ]
  },
  {
   "cell_type": "code",
   "execution_count": 93,
   "metadata": {},
   "outputs": [],
   "source": [
    "df_col_merged = df_col_merged.loc[:,~df_col_merged.columns.duplicated()].copy() #removed duplicate columns"
   ]
  },
  {
   "cell_type": "code",
   "execution_count": 94,
   "metadata": {},
   "outputs": [
    {
     "data": {
      "text/html": [
       "<div>\n",
       "<style scoped>\n",
       "    .dataframe tbody tr th:only-of-type {\n",
       "        vertical-align: middle;\n",
       "    }\n",
       "\n",
       "    .dataframe tbody tr th {\n",
       "        vertical-align: top;\n",
       "    }\n",
       "\n",
       "    .dataframe thead th {\n",
       "        text-align: right;\n",
       "    }\n",
       "</style>\n",
       "<table border=\"1\" class=\"dataframe\">\n",
       "  <thead>\n",
       "    <tr style=\"text-align: right;\">\n",
       "      <th></th>\n",
       "      <th>Strain 1</th>\n",
       "      <th>Strain 2</th>\n",
       "      <th>Core Distance</th>\n",
       "      <th>Gene Difference</th>\n",
       "      <th>Gene Difference Length</th>\n",
       "    </tr>\n",
       "  </thead>\n",
       "  <tbody>\n",
       "    <tr>\n",
       "      <th>0</th>\n",
       "      <td>18942</td>\n",
       "      <td>36653</td>\n",
       "      <td>0.000044</td>\n",
       "      <td>[1886, 1939, 1969, 2080, 2083, 2093, 2120, 216...</td>\n",
       "      <td>98</td>\n",
       "    </tr>\n",
       "    <tr>\n",
       "      <th>1</th>\n",
       "      <td>18942</td>\n",
       "      <td>31541</td>\n",
       "      <td>0.000057</td>\n",
       "      <td>[1886, 1939, 2027, 2042, 2083, 2093, 2120, 216...</td>\n",
       "      <td>106</td>\n",
       "    </tr>\n",
       "    <tr>\n",
       "      <th>2</th>\n",
       "      <td>18942</td>\n",
       "      <td>36962</td>\n",
       "      <td>0.000063</td>\n",
       "      <td>[1939, 2080, 2083, 2093, 2120, 2165, 2177, 222...</td>\n",
       "      <td>109</td>\n",
       "    </tr>\n",
       "    <tr>\n",
       "      <th>3</th>\n",
       "      <td>18942</td>\n",
       "      <td>15699</td>\n",
       "      <td>0.000044</td>\n",
       "      <td>[1939, 1994, 2027, 2083, 2093, 2120, 2123, 216...</td>\n",
       "      <td>157</td>\n",
       "    </tr>\n",
       "    <tr>\n",
       "      <th>4</th>\n",
       "      <td>18942</td>\n",
       "      <td>24898</td>\n",
       "      <td>0.000050</td>\n",
       "      <td>[1939, 2080, 2083, 2093, 2120, 2154, 2162, 216...</td>\n",
       "      <td>154</td>\n",
       "    </tr>\n",
       "    <tr>\n",
       "      <th>...</th>\n",
       "      <td>...</td>\n",
       "      <td>...</td>\n",
       "      <td>...</td>\n",
       "      <td>...</td>\n",
       "      <td>...</td>\n",
       "    </tr>\n",
       "    <tr>\n",
       "      <th>751</th>\n",
       "      <td>38985</td>\n",
       "      <td>31541</td>\n",
       "      <td>0.000050</td>\n",
       "      <td>[1886, 2027, 2042, 2080, 2103, 2263, 2587, 259...</td>\n",
       "      <td>33</td>\n",
       "    </tr>\n",
       "    <tr>\n",
       "      <th>752</th>\n",
       "      <td>38985</td>\n",
       "      <td>36962</td>\n",
       "      <td>0.000056</td>\n",
       "      <td>[2103, 2232, 2274, 2411, 2477, 2489, 2587, 261...</td>\n",
       "      <td>36</td>\n",
       "    </tr>\n",
       "    <tr>\n",
       "      <th>753</th>\n",
       "      <td>38985</td>\n",
       "      <td>15699</td>\n",
       "      <td>0.000037</td>\n",
       "      <td>[1994, 2027, 2080, 2103, 2123, 2161, 2263, 231...</td>\n",
       "      <td>94</td>\n",
       "    </tr>\n",
       "    <tr>\n",
       "      <th>754</th>\n",
       "      <td>38985</td>\n",
       "      <td>24898</td>\n",
       "      <td>0.000040</td>\n",
       "      <td>[2103, 2154, 2162, 2238, 2245, 2472, 2532, 253...</td>\n",
       "      <td>87</td>\n",
       "    </tr>\n",
       "    <tr>\n",
       "      <th>755</th>\n",
       "      <td>38985</td>\n",
       "      <td>1471</td>\n",
       "      <td>0.000023</td>\n",
       "      <td>[1825, 1994, 2072, 2103, 2161, 2169, 2170, 224...</td>\n",
       "      <td>115</td>\n",
       "    </tr>\n",
       "  </tbody>\n",
       "</table>\n",
       "<p>756 rows × 5 columns</p>\n",
       "</div>"
      ],
      "text/plain": [
       "    Strain 1  Strain 2  Core Distance  \\\n",
       "0      18942     36653       0.000044   \n",
       "1      18942     31541       0.000057   \n",
       "2      18942     36962       0.000063   \n",
       "3      18942     15699       0.000044   \n",
       "4      18942     24898       0.000050   \n",
       "..       ...       ...            ...   \n",
       "751    38985     31541       0.000050   \n",
       "752    38985     36962       0.000056   \n",
       "753    38985     15699       0.000037   \n",
       "754    38985     24898       0.000040   \n",
       "755    38985      1471       0.000023   \n",
       "\n",
       "                                       Gene Difference  Gene Difference Length  \n",
       "0    [1886, 1939, 1969, 2080, 2083, 2093, 2120, 216...                      98  \n",
       "1    [1886, 1939, 2027, 2042, 2083, 2093, 2120, 216...                     106  \n",
       "2    [1939, 2080, 2083, 2093, 2120, 2165, 2177, 222...                     109  \n",
       "3    [1939, 1994, 2027, 2083, 2093, 2120, 2123, 216...                     157  \n",
       "4    [1939, 2080, 2083, 2093, 2120, 2154, 2162, 216...                     154  \n",
       "..                                                 ...                     ...  \n",
       "751  [1886, 2027, 2042, 2080, 2103, 2263, 2587, 259...                      33  \n",
       "752  [2103, 2232, 2274, 2411, 2477, 2489, 2587, 261...                      36  \n",
       "753  [1994, 2027, 2080, 2103, 2123, 2161, 2263, 231...                      94  \n",
       "754  [2103, 2154, 2162, 2238, 2245, 2472, 2532, 253...                      87  \n",
       "755  [1825, 1994, 2072, 2103, 2161, 2169, 2170, 224...                     115  \n",
       "\n",
       "[756 rows x 5 columns]"
      ]
     },
     "execution_count": 94,
     "metadata": {},
     "output_type": "execute_result"
    }
   ],
   "source": [
    "df_col_merged"
   ]
  },
  {
   "cell_type": "code",
   "execution_count": 96,
   "metadata": {},
   "outputs": [
    {
     "data": {
      "text/plain": [
       "<matplotlib.collections.PathCollection at 0x211259285e0>"
      ]
     },
     "execution_count": 96,
     "metadata": {},
     "output_type": "execute_result"
    },
    {
     "data": {
      "image/png": "[encoded data removed]",
      "text/plain": [
       "<Figure size 640x480 with 1 Axes>"
      ]
     },
     "metadata": {
      "needs_background": "light"
     },
     "output_type": "display_data"
    }
   ],
   "source": [
    "figure(figsize=(8, 6), dpi=80)\n",
    "plt.scatter(df_col_merged['Core Distance'],df_col_merged['Gene Difference Length'], color='r')"
   ]
  },
  {
   "cell_type": "code",
   "execution_count": 100,
   "metadata": {},
   "outputs": [
    {
     "name": "stdout",
     "output_type": "stream",
     "text": [
      "y=312804.600978x+(258.837253)\n"
     ]
    },
    {
     "data": {
      "image/png": "[encoded data removed]",
      "text/plain": [
       "<Figure size 432x288 with 1 Axes>"
      ]
     },
     "metadata": {
      "needs_background": "light"
     },
     "output_type": "display_data"
    }
   ],
   "source": [
    "# calculating the trend line\n",
    "z = np.polyfit(df_col_merged['Core Distance'],df_col_merged['Gene Difference Length'], 1)\n",
    "p = np.poly1d(z)\n",
    "plt.plot(df_col_merged['Core Distance'],p(df_col_merged['Core Distance']),\"r--\")\n",
    "# the line equation:\n",
    "print(\"y=%.6fx+(%.6f)\"%(z[0],z[1]))"
   ]
  },
  {
   "cell_type": "code",
   "execution_count": 125,
   "metadata": {},
   "outputs": [
    {
     "data": {
      "image/png": "[encoded data removed]",
      "text/plain": [
       "<Figure size 640x480 with 1 Axes>"
      ]
     },
     "metadata": {
      "needs_background": "light"
     },
     "output_type": "display_data"
    }
   ],
   "source": [
    "figure(figsize=(8, 6), dpi=80)\n",
    "plt.scatter(df_col_merged['Core Distance'],df_col_merged['Gene Difference Length'], color='b')\n",
    "plt.plot(df_col_merged['Core Distance'],p(df_col_merged['Core Distance']),\"r--\")\n",
    "plt.title('Core  Distance versus Gene Difference in Closely Related Pairs of S. aureus')\n",
    "plt.xlabel('Core Distance')\n",
    "plt.ylabel('Gene Difference')\n",
    "plt.savefig(r\"C:\\Users\\jojoa\\GitHub\\staph\\images\\dist_vs_dist\")"
   ]
  },
  {
   "cell_type": "code",
   "execution_count": 105,
   "metadata": {},
   "outputs": [
    {
     "data": {
      "text/plain": [
       "215.392571860346"
      ]
     },
     "execution_count": 105,
     "metadata": {},
     "output_type": "execute_result"
    }
   ],
   "source": [
    "statistics.stdev(df_col_merged['Gene Difference Length'])"
   ]
  },
  {
   "cell_type": "markdown",
   "metadata": {},
   "source": [
    "Let's see which gene was included the most in the gene difference."
   ]
  },
  {
   "cell_type": "code",
   "execution_count": 134,
   "metadata": {},
   "outputs": [],
   "source": [
    "all_genes=[]\n",
    "for i in range(0,len(df_col_merged['Gene Difference'])):\n",
    "    all_genes.append(df_col_merged['Gene Difference'][i]) #make the series of arrays into just one array"
   ]
  },
  {
   "cell_type": "code",
   "execution_count": 138,
   "metadata": {},
   "outputs": [],
   "source": [
    "genes_list=np.concatenate(all_genes).ravel().tolist() #make all the arrays just flatten into one list"
   ]
  },
  {
   "cell_type": "code",
   "execution_count": 129,
   "metadata": {},
   "outputs": [],
   "source": [
    "from collections import Counter"
   ]
  },
  {
   "cell_type": "code",
   "execution_count": 144,
   "metadata": {},
   "outputs": [],
   "source": [
    "count=Counter(genes_list) #count all instances of genes in closely related strains\n",
    "count=count.most_common() #sort by max occurrences to min"
   ]
  },
  {
   "cell_type": "markdown",
   "metadata": {},
   "source": [
    "Now we have a detailed list of all the genes in the closely related strains ranked by how often they show up in the pairs."
   ]
  },
  {
   "cell_type": "code",
   "execution_count": 165,
   "metadata": {},
   "outputs": [
    {
     "name": "stderr",
     "output_type": "stream",
     "text": [
      "C:\\Users\\jojoa\\.conda\\envs\\disperse_env\\lib\\site-packages\\IPython\\core\\interactiveshell.py:3165: DtypeWarning: Columns (14,15,16,17,18,19,20,21,22,23,24,25,26,27,28,29,30,31,32,33,34,35,36,37,38,39,40,41,42,43,44,45,46,47,48,49,50,51,52,53,54,55,56,57,58,59,60,61,62,63,64,65,66,68,69,70,71,72,73,74,75,76,77,78,79,80,81,82,83,84,85,86,87,88,89,90,91,92,93,94,95,96,97,98,99,100,101,102,103,104,105,106,107,108,109,110,111,112,113) have mixed types.Specify dtype option on import or set low_memory=False.\n",
      "  has_raised = await self.run_ast_nodes(code_ast.body, cell_name,\n"
     ]
    }
   ],
   "source": [
    "df_gene=pd.read_csv(r\"C:\\Users\\jojoa\\GitHub\\staph\\data\\presence_absence.csv\") #dataframe with gene names"
   ]
  },
  {
   "cell_type": "code",
   "execution_count": 166,
   "metadata": {},
   "outputs": [
    {
     "data": {
      "text/plain": [
       "'group_1428'"
      ]
     },
     "execution_count": 166,
     "metadata": {},
     "output_type": "execute_result"
    }
   ],
   "source": [
    "df_gene['Gene'][2333] #gene with most occurences"
   ]
  },
  {
   "cell_type": "markdown",
   "metadata": {},
   "source": [
    "This means that gene number 2333 is the highest occuring gene, with the actual gene being group_1428."
   ]
  },
  {
   "cell_type": "code",
   "execution_count": 167,
   "metadata": {},
   "outputs": [],
   "source": [
    "element=count[0]"
   ]
  },
  {
   "cell_type": "code",
   "execution_count": 168,
   "metadata": {},
   "outputs": [
    {
     "data": {
      "text/plain": [
       "2333"
      ]
     },
     "execution_count": 168,
     "metadata": {},
     "output_type": "execute_result"
    }
   ],
   "source": [
    "element[0]"
   ]
  },
  {
   "cell_type": "code",
   "execution_count": 173,
   "metadata": {},
   "outputs": [],
   "source": [
    "x_val = [x[0] for x in count]\n",
    "y_val = [x[1] for x in count]"
   ]
  },
  {
   "cell_type": "code",
   "execution_count": 196,
   "metadata": {},
   "outputs": [
    {
     "data": {
      "image/png": "[encoded data removed]",
      "text/plain": [
       "<Figure size 640x480 with 1 Axes>"
      ]
     },
     "metadata": {
      "needs_background": "light"
     },
     "output_type": "display_data"
    }
   ],
   "source": [
    "figure(figsize=(8, 6), dpi=80)\n",
    "plt.bar(x_val,y_val,color='green',width=10)\n",
    "plt.xlabel('Gene Index Number')\n",
    "plt.ylabel('Number of Occurrences')\n",
    "plt.title('Frequency of Genes in Closely Related Strains')\n",
    "plt.savefig(r\"C:\\Users\\jojoa\\GitHub\\staph\\images\\freq_bar\")"
   ]
  },
  {
   "cell_type": "code",
   "execution_count": null,
   "metadata": {},
   "outputs": [],
   "source": []
  }
 ],
 "metadata": {
  "kernelspec": {
   "display_name": "Python 3",
   "language": "python",
   "name": "python3"
  },
  "language_info": {
   "codemirror_mode": {
    "name": "ipython",
    "version": 3
   },
   "file_extension": ".py",
   "mimetype": "text/x-python",
   "name": "python",
   "nbconvert_exporter": "python",
   "pygments_lexer": "ipython3",
   "version": "3.8.8"
  }
 },
 "nbformat": 4,
 "nbformat_minor": 4
}
